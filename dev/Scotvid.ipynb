{
 "cells": [
  {
   "cell_type": "code",
   "execution_count": 481,
   "metadata": {},
   "outputs": [],
   "source": [
    "import pandas as pd\n",
    "import matplotlib.pyplot as plt\n",
    "import numpy as np"
   ]
  },
  {
   "cell_type": "code",
   "execution_count": 482,
   "metadata": {},
   "outputs": [],
   "source": [
    "RANGE=120\n",
    "HOSPITAL_OFFSET=7\n",
    "ICU_OFFSET=14\n",
    "FONT_SIZE=12\n",
    "DEATH_DELAY=3"
   ]
  },
  {
   "cell_type": "code",
   "execution_count": 483,
   "metadata": {},
   "outputs": [],
   "source": [
    "df_cases=pd.read_csv('https://www.opendata.nhs.scot/dataset/b318bddf-a4dc-4262-971f-0ba329e09b87/resource/287fc645-4352-4477-9c8c-55bc054b7e76/download/daily_cuml_scot_20211206.csv', index_col='Date',parse_dates=True)\n",
    "df_hospital=pd.read_csv('https://www.opendata.nhs.scot/dataset/b318bddf-a4dc-4262-971f-0ba329e09b87/resource/2dd8534b-0a6f-4744-9253-9565d62f96c2/download/trend_hb_20211206.csv', index_col='Date',parse_dates=True)\n",
    "\n",
    "df_hospital=df_hospital[df_hospital['HBName']=='Scotland']"
   ]
  },
  {
   "cell_type": "code",
   "execution_count": 487,
   "metadata": {},
   "outputs": [
    {
     "data": {
      "text/html": [
       "<div>\n",
       "<style scoped>\n",
       "    .dataframe tbody tr th:only-of-type {\n",
       "        vertical-align: middle;\n",
       "    }\n",
       "\n",
       "    .dataframe tbody tr th {\n",
       "        vertical-align: top;\n",
       "    }\n",
       "\n",
       "    .dataframe thead th {\n",
       "        text-align: right;\n",
       "    }\n",
       "</style>\n",
       "<table border=\"1\" class=\"dataframe\">\n",
       "  <thead>\n",
       "    <tr style=\"text-align: right;\">\n",
       "      <th></th>\n",
       "      <th>HB</th>\n",
       "      <th>HBName</th>\n",
       "      <th>DailyPositive</th>\n",
       "      <th>CumulativePositive</th>\n",
       "      <th>CrudeRatePositive</th>\n",
       "      <th>CrudeRate7DayPositive</th>\n",
       "      <th>DailyDeaths</th>\n",
       "      <th>CumulativeDeaths</th>\n",
       "      <th>CrudeRateDeaths</th>\n",
       "      <th>DailyNegative</th>\n",
       "      <th>...</th>\n",
       "      <th>PositivePercentage</th>\n",
       "      <th>PositivePercentage7Day</th>\n",
       "      <th>TotalPillar1</th>\n",
       "      <th>TotalPillar2</th>\n",
       "      <th>HospitalAdmissions</th>\n",
       "      <th>HospitalAdmissionsQF</th>\n",
       "      <th>ICUAdmissions</th>\n",
       "      <th>ICUAdmissionsQF</th>\n",
       "      <th>PositivePillar1</th>\n",
       "      <th>PositivePillar2</th>\n",
       "    </tr>\n",
       "    <tr>\n",
       "      <th>Date</th>\n",
       "      <th></th>\n",
       "      <th></th>\n",
       "      <th></th>\n",
       "      <th></th>\n",
       "      <th></th>\n",
       "      <th></th>\n",
       "      <th></th>\n",
       "      <th></th>\n",
       "      <th></th>\n",
       "      <th></th>\n",
       "      <th></th>\n",
       "      <th></th>\n",
       "      <th></th>\n",
       "      <th></th>\n",
       "      <th></th>\n",
       "      <th></th>\n",
       "      <th></th>\n",
       "      <th></th>\n",
       "      <th></th>\n",
       "      <th></th>\n",
       "      <th></th>\n",
       "    </tr>\n",
       "  </thead>\n",
       "  <tbody>\n",
       "    <tr>\n",
       "      <th>2021-12-24</th>\n",
       "      <td>S92000003</td>\n",
       "      <td>Scotland</td>\n",
       "      <td>8716</td>\n",
       "      <td>862680</td>\n",
       "      <td>15782.656422</td>\n",
       "      <td>1076.472741</td>\n",
       "      <td>1</td>\n",
       "      <td>9835</td>\n",
       "      <td>179.930479</td>\n",
       "      <td>4690</td>\n",
       "      <td>...</td>\n",
       "      <td>27.765088</td>\n",
       "      <td>18.605280</td>\n",
       "      <td>9125</td>\n",
       "      <td>27212</td>\n",
       "      <td>NaN</td>\n",
       "      <td>:</td>\n",
       "      <td>9.0</td>\n",
       "      <td>NaN</td>\n",
       "      <td>512</td>\n",
       "      <td>9577</td>\n",
       "    </tr>\n",
       "    <tr>\n",
       "      <th>2021-12-25</th>\n",
       "      <td>S92000003</td>\n",
       "      <td>Scotland</td>\n",
       "      <td>4466</td>\n",
       "      <td>867146</td>\n",
       "      <td>15864.361508</td>\n",
       "      <td>1068.203439</td>\n",
       "      <td>0</td>\n",
       "      <td>9835</td>\n",
       "      <td>179.930479</td>\n",
       "      <td>1839</td>\n",
       "      <td>...</td>\n",
       "      <td>36.619411</td>\n",
       "      <td>19.639876</td>\n",
       "      <td>2761</td>\n",
       "      <td>10994</td>\n",
       "      <td>NaN</td>\n",
       "      <td>:</td>\n",
       "      <td>3.0</td>\n",
       "      <td>NaN</td>\n",
       "      <td>209</td>\n",
       "      <td>4828</td>\n",
       "    </tr>\n",
       "    <tr>\n",
       "      <th>2021-12-26</th>\n",
       "      <td>S92000003</td>\n",
       "      <td>Scotland</td>\n",
       "      <td>6722</td>\n",
       "      <td>873868</td>\n",
       "      <td>15987.339920</td>\n",
       "      <td>1094.804244</td>\n",
       "      <td>1</td>\n",
       "      <td>9836</td>\n",
       "      <td>179.948774</td>\n",
       "      <td>3224</td>\n",
       "      <td>...</td>\n",
       "      <td>30.945885</td>\n",
       "      <td>20.849796</td>\n",
       "      <td>5832</td>\n",
       "      <td>18727</td>\n",
       "      <td>NaN</td>\n",
       "      <td>:</td>\n",
       "      <td>6.0</td>\n",
       "      <td>NaN</td>\n",
       "      <td>426</td>\n",
       "      <td>7174</td>\n",
       "    </tr>\n",
       "    <tr>\n",
       "      <th>2021-12-27</th>\n",
       "      <td>S92000003</td>\n",
       "      <td>Scotland</td>\n",
       "      <td>11829</td>\n",
       "      <td>885697</td>\n",
       "      <td>16203.750457</td>\n",
       "      <td>1163.483352</td>\n",
       "      <td>0</td>\n",
       "      <td>9836</td>\n",
       "      <td>179.948774</td>\n",
       "      <td>5915</td>\n",
       "      <td>...</td>\n",
       "      <td>28.475680</td>\n",
       "      <td>23.560579</td>\n",
       "      <td>13317</td>\n",
       "      <td>34278</td>\n",
       "      <td>NaN</td>\n",
       "      <td>:</td>\n",
       "      <td>6.0</td>\n",
       "      <td>NaN</td>\n",
       "      <td>776</td>\n",
       "      <td>12777</td>\n",
       "    </tr>\n",
       "    <tr>\n",
       "      <th>2021-12-28</th>\n",
       "      <td>S92000003</td>\n",
       "      <td>Scotland</td>\n",
       "      <td>367</td>\n",
       "      <td>886064</td>\n",
       "      <td>16210.464691</td>\n",
       "      <td>992.517380</td>\n",
       "      <td>0</td>\n",
       "      <td>9836</td>\n",
       "      <td>179.948774</td>\n",
       "      <td>413</td>\n",
       "      <td>...</td>\n",
       "      <td>13.038313</td>\n",
       "      <td>25.417676</td>\n",
       "      <td>2827</td>\n",
       "      <td>540</td>\n",
       "      <td>NaN</td>\n",
       "      <td>:</td>\n",
       "      <td>7.0</td>\n",
       "      <td>NaN</td>\n",
       "      <td>260</td>\n",
       "      <td>179</td>\n",
       "    </tr>\n",
       "  </tbody>\n",
       "</table>\n",
       "<p>5 rows × 24 columns</p>\n",
       "</div>"
      ],
      "text/plain": [
       "                   HB    HBName  DailyPositive  CumulativePositive  \\\n",
       "Date                                                                 \n",
       "2021-12-24  S92000003  Scotland           8716              862680   \n",
       "2021-12-25  S92000003  Scotland           4466              867146   \n",
       "2021-12-26  S92000003  Scotland           6722              873868   \n",
       "2021-12-27  S92000003  Scotland          11829              885697   \n",
       "2021-12-28  S92000003  Scotland            367              886064   \n",
       "\n",
       "            CrudeRatePositive  CrudeRate7DayPositive  DailyDeaths  \\\n",
       "Date                                                                \n",
       "2021-12-24       15782.656422            1076.472741            1   \n",
       "2021-12-25       15864.361508            1068.203439            0   \n",
       "2021-12-26       15987.339920            1094.804244            1   \n",
       "2021-12-27       16203.750457            1163.483352            0   \n",
       "2021-12-28       16210.464691             992.517380            0   \n",
       "\n",
       "            CumulativeDeaths  CrudeRateDeaths  DailyNegative  ...  \\\n",
       "Date                                                          ...   \n",
       "2021-12-24              9835       179.930479           4690  ...   \n",
       "2021-12-25              9835       179.930479           1839  ...   \n",
       "2021-12-26              9836       179.948774           3224  ...   \n",
       "2021-12-27              9836       179.948774           5915  ...   \n",
       "2021-12-28              9836       179.948774            413  ...   \n",
       "\n",
       "            PositivePercentage  PositivePercentage7Day  TotalPillar1  \\\n",
       "Date                                                                   \n",
       "2021-12-24           27.765088               18.605280          9125   \n",
       "2021-12-25           36.619411               19.639876          2761   \n",
       "2021-12-26           30.945885               20.849796          5832   \n",
       "2021-12-27           28.475680               23.560579         13317   \n",
       "2021-12-28           13.038313               25.417676          2827   \n",
       "\n",
       "            TotalPillar2  HospitalAdmissions  HospitalAdmissionsQF  \\\n",
       "Date                                                                 \n",
       "2021-12-24         27212                 NaN                     :   \n",
       "2021-12-25         10994                 NaN                     :   \n",
       "2021-12-26         18727                 NaN                     :   \n",
       "2021-12-27         34278                 NaN                     :   \n",
       "2021-12-28           540                 NaN                     :   \n",
       "\n",
       "            ICUAdmissions  ICUAdmissionsQF  PositivePillar1 PositivePillar2  \n",
       "Date                                                                         \n",
       "2021-12-24            9.0              NaN              512            9577  \n",
       "2021-12-25            3.0              NaN              209            4828  \n",
       "2021-12-26            6.0              NaN              426            7174  \n",
       "2021-12-27            6.0              NaN              776           12777  \n",
       "2021-12-28            7.0              NaN              260             179  \n",
       "\n",
       "[5 rows x 24 columns]"
      ]
     },
     "execution_count": 487,
     "metadata": {},
     "output_type": "execute_result"
    }
   ],
   "source": [
    "df_hospital.tail()"
   ]
  },
  {
   "cell_type": "code",
   "execution_count": 484,
   "metadata": {},
   "outputs": [
    {
     "ename": "ValueError",
     "evalue": "cannot convert float NaN to integer",
     "output_type": "error",
     "traceback": [
      "\u001b[1;31m---------------------------------------------------------------------------\u001b[0m",
      "\u001b[1;31mValueError\u001b[0m                                Traceback (most recent call last)",
      "\u001b[1;32m<ipython-input-484-a83aef24a462>\u001b[0m in \u001b[0;36m<module>\u001b[1;34m\u001b[0m\n\u001b[0;32m     60\u001b[0m \u001b[0my_min\u001b[0m\u001b[1;33m,\u001b[0m \u001b[0my_max\u001b[0m \u001b[1;33m=\u001b[0m \u001b[0maxes\u001b[0m\u001b[1;33m.\u001b[0m\u001b[0mget_ylim\u001b[0m\u001b[1;33m(\u001b[0m\u001b[1;33m)\u001b[0m\u001b[1;33m\u001b[0m\u001b[1;33m\u001b[0m\u001b[0m\n\u001b[0;32m     61\u001b[0m \u001b[1;33m\u001b[0m\u001b[0m\n\u001b[1;32m---> 62\u001b[1;33m \u001b[0mplt\u001b[0m\u001b[1;33m.\u001b[0m\u001b[0mtext\u001b[0m\u001b[1;33m(\u001b[0m\u001b[0ms\u001b[0m\u001b[1;33m=\u001b[0m\u001b[1;34m'Latest Average: '\u001b[0m\u001b[1;33m+\u001b[0m\u001b[0mstr\u001b[0m\u001b[1;33m(\u001b[0m\u001b[0mint\u001b[0m\u001b[1;33m(\u001b[0m\u001b[0mdf_hospital\u001b[0m\u001b[1;33m[\u001b[0m\u001b[1;34m'HospitalAdmissions'\u001b[0m\u001b[1;33m]\u001b[0m\u001b[1;33m.\u001b[0m\u001b[0miloc\u001b[0m\u001b[1;33m[\u001b[0m\u001b[1;33m-\u001b[0m\u001b[0mRANGE\u001b[0m\u001b[1;33m:\u001b[0m\u001b[1;33m-\u001b[0m\u001b[1;36m1\u001b[0m\u001b[1;33m]\u001b[0m\u001b[1;33m.\u001b[0m\u001b[0mrolling\u001b[0m\u001b[1;33m(\u001b[0m\u001b[0mwindow\u001b[0m\u001b[1;33m=\u001b[0m\u001b[1;36m7\u001b[0m\u001b[1;33m)\u001b[0m\u001b[1;33m.\u001b[0m\u001b[0mmean\u001b[0m\u001b[1;33m(\u001b[0m\u001b[1;33m)\u001b[0m\u001b[1;33m[\u001b[0m\u001b[1;33m-\u001b[0m\u001b[1;36m3\u001b[0m\u001b[1;33m]\u001b[0m\u001b[1;33m)\u001b[0m\u001b[1;33m)\u001b[0m\u001b[1;33m,\u001b[0m\u001b[0mx\u001b[0m\u001b[1;33m=\u001b[0m\u001b[0mdf_hospital\u001b[0m\u001b[1;33m[\u001b[0m\u001b[1;34m'HospitalAdmissions'\u001b[0m\u001b[1;33m]\u001b[0m\u001b[1;33m.\u001b[0m\u001b[0mindex\u001b[0m\u001b[1;33m[\u001b[0m\u001b[1;33m-\u001b[0m\u001b[1;36m50\u001b[0m\u001b[1;33m]\u001b[0m\u001b[1;33m,\u001b[0m\u001b[0my\u001b[0m\u001b[1;33m=\u001b[0m\u001b[1;36m0.9\u001b[0m\u001b[1;33m*\u001b[0m\u001b[0my_max\u001b[0m\u001b[1;33m,\u001b[0m\u001b[0mc\u001b[0m\u001b[1;33m=\u001b[0m\u001b[1;34m'C3'\u001b[0m\u001b[1;33m,\u001b[0m \u001b[0mfontsize\u001b[0m\u001b[1;33m=\u001b[0m\u001b[0mFONT_SIZE\u001b[0m\u001b[1;33m,\u001b[0m \u001b[0mweight\u001b[0m\u001b[1;33m=\u001b[0m\u001b[1;34m'bold'\u001b[0m\u001b[1;33m)\u001b[0m\u001b[1;33m\u001b[0m\u001b[1;33m\u001b[0m\u001b[0m\n\u001b[0m\u001b[0;32m     63\u001b[0m \u001b[0mplt\u001b[0m\u001b[1;33m.\u001b[0m\u001b[0mtext\u001b[0m\u001b[1;33m(\u001b[0m\u001b[0ms\u001b[0m\u001b[1;33m=\u001b[0m\u001b[1;34m'Last Week: '\u001b[0m\u001b[1;33m+\u001b[0m\u001b[0mstr\u001b[0m\u001b[1;33m(\u001b[0m\u001b[0mint\u001b[0m\u001b[1;33m(\u001b[0m\u001b[0mdf_hospital\u001b[0m\u001b[1;33m[\u001b[0m\u001b[1;34m'HospitalAdmissions'\u001b[0m\u001b[1;33m]\u001b[0m\u001b[1;33m.\u001b[0m\u001b[0miloc\u001b[0m\u001b[1;33m[\u001b[0m\u001b[1;33m-\u001b[0m\u001b[0mRANGE\u001b[0m\u001b[1;33m:\u001b[0m\u001b[1;33m-\u001b[0m\u001b[1;36m8\u001b[0m\u001b[1;33m]\u001b[0m\u001b[1;33m.\u001b[0m\u001b[0mrolling\u001b[0m\u001b[1;33m(\u001b[0m\u001b[0mwindow\u001b[0m\u001b[1;33m=\u001b[0m\u001b[1;36m7\u001b[0m\u001b[1;33m)\u001b[0m\u001b[1;33m.\u001b[0m\u001b[0mmean\u001b[0m\u001b[1;33m(\u001b[0m\u001b[1;33m)\u001b[0m\u001b[1;33m[\u001b[0m\u001b[1;33m-\u001b[0m\u001b[1;36m1\u001b[0m\u001b[1;33m]\u001b[0m\u001b[1;33m)\u001b[0m\u001b[1;33m)\u001b[0m\u001b[1;33m,\u001b[0m\u001b[0mx\u001b[0m\u001b[1;33m=\u001b[0m\u001b[0mdf_hospital\u001b[0m\u001b[1;33m[\u001b[0m\u001b[1;34m'HospitalAdmissions'\u001b[0m\u001b[1;33m]\u001b[0m\u001b[1;33m.\u001b[0m\u001b[0mindex\u001b[0m\u001b[1;33m[\u001b[0m\u001b[1;33m-\u001b[0m\u001b[1;36m50\u001b[0m\u001b[1;33m]\u001b[0m\u001b[1;33m,\u001b[0m\u001b[0my\u001b[0m\u001b[1;33m=\u001b[0m\u001b[1;36m0.85\u001b[0m\u001b[1;33m*\u001b[0m\u001b[0my_max\u001b[0m\u001b[1;33m,\u001b[0m\u001b[0mc\u001b[0m\u001b[1;33m=\u001b[0m\u001b[1;34m'C3'\u001b[0m\u001b[1;33m,\u001b[0m \u001b[0mfontsize\u001b[0m\u001b[1;33m=\u001b[0m\u001b[0mFONT_SIZE\u001b[0m\u001b[1;33m,\u001b[0m \u001b[0mweight\u001b[0m\u001b[1;33m=\u001b[0m\u001b[1;34m'bold'\u001b[0m\u001b[1;33m,\u001b[0m\u001b[0malpha\u001b[0m\u001b[1;33m=\u001b[0m\u001b[1;36m0.5\u001b[0m\u001b[1;33m)\u001b[0m\u001b[1;33m\u001b[0m\u001b[1;33m\u001b[0m\u001b[0m\n\u001b[0;32m     64\u001b[0m \u001b[1;33m\u001b[0m\u001b[0m\n",
      "\u001b[1;31mValueError\u001b[0m: cannot convert float NaN to integer"
     ]
    },
    {
     "data": {
      "image/png": "[encoded data removed]",
      "text/plain": [
       "<Figure size 1440x720 with 3 Axes>"
      ]
     },
     "metadata": {
      "needs_background": "light"
     },
     "output_type": "display_data"
    }
   ],
   "source": [
    "fig=plt.figure(figsize=(20,10))\n",
    "fig.suptitle('Scotland Covid Update (Data up to '+df_cases.index[-1].strftime(\"%d/%m/%Y\")+\")\", fontsize=20)\n",
    "\n",
    "#\n",
    "# Cases\n",
    "#\n",
    "\n",
    "plt.subplot(2,3,1)\n",
    "\n",
    "df_cases['DailyCases'].iloc[-RANGE:-1].plot(alpha=0.5)\n",
    "df_cases['DailyCases'].iloc[-RANGE:-1].rolling(window=7).mean().plot(lw=3,c='C0')\n",
    "\n",
    "plt.ylabel('Cases (by specimen date)')\n",
    "plt.xlabel(' ')\n",
    "plt.title('New Cases By Specimen Date')\n",
    "\n",
    "axes = plt.gca()\n",
    "y_min, y_max = axes.get_ylim()\n",
    "\n",
    "plt.text(s='Latest Average: '+str(int(df_cases['DailyCases'].iloc[-RANGE:-1].rolling(window=7).mean()[-3])),x=df_cases['DailyCases'].index[-50],y=0.9*y_max,c='C0', fontsize=FONT_SIZE, weight='bold')\n",
    "plt.text(s='Last Week: '+str(int(df_cases['DailyCases'].iloc[-RANGE:-8].rolling(window=7).mean()[-1])),x=df_cases['DailyCases'].index[-50],y=0.85*y_max,c='C0', fontsize=FONT_SIZE, weight='bold',alpha=0.5)\n",
    "\n",
    "x_min, x_max = axes.get_xlim()\n",
    "axes.set_xlim(x_min, x_max+2)\n",
    "\n",
    "#\n",
    "# Pos Rate\n",
    "#\n",
    "\n",
    "plt.subplot(2,3,2)\n",
    "df_hospital['PositivePercentage'].iloc[-RANGE:-1].plot(alpha=0.5,c='C6')\n",
    "df_hospital['PositivePercentage'].iloc[-RANGE:-1].rolling(window=7).mean().plot(lw=3,c='C6')\n",
    "\n",
    "plt.ylabel('Positive Test Rate (%)')\n",
    "plt.xlabel(' ')\n",
    "plt.title('Daily Test Positivity Rate')\n",
    "\n",
    "axes = plt.gca()\n",
    "y_min, y_max = axes.get_ylim()\n",
    "\n",
    "plt.text(s='Latest Average: '+str(np.round(df_hospital['PositivePercentage'].iloc[-RANGE:-1].rolling(window=7).mean()[-3],2))+'%',x=df_hospital['PositivePercentage'].index[-50],y=0.9*y_max,c='C6', fontsize=FONT_SIZE, weight='bold')\n",
    "plt.text(s='Last Week: '+str(np.round(df_hospital['PositivePercentage'].iloc[-RANGE:-8].rolling(window=7).mean()[-1],2))+'%',x=df_hospital['PositivePercentage'].index[-50],y=0.87*y_max,c='C6', fontsize=FONT_SIZE, weight='bold',alpha=0.5)\n",
    "\n",
    "x_min, x_max = axes.get_xlim()\n",
    "axes.set_xlim(x_min, x_max+2)\n",
    "\n",
    "#\n",
    "# Hospital Admissions\n",
    "#\n",
    "\n",
    "plt.subplot(2,3,3)\n",
    "df_hospital['HospitalAdmissions'].iloc[-RANGE:-1].plot(alpha=0.5,c='C3')\n",
    "df_hospital['HospitalAdmissions'].iloc[-RANGE:-1].rolling(window=7).mean().plot(lw=3,c='C3')\n",
    "\n",
    "plt.ylabel('Hospitalisations per Day')\n",
    "plt.xlabel(' ')\n",
    "plt.title('Daily Hospitalisations')\n",
    "\n",
    "axes = plt.gca()\n",
    "y_min, y_max = axes.get_ylim()\n",
    "\n",
    "plt.text(s='Latest Average: '+str(int(df_hospital['HospitalAdmissions'].iloc[-RANGE:-1].rolling(window=7).mean()[-3])),x=df_hospital['HospitalAdmissions'].index[-50],y=0.9*y_max,c='C3', fontsize=FONT_SIZE, weight='bold')\n",
    "plt.text(s='Last Week: '+str(int(df_hospital['HospitalAdmissions'].iloc[-RANGE:-8].rolling(window=7).mean()[-1])),x=df_hospital['HospitalAdmissions'].index[-50],y=0.85*y_max,c='C3', fontsize=FONT_SIZE, weight='bold',alpha=0.5)\n",
    "\n",
    "\n",
    "# \n",
    "# Hospitalisation Rate\n",
    "#\n",
    "\n",
    "plt.subplot(2,3,4)\n",
    "((df_hospital['HospitalAdmissions'].iloc[-RANGE:-1]/df_cases['DailyCases'].iloc[-RANGE:-1].shift(HOSPITAL_OFFSET))*100).plot(c='C2',alpha=0.5)\n",
    "((df_hospital['HospitalAdmissions'].iloc[-RANGE:-1]/df_cases['DailyCases'].iloc[-RANGE:-1].shift(HOSPITAL_OFFSET))*100).rolling(window=7).mean().plot(c='C2',lw=3)\n",
    "plt.ylabel('Hospitalisation Rate (%)')\n",
    "plt.xlabel(' ')\n",
    "plt.title('Rate of Hospitalisation of Cases 7 Days Prior')\n",
    "\n",
    "latest=((df_hospital['HospitalAdmissions'].iloc[-RANGE:-1]/df_cases['DailyCases'].iloc[-RANGE:-1].shift(HOSPITAL_OFFSET))*100).rolling(window=7).mean()[-3]\n",
    "last_week=((df_hospital['HospitalAdmissions'].iloc[-RANGE:-8]/df_cases['DailyCases'].iloc[-RANGE:-8].shift(HOSPITAL_OFFSET))*100).rolling(window=7).mean()[-1]\n",
    "\n",
    "axes = plt.gca()\n",
    "y_min, y_max = axes.get_ylim()\n",
    "\n",
    "plt.text(s='Latest Average: '+str(np.round(latest,2))+'%',x=df_hospital['HospitalAdmissions'].index[-50],y=0.9*y_max,c='C2', fontsize=FONT_SIZE, weight='bold')\n",
    "plt.text(s='Latest Average: '+str(np.round(last_week,2))+'%',x=df_hospital['HospitalAdmissions'].index[-50],y=0.86*y_max,c='C2', fontsize=FONT_SIZE, weight='bold',alpha=0.5)\n",
    "\n",
    "\n",
    "# \n",
    "# ICU Rate\n",
    "#\n",
    "\n",
    "plt.subplot(2,3,5)\n",
    "df_hospital['ICUAdmissions']\n",
    "((df_hospital['ICUAdmissions'].iloc[-RANGE:-1]/df_cases['DailyCases'].iloc[-RANGE:-1].shift(ICU_OFFSET))*100).plot(c='C4',alpha=0.5)\n",
    "((df_hospital['ICUAdmissions'].iloc[-RANGE:-1]/df_cases['DailyCases'].iloc[-RANGE:-1].shift(ICU_OFFSET))*100).rolling(window=7).mean().plot(c='C4',lw=3)\n",
    "\n",
    "((df_hospital['ICUAdmissions'].iloc[-RANGE:-1]/df_hospital['HospitalAdmissions'].shift(HOSPITAL_OFFSET).iloc[-RANGE:-1])*100).plot(c='C4',alpha=0.5)\n",
    "((df_hospital['ICUAdmissions'].iloc[-RANGE:-1]/df_hospital['HospitalAdmissions'].shift(HOSPITAL_OFFSET).iloc[-RANGE:-1])*100).rolling(window=7).mean().plot(c='C4',lw=3)\n",
    "\n",
    "plt.ylim(0,10)\n",
    "plt.ylabel('ICU Rate (%)')\n",
    "plt.xlabel(' ')\n",
    "plt.title('Rate of ICU Admission of Cases 14 Days Prior')\n",
    "plt.tight_layout()\n",
    "\n",
    "latest=((df_hospital['ICUAdmissions'].iloc[-RANGE:-1]/df_cases['DailyCases'].iloc[-RANGE:-1].shift(ICU_OFFSET))*100).rolling(window=7).mean()[-1]\n",
    "last_week=((df_hospital['ICUAdmissions'].iloc[-RANGE:-8]/df_cases['DailyCases'].iloc[-RANGE:-8].shift(ICU_OFFSET))*100).rolling(window=7).mean()[-1]\n",
    "axes = plt.gca()\n",
    "y_min, y_max = axes.get_ylim()\n",
    "plt.text(s='Latest Average: '+str(np.round(latest,2))+'%',x=df_hospital['ICUAdmissions'].index[-50],y=0.9*y_max,c='C4', fontsize=FONT_SIZE, weight='bold')\n",
    "plt.text(s='Last Week: '+str(np.round(last_week,2))+'%',x=df_hospital['ICUAdmissions'].index[-50],y=0.85*y_max,c='C4', fontsize=FONT_SIZE, weight='bold',alpha=0.5)\n",
    "\n",
    "x_min, x_max = axes.get_xlim()\n",
    "axes.set_xlim(x_min, x_max+2)\n",
    "\n",
    "#\n",
    "# Deaths\n",
    "#\n",
    "\n",
    "plt.subplot(2,3,6)\n",
    "df_hospital['DailyDeaths'].iloc[-RANGE:-DEATH_DELAY].plot(alpha=0.5,c='C5')\n",
    "df_hospital['DailyDeaths'].iloc[-RANGE:-DEATH_DELAY].rolling(window=7).mean().plot(lw=3,c='C5')\n",
    "\n",
    "plt.ylabel('Number of Daily Deaths')\n",
    "plt.xlabel(' ')\n",
    "plt.title('Daily Number of Deaths (within 28 days of COVID)')\n",
    "plt.tight_layout()\n",
    "axes = plt.gca()\n",
    "y_min, y_max = axes.get_ylim()\n",
    "plt.text(s='Latest Average: '+str(int(df_hospital['DailyDeaths'].iloc[-RANGE:-DEATH_DELAY].rolling(window=7).mean()[-3])),x=df_hospital['DailyDeaths'].index[-50],y=0.9*y_max,c='C5', fontsize=FONT_SIZE, weight='bold')\n",
    "plt.text(s='Last Week: '+str(int(df_hospital['DailyDeaths'].iloc[-RANGE:-DEATH_DELAY-7].rolling(window=7).mean()[-3])),x=df_hospital['DailyDeaths'].index[-50],y=0.85*y_max,c='C5', fontsize=FONT_SIZE, weight='bold',alpha=0.5)\n",
    "\n",
    "x_min, x_max = axes.get_xlim()\n",
    "axes.set_xlim(x_min, x_max+2)"
   ]
  },
  {
   "cell_type": "code",
   "execution_count": 485,
   "metadata": {},
   "outputs": [
    {
     "data": {
      "text/html": [
       "<div>\n",
       "<style scoped>\n",
       "    .dataframe tbody tr th:only-of-type {\n",
       "        vertical-align: middle;\n",
       "    }\n",
       "\n",
       "    .dataframe tbody tr th {\n",
       "        vertical-align: top;\n",
       "    }\n",
       "\n",
       "    .dataframe thead th {\n",
       "        text-align: right;\n",
       "    }\n",
       "</style>\n",
       "<table border=\"1\" class=\"dataframe\">\n",
       "  <thead>\n",
       "    <tr style=\"text-align: right;\">\n",
       "      <th></th>\n",
       "      <th>HB</th>\n",
       "      <th>HBName</th>\n",
       "      <th>DailyPositive</th>\n",
       "      <th>CumulativePositive</th>\n",
       "      <th>CrudeRatePositive</th>\n",
       "      <th>CrudeRate7DayPositive</th>\n",
       "      <th>DailyDeaths</th>\n",
       "      <th>CumulativeDeaths</th>\n",
       "      <th>CrudeRateDeaths</th>\n",
       "      <th>DailyNegative</th>\n",
       "      <th>...</th>\n",
       "      <th>TotalPillar1</th>\n",
       "      <th>TotalPillar2</th>\n",
       "      <th>HospitalAdmissions</th>\n",
       "      <th>HospitalAdmissionsQF</th>\n",
       "      <th>ICUAdmissions</th>\n",
       "      <th>ICUAdmissionsQF</th>\n",
       "      <th>PositivePillar1</th>\n",
       "      <th>PositivePillar2</th>\n",
       "      <th>ICU+10</th>\n",
       "      <th>icu_rate</th>\n",
       "    </tr>\n",
       "    <tr>\n",
       "      <th>Date</th>\n",
       "      <th></th>\n",
       "      <th></th>\n",
       "      <th></th>\n",
       "      <th></th>\n",
       "      <th></th>\n",
       "      <th></th>\n",
       "      <th></th>\n",
       "      <th></th>\n",
       "      <th></th>\n",
       "      <th></th>\n",
       "      <th></th>\n",
       "      <th></th>\n",
       "      <th></th>\n",
       "      <th></th>\n",
       "      <th></th>\n",
       "      <th></th>\n",
       "      <th></th>\n",
       "      <th></th>\n",
       "      <th></th>\n",
       "      <th></th>\n",
       "      <th></th>\n",
       "    </tr>\n",
       "  </thead>\n",
       "  <tbody>\n",
       "  </tbody>\n",
       "</table>\n",
       "<p>0 rows × 26 columns</p>\n",
       "</div>"
      ],
      "text/plain": [
       "Empty DataFrame\n",
       "Columns: [HB, HBName, DailyPositive, CumulativePositive, CrudeRatePositive, CrudeRate7DayPositive, DailyDeaths, CumulativeDeaths, CrudeRateDeaths, DailyNegative, CumulativeNegative, CrudeRateNegative, TotalTests, PositiveTests, PositivePercentage, PositivePercentage7Day, TotalPillar1, TotalPillar2, HospitalAdmissions, HospitalAdmissionsQF, ICUAdmissions, ICUAdmissionsQF, PositivePillar1, PositivePillar2, ICU+10, icu_rate]\n",
       "Index: []\n",
       "\n",
       "[0 rows x 26 columns]"
      ]
     },
     "execution_count": 485,
     "metadata": {},
     "output_type": "execute_result"
    }
   ],
   "source": [
    "df_hosp=df_hospital.copy()\n",
    "df_hosp['ICU+10']=df_hospital['ICUAdmissions'].shift(-ICU_OFFSET)\n",
    "df_hosp['icu_rate']=df_hosp['ICU+10']/df_cases['DailyCases']\n",
    "df_hosp=df_hosp.dropna()\n",
    "df_hosp"
   ]
  },
  {
   "cell_type": "code",
   "execution_count": 8,
   "metadata": {},
   "outputs": [
    {
     "data": {
      "application/vnd.plotly.v1+json": {
       "config": {
        "plotlyServerURL": "https://plot.ly"
       },
       "data": [
        {
         "line": {
          "color": "blue"
         },
         "mode": "lines",
         "name": "Cases",
         "opacity": 0.25,
         "type": "scatter",
         "x": [
          "2021-08-17T00:00:00",
          "2021-08-18T00:00:00",
          "2021-08-19T00:00:00",
          "2021-08-20T00:00:00",
          "2021-08-21T00:00:00",
          "2021-08-22T00:00:00",
          "2021-08-23T00:00:00",
          "2021-08-24T00:00:00",
          "2021-08-25T00:00:00",
          "2021-08-26T00:00:00",
          "2021-08-27T00:00:00",
          "2021-08-28T00:00:00",
          "2021-08-29T00:00:00",
          "2021-08-30T00:00:00",
          "2021-08-31T00:00:00",
          "2021-09-01T00:00:00",
          "2021-09-02T00:00:00",
          "2021-09-03T00:00:00",
          "2021-09-04T00:00:00",
          "2021-09-05T00:00:00",
          "2021-09-06T00:00:00",
          "2021-09-07T00:00:00",
          "2021-09-08T00:00:00",
          "2021-09-09T00:00:00",
          "2021-09-10T00:00:00",
          "2021-09-11T00:00:00",
          "2021-09-12T00:00:00",
          "2021-09-13T00:00:00",
          "2021-09-14T00:00:00",
          "2021-09-15T00:00:00",
          "2021-09-16T00:00:00",
          "2021-09-17T00:00:00",
          "2021-09-18T00:00:00",
          "2021-09-19T00:00:00",
          "2021-09-20T00:00:00",
          "2021-09-21T00:00:00",
          "2021-09-22T00:00:00",
          "2021-09-23T00:00:00",
          "2021-09-24T00:00:00",
          "2021-09-25T00:00:00",
          "2021-09-26T00:00:00",
          "2021-09-27T00:00:00",
          "2021-09-28T00:00:00",
          "2021-09-29T00:00:00",
          "2021-09-30T00:00:00",
          "2021-10-01T00:00:00",
          "2021-10-02T00:00:00",
          "2021-10-03T00:00:00",
          "2021-10-04T00:00:00",
          "2021-10-05T00:00:00",
          "2021-10-06T00:00:00",
          "2021-10-07T00:00:00",
          "2021-10-08T00:00:00",
          "2021-10-09T00:00:00",
          "2021-10-10T00:00:00",
          "2021-10-11T00:00:00",
          "2021-10-12T00:00:00",
          "2021-10-13T00:00:00",
          "2021-10-14T00:00:00",
          "2021-10-15T00:00:00",
          "2021-10-16T00:00:00",
          "2021-10-17T00:00:00",
          "2021-10-18T00:00:00",
          "2021-10-19T00:00:00",
          "2021-10-20T00:00:00",
          "2021-10-21T00:00:00",
          "2021-10-22T00:00:00",
          "2021-10-23T00:00:00",
          "2021-10-24T00:00:00",
          "2021-10-25T00:00:00",
          "2021-10-26T00:00:00",
          "2021-10-27T00:00:00",
          "2021-10-28T00:00:00",
          "2021-10-29T00:00:00",
          "2021-10-30T00:00:00",
          "2021-10-31T00:00:00",
          "2021-11-01T00:00:00",
          "2021-11-02T00:00:00",
          "2021-11-03T00:00:00",
          "2021-11-04T00:00:00",
          "2021-11-05T00:00:00",
          "2021-11-06T00:00:00",
          "2021-11-07T00:00:00",
          "2021-11-08T00:00:00",
          "2021-11-09T00:00:00",
          "2021-11-10T00:00:00",
          "2021-11-11T00:00:00",
          "2021-11-12T00:00:00",
          "2021-11-13T00:00:00",
          "2021-11-14T00:00:00",
          "2021-11-15T00:00:00",
          "2021-11-16T00:00:00",
          "2021-11-17T00:00:00",
          "2021-11-18T00:00:00",
          "2021-11-19T00:00:00",
          "2021-11-20T00:00:00",
          "2021-11-21T00:00:00",
          "2021-11-22T00:00:00",
          "2021-11-23T00:00:00",
          "2021-11-24T00:00:00",
          "2021-11-25T00:00:00",
          "2021-11-26T00:00:00",
          "2021-11-27T00:00:00",
          "2021-11-28T00:00:00",
          "2021-11-29T00:00:00",
          "2021-11-30T00:00:00",
          "2021-12-01T00:00:00",
          "2021-12-02T00:00:00",
          "2021-12-03T00:00:00",
          "2021-12-04T00:00:00",
          "2021-12-05T00:00:00",
          "2021-12-06T00:00:00",
          "2021-12-07T00:00:00",
          "2021-12-08T00:00:00",
          "2021-12-09T00:00:00",
          "2021-12-10T00:00:00",
          "2021-12-11T00:00:00",
          "2021-12-12T00:00:00",
          "2021-12-13T00:00:00"
         ],
         "xaxis": "x",
         "y": [
          3362,
          3704,
          3711,
          3422,
          3030,
          3645,
          5518,
          5597,
          6823,
          7223,
          6020,
          4736,
          4431,
          6519,
          6957,
          7491,
          7526,
          6130,
          4986,
          4900,
          7086,
          6657,
          6208,
          5516,
          4756,
          3616,
          3353,
          5053,
          4745,
          4050,
          3555,
          3354,
          2604,
          2781,
          3991,
          3780,
          3488,
          3096,
          2698,
          2125,
          2135,
          3112,
          3175,
          2585,
          2360,
          2040,
          1860,
          1979,
          2945,
          2831,
          2637,
          2594,
          2279,
          2129,
          1879,
          2813,
          2620,
          2630,
          2673,
          2568,
          2149,
          2299,
          2950,
          2764,
          2840,
          2536,
          2444,
          2132,
          2319,
          3296,
          2916,
          2651,
          2497,
          2547,
          2029,
          2071,
          3301,
          3046,
          2983,
          2798,
          2781,
          2226,
          2301,
          3821,
          3454,
          3292,
          3213,
          2856,
          2319,
          2424,
          3642,
          3280,
          3315,
          2992,
          2785,
          2215,
          2174,
          3160,
          2880,
          2895,
          2491,
          2237,
          1882,
          2332,
          3457,
          3295,
          3092,
          2923,
          2639,
          2122,
          2482,
          3764,
          3719,
          4120,
          3956,
          3680,
          3138,
          3209,
          4831
         ],
         "yaxis": "y"
        },
        {
         "line": {
          "color": "blue",
          "width": 3
         },
         "mode": "lines",
         "name": "Cases 7DMA",
         "type": "scatter",
         "x": [
          "2021-08-17T00:00:00",
          "2021-08-18T00:00:00",
          "2021-08-19T00:00:00",
          "2021-08-20T00:00:00",
          "2021-08-21T00:00:00",
          "2021-08-22T00:00:00",
          "2021-08-23T00:00:00",
          "2021-08-24T00:00:00",
          "2021-08-25T00:00:00",
          "2021-08-26T00:00:00",
          "2021-08-27T00:00:00",
          "2021-08-28T00:00:00",
          "2021-08-29T00:00:00",
          "2021-08-30T00:00:00",
          "2021-08-31T00:00:00",
          "2021-09-01T00:00:00",
          "2021-09-02T00:00:00",
          "2021-09-03T00:00:00",
          "2021-09-04T00:00:00",
          "2021-09-05T00:00:00",
          "2021-09-06T00:00:00",
          "2021-09-07T00:00:00",
          "2021-09-08T00:00:00",
          "2021-09-09T00:00:00",
          "2021-09-10T00:00:00",
          "2021-09-11T00:00:00",
          "2021-09-12T00:00:00",
          "2021-09-13T00:00:00",
          "2021-09-14T00:00:00",
          "2021-09-15T00:00:00",
          "2021-09-16T00:00:00",
          "2021-09-17T00:00:00",
          "2021-09-18T00:00:00",
          "2021-09-19T00:00:00",
          "2021-09-20T00:00:00",
          "2021-09-21T00:00:00",
          "2021-09-22T00:00:00",
          "2021-09-23T00:00:00",
          "2021-09-24T00:00:00",
          "2021-09-25T00:00:00",
          "2021-09-26T00:00:00",
          "2021-09-27T00:00:00",
          "2021-09-28T00:00:00",
          "2021-09-29T00:00:00",
          "2021-09-30T00:00:00",
          "2021-10-01T00:00:00",
          "2021-10-02T00:00:00",
          "2021-10-03T00:00:00",
          "2021-10-04T00:00:00",
          "2021-10-05T00:00:00",
          "2021-10-06T00:00:00",
          "2021-10-07T00:00:00",
          "2021-10-08T00:00:00",
          "2021-10-09T00:00:00",
          "2021-10-10T00:00:00",
          "2021-10-11T00:00:00",
          "2021-10-12T00:00:00",
          "2021-10-13T00:00:00",
          "2021-10-14T00:00:00",
          "2021-10-15T00:00:00",
          "2021-10-16T00:00:00",
          "2021-10-17T00:00:00",
          "2021-10-18T00:00:00",
          "2021-10-19T00:00:00",
          "2021-10-20T00:00:00",
          "2021-10-21T00:00:00",
          "2021-10-22T00:00:00",
          "2021-10-23T00:00:00",
          "2021-10-24T00:00:00",
          "2021-10-25T00:00:00",
          "2021-10-26T00:00:00",
          "2021-10-27T00:00:00",
          "2021-10-28T00:00:00",
          "2021-10-29T00:00:00",
          "2021-10-30T00:00:00",
          "2021-10-31T00:00:00",
          "2021-11-01T00:00:00",
          "2021-11-02T00:00:00",
          "2021-11-03T00:00:00",
          "2021-11-04T00:00:00",
          "2021-11-05T00:00:00",
          "2021-11-06T00:00:00",
          "2021-11-07T00:00:00",
          "2021-11-08T00:00:00",
          "2021-11-09T00:00:00",
          "2021-11-10T00:00:00",
          "2021-11-11T00:00:00",
          "2021-11-12T00:00:00",
          "2021-11-13T00:00:00",
          "2021-11-14T00:00:00",
          "2021-11-15T00:00:00",
          "2021-11-16T00:00:00",
          "2021-11-17T00:00:00",
          "2021-11-18T00:00:00",
          "2021-11-19T00:00:00",
          "2021-11-20T00:00:00",
          "2021-11-21T00:00:00",
          "2021-11-22T00:00:00",
          "2021-11-23T00:00:00",
          "2021-11-24T00:00:00",
          "2021-11-25T00:00:00",
          "2021-11-26T00:00:00",
          "2021-11-27T00:00:00",
          "2021-11-28T00:00:00",
          "2021-11-29T00:00:00",
          "2021-11-30T00:00:00",
          "2021-12-01T00:00:00",
          "2021-12-02T00:00:00",
          "2021-12-03T00:00:00",
          "2021-12-04T00:00:00",
          "2021-12-05T00:00:00",
          "2021-12-06T00:00:00",
          "2021-12-07T00:00:00",
          "2021-12-08T00:00:00",
          "2021-12-09T00:00:00",
          "2021-12-10T00:00:00",
          "2021-12-11T00:00:00",
          "2021-12-12T00:00:00",
          "2021-12-13T00:00:00"
         ],
         "xaxis": "x",
         "y": [
          null,
          null,
          null,
          null,
          null,
          null,
          3770.285714285714,
          4089.5714285714284,
          4535.142857142857,
          5036.857142857143,
          5408,
          5651.714285714285,
          5764,
          5907,
          6101.285714285715,
          6196.714285714285,
          6240,
          6255.714285714285,
          6291.428571428572,
          6358.428571428572,
          6439.428571428572,
          6396.571428571428,
          6213.285714285715,
          5926.142857142857,
          5729.857142857143,
          5534.142857142857,
          5313.142857142857,
          5022.714285714285,
          4749.571428571428,
          4441.285714285715,
          4161.142857142857,
          3960.8571428571427,
          3816.285714285714,
          3734.5714285714284,
          3582.8571428571427,
          3445,
          3364.714285714286,
          3299.1428571428573,
          3205.4285714285716,
          3137,
          3044.714285714286,
          2919.1428571428573,
          2832.714285714286,
          2703.714285714286,
          2598.5714285714284,
          2504.5714285714284,
          2466.714285714286,
          2444.4285714285716,
          2420.5714285714284,
          2371.4285714285716,
          2378.8571428571427,
          2412.285714285714,
          2446.4285714285716,
          2484.8571428571427,
          2470.5714285714284,
          2451.714285714286,
          2421.5714285714284,
          2420.5714285714284,
          2431.8571428571427,
          2473.1428571428573,
          2476,
          2536,
          2555.5714285714284,
          2576.1428571428573,
          2606.1428571428573,
          2586.5714285714284,
          2568.8571428571427,
          2566.4285714285716,
          2569.285714285714,
          2618.714285714286,
          2640.4285714285716,
          2613.4285714285716,
          2607.8571428571427,
          2622.5714285714284,
          2607.8571428571427,
          2572.4285714285716,
          2573.1428571428573,
          2591.714285714286,
          2639.1428571428573,
          2682.1428571428573,
          2715.5714285714284,
          2743.714285714286,
          2776.5714285714284,
          2850.8571428571427,
          2909.1428571428573,
          2953.285714285714,
          3012.5714285714284,
          3023.285714285714,
          3036.5714285714284,
          3054.1428571428573,
          3028.5714285714284,
          3003.714285714286,
          3007,
          2975.4285714285716,
          2965.285714285714,
          2950.4285714285716,
          2914.714285714286,
          2845.8571428571427,
          2788.714285714286,
          2728.714285714286,
          2657.1428571428573,
          2578.8571428571427,
          2531.285714285714,
          2553.8571428571427,
          2596.285714285714,
          2655.5714285714284,
          2683.714285714286,
          2745.4285714285716,
          2802.8571428571427,
          2837.1428571428573,
          2858.5714285714284,
          2902.4285714285716,
          2963,
          3109.8571428571427,
          3257.4285714285716,
          3406.1428571428573,
          3551.285714285714,
          3655.1428571428573,
          3807.5714285714284
         ],
         "yaxis": "y"
        },
        {
         "line": {
          "color": "green"
         },
         "mode": "lines",
         "name": "Pos Rate",
         "opacity": 0.25,
         "type": "scatter",
         "x": [
          "2021-08-17T00:00:00",
          "2021-08-18T00:00:00",
          "2021-08-19T00:00:00",
          "2021-08-20T00:00:00",
          "2021-08-21T00:00:00",
          "2021-08-22T00:00:00",
          "2021-08-23T00:00:00",
          "2021-08-24T00:00:00",
          "2021-08-25T00:00:00",
          "2021-08-26T00:00:00",
          "2021-08-27T00:00:00",
          "2021-08-28T00:00:00",
          "2021-08-29T00:00:00",
          "2021-08-30T00:00:00",
          "2021-08-31T00:00:00",
          "2021-09-01T00:00:00",
          "2021-09-02T00:00:00",
          "2021-09-03T00:00:00",
          "2021-09-04T00:00:00",
          "2021-09-05T00:00:00",
          "2021-09-06T00:00:00",
          "2021-09-07T00:00:00",
          "2021-09-08T00:00:00",
          "2021-09-09T00:00:00",
          "2021-09-10T00:00:00",
          "2021-09-11T00:00:00",
          "2021-09-12T00:00:00",
          "2021-09-13T00:00:00",
          "2021-09-14T00:00:00",
          "2021-09-15T00:00:00",
          "2021-09-16T00:00:00",
          "2021-09-17T00:00:00",
          "2021-09-18T00:00:00",
          "2021-09-19T00:00:00",
          "2021-09-20T00:00:00",
          "2021-09-21T00:00:00",
          "2021-09-22T00:00:00",
          "2021-09-23T00:00:00",
          "2021-09-24T00:00:00",
          "2021-09-25T00:00:00",
          "2021-09-26T00:00:00",
          "2021-09-27T00:00:00",
          "2021-09-28T00:00:00",
          "2021-09-29T00:00:00",
          "2021-09-30T00:00:00",
          "2021-10-01T00:00:00",
          "2021-10-02T00:00:00",
          "2021-10-03T00:00:00",
          "2021-10-04T00:00:00",
          "2021-10-05T00:00:00",
          "2021-10-06T00:00:00",
          "2021-10-07T00:00:00",
          "2021-10-08T00:00:00",
          "2021-10-09T00:00:00",
          "2021-10-10T00:00:00",
          "2021-10-11T00:00:00",
          "2021-10-12T00:00:00",
          "2021-10-13T00:00:00",
          "2021-10-14T00:00:00",
          "2021-10-15T00:00:00",
          "2021-10-16T00:00:00",
          "2021-10-17T00:00:00",
          "2021-10-18T00:00:00",
          "2021-10-19T00:00:00",
          "2021-10-20T00:00:00",
          "2021-10-21T00:00:00",
          "2021-10-22T00:00:00",
          "2021-10-23T00:00:00",
          "2021-10-24T00:00:00",
          "2021-10-25T00:00:00",
          "2021-10-26T00:00:00",
          "2021-10-27T00:00:00",
          "2021-10-28T00:00:00",
          "2021-10-29T00:00:00",
          "2021-10-30T00:00:00",
          "2021-10-31T00:00:00",
          "2021-11-01T00:00:00",
          "2021-11-02T00:00:00",
          "2021-11-03T00:00:00",
          "2021-11-04T00:00:00",
          "2021-11-05T00:00:00",
          "2021-11-06T00:00:00",
          "2021-11-07T00:00:00",
          "2021-11-08T00:00:00",
          "2021-11-09T00:00:00",
          "2021-11-10T00:00:00",
          "2021-11-11T00:00:00",
          "2021-11-12T00:00:00",
          "2021-11-13T00:00:00",
          "2021-11-14T00:00:00",
          "2021-11-15T00:00:00",
          "2021-11-16T00:00:00",
          "2021-11-17T00:00:00",
          "2021-11-18T00:00:00",
          "2021-11-19T00:00:00",
          "2021-11-20T00:00:00",
          "2021-11-21T00:00:00",
          "2021-11-22T00:00:00",
          "2021-11-23T00:00:00",
          "2021-11-24T00:00:00",
          "2021-11-25T00:00:00",
          "2021-11-26T00:00:00",
          "2021-11-27T00:00:00",
          "2021-11-28T00:00:00",
          "2021-11-29T00:00:00",
          "2021-11-30T00:00:00",
          "2021-12-01T00:00:00",
          "2021-12-02T00:00:00",
          "2021-12-03T00:00:00",
          "2021-12-04T00:00:00",
          "2021-12-05T00:00:00",
          "2021-12-06T00:00:00",
          "2021-12-07T00:00:00",
          "2021-12-08T00:00:00",
          "2021-12-09T00:00:00",
          "2021-12-10T00:00:00",
          "2021-12-11T00:00:00",
          "2021-12-12T00:00:00",
          "2021-12-13T00:00:00"
         ],
         "xaxis": "x2",
         "y": [
          9.165079528491276,
          11.103019438686909,
          10.373258172431052,
          10.7370949786137,
          13.814044991874091,
          13.770834836568294,
          11.08695652173913,
          11.861101057626572,
          14.47630146068996,
          13.905784791860745,
          13.398822864084789,
          15.326043919227605,
          14.585665446404258,
          10.904985180887266,
          11.199914910428031,
          12.919058178972085,
          13.07657202464387,
          13.07999285246292,
          15.093967484714437,
          14.077462151607554,
          10.773535878472916,
          10.63657494189098,
          11.257448537378115,
          10.709528780733647,
          11.156755346896192,
          12.822450790312509,
          11.213469857769756,
          8.76101110685561,
          8.775846671704334,
          9.232459383516783,
          8.890311663960853,
          9.72872833134842,
          11.31218112244898,
          10.839123078584542,
          8.042502862935777,
          7.961995995445801,
          8.69254529528376,
          8.365565803828225,
          9.012158524889395,
          10.376970527758738,
          9.69275165506705,
          7.457119885653028,
          7.361989587367153,
          7.392030915452503,
          7.131076510217203,
          7.4599156118143455,
          9.831432821021318,
          9.326978753730346,
          6.824101406494183,
          7.192923898531375,
          8.013126156952936,
          8.059043586694893,
          8.51608439986164,
          11.802216182312357,
          9.749412685982772,
          7.47226506143973,
          7.38107240455281,
          8.598923200693113,
          9.279917224431726,
          9.89863504958466,
          11.633178773827924,
          10.98479722109442,
          7.194956397689883,
          7.012369172216937,
          8.191071571691912,
          7.570064846511369,
          8.061680801850423,
          10.09501187648456,
          9.387430389817023,
          7.304236991961845,
          6.84243702045341,
          7.723164143980318,
          7.904503082902312,
          8.58663810753772,
          9.914833538279364,
          9.393952245642309,
          7.262558173508358,
          7.071830433076018,
          8.16905809744538,
          8.311301119423975,
          9.2006504878659,
          11.272569276817611,
          11.273622138645123,
          8.530261815708942,
          8.100906022384082,
          9.14201261513288,
          9.305430665685714,
          9.219578724049098,
          11.957728128166773,
          11.98529753873354,
          8.649598846119174,
          7.915405103922417,
          9.523550379581508,
          9.010768126346017,
          9.921939877096827,
          12.166632210047547,
          11.32456529235013,
          7.814767991759142,
          7.363466064652481,
          9.012464046021092,
          8.264514319548756,
          8.712051854835757,
          11.54219204655674,
          12.18518702498634,
          8.302650120460022,
          7.916279280709314,
          8.370603781256353,
          8.317173595431,
          8.563661078386952,
          10.494986034159073,
          10.914842049049009,
          8.051979352869107,
          8.134567825536003,
          9.401072705601909,
          9.565372681206332,
          9.949705344442188,
          12.334028311203776,
          12.957501512401697,
          10.2568634381996
         ],
         "yaxis": "y2"
        },
        {
         "line": {
          "color": "green",
          "width": 3
         },
         "mode": "lines",
         "name": "Pos Rate",
         "type": "scatter",
         "x": [
          "2021-08-17T00:00:00",
          "2021-08-18T00:00:00",
          "2021-08-19T00:00:00",
          "2021-08-20T00:00:00",
          "2021-08-21T00:00:00",
          "2021-08-22T00:00:00",
          "2021-08-23T00:00:00",
          "2021-08-24T00:00:00",
          "2021-08-25T00:00:00",
          "2021-08-26T00:00:00",
          "2021-08-27T00:00:00",
          "2021-08-28T00:00:00",
          "2021-08-29T00:00:00",
          "2021-08-30T00:00:00",
          "2021-08-31T00:00:00",
          "2021-09-01T00:00:00",
          "2021-09-02T00:00:00",
          "2021-09-03T00:00:00",
          "2021-09-04T00:00:00",
          "2021-09-05T00:00:00",
          "2021-09-06T00:00:00",
          "2021-09-07T00:00:00",
          "2021-09-08T00:00:00",
          "2021-09-09T00:00:00",
          "2021-09-10T00:00:00",
          "2021-09-11T00:00:00",
          "2021-09-12T00:00:00",
          "2021-09-13T00:00:00",
          "2021-09-14T00:00:00",
          "2021-09-15T00:00:00",
          "2021-09-16T00:00:00",
          "2021-09-17T00:00:00",
          "2021-09-18T00:00:00",
          "2021-09-19T00:00:00",
          "2021-09-20T00:00:00",
          "2021-09-21T00:00:00",
          "2021-09-22T00:00:00",
          "2021-09-23T00:00:00",
          "2021-09-24T00:00:00",
          "2021-09-25T00:00:00",
          "2021-09-26T00:00:00",
          "2021-09-27T00:00:00",
          "2021-09-28T00:00:00",
          "2021-09-29T00:00:00",
          "2021-09-30T00:00:00",
          "2021-10-01T00:00:00",
          "2021-10-02T00:00:00",
          "2021-10-03T00:00:00",
          "2021-10-04T00:00:00",
          "2021-10-05T00:00:00",
          "2021-10-06T00:00:00",
          "2021-10-07T00:00:00",
          "2021-10-08T00:00:00",
          "2021-10-09T00:00:00",
          "2021-10-10T00:00:00",
          "2021-10-11T00:00:00",
          "2021-10-12T00:00:00",
          "2021-10-13T00:00:00",
          "2021-10-14T00:00:00",
          "2021-10-15T00:00:00",
          "2021-10-16T00:00:00",
          "2021-10-17T00:00:00",
          "2021-10-18T00:00:00",
          "2021-10-19T00:00:00",
          "2021-10-20T00:00:00",
          "2021-10-21T00:00:00",
          "2021-10-22T00:00:00",
          "2021-10-23T00:00:00",
          "2021-10-24T00:00:00",
          "2021-10-25T00:00:00",
          "2021-10-26T00:00:00",
          "2021-10-27T00:00:00",
          "2021-10-28T00:00:00",
          "2021-10-29T00:00:00",
          "2021-10-30T00:00:00",
          "2021-10-31T00:00:00",
          "2021-11-01T00:00:00",
          "2021-11-02T00:00:00",
          "2021-11-03T00:00:00",
          "2021-11-04T00:00:00",
          "2021-11-05T00:00:00",
          "2021-11-06T00:00:00",
          "2021-11-07T00:00:00",
          "2021-11-08T00:00:00",
          "2021-11-09T00:00:00",
          "2021-11-10T00:00:00",
          "2021-11-11T00:00:00",
          "2021-11-12T00:00:00",
          "2021-11-13T00:00:00",
          "2021-11-14T00:00:00",
          "2021-11-15T00:00:00",
          "2021-11-16T00:00:00",
          "2021-11-17T00:00:00",
          "2021-11-18T00:00:00",
          "2021-11-19T00:00:00",
          "2021-11-20T00:00:00",
          "2021-11-21T00:00:00",
          "2021-11-22T00:00:00",
          "2021-11-23T00:00:00",
          "2021-11-24T00:00:00",
          "2021-11-25T00:00:00",
          "2021-11-26T00:00:00",
          "2021-11-27T00:00:00",
          "2021-11-28T00:00:00",
          "2021-11-29T00:00:00",
          "2021-11-30T00:00:00",
          "2021-12-01T00:00:00",
          "2021-12-02T00:00:00",
          "2021-12-03T00:00:00",
          "2021-12-04T00:00:00",
          "2021-12-05T00:00:00",
          "2021-12-06T00:00:00",
          "2021-12-07T00:00:00",
          "2021-12-08T00:00:00",
          "2021-12-09T00:00:00",
          "2021-12-10T00:00:00",
          "2021-12-11T00:00:00",
          "2021-12-12T00:00:00",
          "2021-12-13T00:00:00"
         ],
         "xaxis": "x2",
         "y": [
          null,
          null,
          null,
          null,
          null,
          null,
          11.435755495486351,
          11.820901428219965,
          12.302798859934684,
          12.807445519853214,
          13.187692360634797,
          13.403692207399587,
          13.520096580233295,
          13.494100674397314,
          13.399645510511807,
          13.17718218455211,
          13.058723217806842,
          13.013176073289433,
          12.98002229693041,
          12.907421826245168,
          12.888643354471688,
          12.808166216109251,
          12.570793410167257,
          12.232644375322938,
          11.957896160241978,
          11.633393775327416,
          11.224252019064874,
          10.9367484802624,
          10.670930155950023,
          10.38164599111269,
          10.121757831573719,
          9.917753972209752,
          9.702001162514962,
          9.648523051202789,
          9.5458790163571,
          9.42961463403445,
          9.352484050001161,
          9.2775203556965,
          9.175153240488068,
          9.041551726960892,
          8.877784380744107,
          8.794158241132285,
          8.708443039978192,
          8.52265527143087,
          8.346299658057868,
          8.124550670475717,
          8.046616712370371,
          7.994363440750843,
          7.903932229442435,
          7.879779988180182,
          7.968507879823101,
          8.1010746050342,
          8.251955860469527,
          8.533496340653961,
          8.59384404526145,
          8.686438853110815,
          8.713317211113877,
          8.79700250307676,
          8.97141302275345,
          9.168920258428168,
          9.144772057216105,
          9.321255562232054,
          9.28164003883922,
          9.228968148505524,
          9.170703630076781,
          8.926439004659587,
          8.664016969268982,
          8.444278841077073,
          8.216083579466016,
          8.231695092933439,
          8.207419071252934,
          8.140575153008422,
          8.188352043921414,
          8.263345944733885,
          8.237606182133142,
          8.238537875822468,
          8.232583758900542,
          8.265354246418058,
          8.329053382627352,
          8.387167387844732,
          8.47488344217733,
          8.668845690539936,
          8.93736996096891,
          9.118470481283278,
          9.265481279755859,
          9.404474782282644,
          9.546493288891465,
          9.549197322631922,
          9.647077158538945,
          9.748745072837291,
          9.76579322003875,
          9.739293088829942,
          9.793798483751175,
          9.751703835274075,
          9.852041142852324,
          9.881884583121005,
          9.787494262209089,
          9.668232711586226,
          9.589384277404807,
          9.516371944039033,
          9.40976425735371,
          9.236923111316415,
          9.14771737367487,
          9.270663335480043,
          9.340360782437314,
          9.419334099016861,
          9.32763977547904,
          9.335162529176504,
          9.313963846826676,
          9.164362987912723,
          8.98288513420739,
          8.947075024551543,
          8.978259102383928,
          9.125468948719007,
          9.303783103829769,
          9.501789427551946,
          9.764509752844047,
          10.056318247608715,
          10.371301688370213
         ],
         "yaxis": "y2"
        },
        {
         "line": {
          "color": "red"
         },
         "mode": "lines",
         "name": "Admissions",
         "opacity": 0.25,
         "type": "scatter",
         "x": [
          "2021-08-17T00:00:00",
          "2021-08-18T00:00:00",
          "2021-08-19T00:00:00",
          "2021-08-20T00:00:00",
          "2021-08-21T00:00:00",
          "2021-08-22T00:00:00",
          "2021-08-23T00:00:00",
          "2021-08-24T00:00:00",
          "2021-08-25T00:00:00",
          "2021-08-26T00:00:00",
          "2021-08-27T00:00:00",
          "2021-08-28T00:00:00",
          "2021-08-29T00:00:00",
          "2021-08-30T00:00:00",
          "2021-08-31T00:00:00",
          "2021-09-01T00:00:00",
          "2021-09-02T00:00:00",
          "2021-09-03T00:00:00",
          "2021-09-04T00:00:00",
          "2021-09-05T00:00:00",
          "2021-09-06T00:00:00",
          "2021-09-07T00:00:00",
          "2021-09-08T00:00:00",
          "2021-09-09T00:00:00",
          "2021-09-10T00:00:00",
          "2021-09-11T00:00:00",
          "2021-09-12T00:00:00",
          "2021-09-13T00:00:00",
          "2021-09-14T00:00:00",
          "2021-09-15T00:00:00",
          "2021-09-16T00:00:00",
          "2021-09-17T00:00:00",
          "2021-09-18T00:00:00",
          "2021-09-19T00:00:00",
          "2021-09-20T00:00:00",
          "2021-09-21T00:00:00",
          "2021-09-22T00:00:00",
          "2021-09-23T00:00:00",
          "2021-09-24T00:00:00",
          "2021-09-25T00:00:00",
          "2021-09-26T00:00:00",
          "2021-09-27T00:00:00",
          "2021-09-28T00:00:00",
          "2021-09-29T00:00:00",
          "2021-09-30T00:00:00",
          "2021-10-01T00:00:00",
          "2021-10-02T00:00:00",
          "2021-10-03T00:00:00",
          "2021-10-04T00:00:00",
          "2021-10-05T00:00:00",
          "2021-10-06T00:00:00",
          "2021-10-07T00:00:00",
          "2021-10-08T00:00:00",
          "2021-10-09T00:00:00",
          "2021-10-10T00:00:00",
          "2021-10-11T00:00:00",
          "2021-10-12T00:00:00",
          "2021-10-13T00:00:00",
          "2021-10-14T00:00:00",
          "2021-10-15T00:00:00",
          "2021-10-16T00:00:00",
          "2021-10-17T00:00:00",
          "2021-10-18T00:00:00",
          "2021-10-19T00:00:00",
          "2021-10-20T00:00:00",
          "2021-10-21T00:00:00",
          "2021-10-22T00:00:00",
          "2021-10-23T00:00:00",
          "2021-10-24T00:00:00",
          "2021-10-25T00:00:00",
          "2021-10-26T00:00:00",
          "2021-10-27T00:00:00",
          "2021-10-28T00:00:00",
          "2021-10-29T00:00:00",
          "2021-10-30T00:00:00",
          "2021-10-31T00:00:00",
          "2021-11-01T00:00:00",
          "2021-11-02T00:00:00",
          "2021-11-03T00:00:00",
          "2021-11-04T00:00:00",
          "2021-11-05T00:00:00",
          "2021-11-06T00:00:00",
          "2021-11-07T00:00:00",
          "2021-11-08T00:00:00",
          "2021-11-09T00:00:00",
          "2021-11-10T00:00:00",
          "2021-11-11T00:00:00",
          "2021-11-12T00:00:00",
          "2021-11-13T00:00:00",
          "2021-11-14T00:00:00",
          "2021-11-15T00:00:00",
          "2021-11-16T00:00:00",
          "2021-11-17T00:00:00",
          "2021-11-18T00:00:00",
          "2021-11-19T00:00:00",
          "2021-11-20T00:00:00",
          "2021-11-21T00:00:00",
          "2021-11-22T00:00:00",
          "2021-11-23T00:00:00",
          "2021-11-24T00:00:00",
          "2021-11-25T00:00:00",
          "2021-11-26T00:00:00",
          "2021-11-27T00:00:00",
          "2021-11-28T00:00:00",
          "2021-11-29T00:00:00",
          "2021-11-30T00:00:00",
          "2021-12-01T00:00:00",
          "2021-12-02T00:00:00",
          "2021-12-03T00:00:00",
          "2021-12-04T00:00:00",
          "2021-12-05T00:00:00",
          "2021-12-06T00:00:00",
          "2021-12-07T00:00:00",
          "2021-12-08T00:00:00",
          "2021-12-09T00:00:00",
          "2021-12-10T00:00:00",
          "2021-12-11T00:00:00",
          "2021-12-12T00:00:00",
          "2021-12-13T00:00:00"
         ],
         "xaxis": "x3",
         "y": [
          58,
          62,
          59,
          66,
          48,
          54,
          76,
          101,
          107,
          102,
          106,
          102,
          92,
          113,
          131,
          155,
          131,
          153,
          123,
          113,
          157,
          201,
          167,
          165,
          169,
          132,
          137,
          175,
          158,
          170,
          156,
          140,
          114,
          102,
          150,
          117,
          107,
          130,
          107,
          86,
          82,
          117,
          117,
          102,
          88,
          101,
          88,
          86,
          132,
          107,
          86,
          118,
          108,
          93,
          73,
          89,
          99,
          83,
          116,
          120,
          81,
          67,
          118,
          127,
          118,
          98,
          107,
          79,
          73,
          120,
          112,
          110,
          109,
          104,
          77,
          81,
          127,
          104,
          88,
          85,
          89,
          61,
          77,
          102,
          97,
          78,
          94,
          78,
          51,
          72,
          84,
          98,
          71,
          76,
          62,
          48,
          48,
          83,
          61,
          85,
          63,
          56,
          57,
          50,
          76,
          60,
          56,
          51,
          44,
          54,
          46,
          82,
          75,
          66,
          76,
          46,
          34,
          null,
          null
         ],
         "yaxis": "y3"
        },
        {
         "line": {
          "color": "red",
          "width": 3
         },
         "mode": "lines",
         "name": "Admissions",
         "type": "scatter",
         "x": [
          "2021-08-17T00:00:00",
          "2021-08-18T00:00:00",
          "2021-08-19T00:00:00",
          "2021-08-20T00:00:00",
          "2021-08-21T00:00:00",
          "2021-08-22T00:00:00",
          "2021-08-23T00:00:00",
          "2021-08-24T00:00:00",
          "2021-08-25T00:00:00",
          "2021-08-26T00:00:00",
          "2021-08-27T00:00:00",
          "2021-08-28T00:00:00",
          "2021-08-29T00:00:00",
          "2021-08-30T00:00:00",
          "2021-08-31T00:00:00",
          "2021-09-01T00:00:00",
          "2021-09-02T00:00:00",
          "2021-09-03T00:00:00",
          "2021-09-04T00:00:00",
          "2021-09-05T00:00:00",
          "2021-09-06T00:00:00",
          "2021-09-07T00:00:00",
          "2021-09-08T00:00:00",
          "2021-09-09T00:00:00",
          "2021-09-10T00:00:00",
          "2021-09-11T00:00:00",
          "2021-09-12T00:00:00",
          "2021-09-13T00:00:00",
          "2021-09-14T00:00:00",
          "2021-09-15T00:00:00",
          "2021-09-16T00:00:00",
          "2021-09-17T00:00:00",
          "2021-09-18T00:00:00",
          "2021-09-19T00:00:00",
          "2021-09-20T00:00:00",
          "2021-09-21T00:00:00",
          "2021-09-22T00:00:00",
          "2021-09-23T00:00:00",
          "2021-09-24T00:00:00",
          "2021-09-25T00:00:00",
          "2021-09-26T00:00:00",
          "2021-09-27T00:00:00",
          "2021-09-28T00:00:00",
          "2021-09-29T00:00:00",
          "2021-09-30T00:00:00",
          "2021-10-01T00:00:00",
          "2021-10-02T00:00:00",
          "2021-10-03T00:00:00",
          "2021-10-04T00:00:00",
          "2021-10-05T00:00:00",
          "2021-10-06T00:00:00",
          "2021-10-07T00:00:00",
          "2021-10-08T00:00:00",
          "2021-10-09T00:00:00",
          "2021-10-10T00:00:00",
          "2021-10-11T00:00:00",
          "2021-10-12T00:00:00",
          "2021-10-13T00:00:00",
          "2021-10-14T00:00:00",
          "2021-10-15T00:00:00",
          "2021-10-16T00:00:00",
          "2021-10-17T00:00:00",
          "2021-10-18T00:00:00",
          "2021-10-19T00:00:00",
          "2021-10-20T00:00:00",
          "2021-10-21T00:00:00",
          "2021-10-22T00:00:00",
          "2021-10-23T00:00:00",
          "2021-10-24T00:00:00",
          "2021-10-25T00:00:00",
          "2021-10-26T00:00:00",
          "2021-10-27T00:00:00",
          "2021-10-28T00:00:00",
          "2021-10-29T00:00:00",
          "2021-10-30T00:00:00",
          "2021-10-31T00:00:00",
          "2021-11-01T00:00:00",
          "2021-11-02T00:00:00",
          "2021-11-03T00:00:00",
          "2021-11-04T00:00:00",
          "2021-11-05T00:00:00",
          "2021-11-06T00:00:00",
          "2021-11-07T00:00:00",
          "2021-11-08T00:00:00",
          "2021-11-09T00:00:00",
          "2021-11-10T00:00:00",
          "2021-11-11T00:00:00",
          "2021-11-12T00:00:00",
          "2021-11-13T00:00:00",
          "2021-11-14T00:00:00",
          "2021-11-15T00:00:00",
          "2021-11-16T00:00:00",
          "2021-11-17T00:00:00",
          "2021-11-18T00:00:00",
          "2021-11-19T00:00:00",
          "2021-11-20T00:00:00",
          "2021-11-21T00:00:00",
          "2021-11-22T00:00:00",
          "2021-11-23T00:00:00",
          "2021-11-24T00:00:00",
          "2021-11-25T00:00:00",
          "2021-11-26T00:00:00",
          "2021-11-27T00:00:00",
          "2021-11-28T00:00:00",
          "2021-11-29T00:00:00",
          "2021-11-30T00:00:00",
          "2021-12-01T00:00:00",
          "2021-12-02T00:00:00",
          "2021-12-03T00:00:00",
          "2021-12-04T00:00:00",
          "2021-12-05T00:00:00",
          "2021-12-06T00:00:00",
          "2021-12-07T00:00:00",
          "2021-12-08T00:00:00",
          "2021-12-09T00:00:00",
          "2021-12-10T00:00:00",
          "2021-12-11T00:00:00",
          "2021-12-12T00:00:00",
          "2021-12-13T00:00:00"
         ],
         "xaxis": "x3",
         "y": [
          null,
          null,
          null,
          null,
          null,
          null,
          60.42857142857143,
          66.57142857142857,
          73,
          79.14285714285714,
          84.85714285714286,
          92.57142857142857,
          98,
          103.28571428571429,
          107.57142857142857,
          114.42857142857143,
          118.57142857142857,
          125.28571428571429,
          128.28571428571428,
          131.28571428571428,
          137.57142857142858,
          147.57142857142858,
          149.28571428571428,
          154.14285714285714,
          156.42857142857142,
          157.71428571428572,
          161.14285714285714,
          163.71428571428572,
          157.57142857142858,
          158,
          156.71428571428572,
          152.57142857142858,
          150,
          145,
          141.42857142857142,
          135.57142857142858,
          126.57142857142857,
          122.85714285714286,
          118.14285714285714,
          114.14285714285714,
          111.28571428571429,
          106.57142857142857,
          106.57142857142857,
          105.85714285714286,
          99.85714285714286,
          99,
          99.28571428571429,
          99.85714285714286,
          102,
          100.57142857142857,
          98.28571428571429,
          102.57142857142857,
          103.57142857142857,
          104.28571428571429,
          102.42857142857143,
          96.28571428571429,
          95.14285714285714,
          94.71428571428571,
          94.42857142857143,
          96.14285714285714,
          94.42857142857143,
          93.57142857142857,
          97.71428571428571,
          101.71428571428571,
          106.71428571428571,
          104.14285714285714,
          102.28571428571429,
          102,
          102.85714285714286,
          103.14285714285714,
          101,
          99.85714285714286,
          101.42857142857143,
          101,
          100.71428571428571,
          101.85714285714286,
          102.85714285714286,
          101.71428571428571,
          98.57142857142857,
          95.14285714285714,
          93,
          90.71428571428571,
          90.14285714285714,
          86.57142857142857,
          85.57142857142857,
          84.14285714285714,
          85.42857142857143,
          83.85714285714286,
          82.42857142857143,
          81.71428571428571,
          79.14285714285714,
          79.28571428571429,
          78.28571428571429,
          75.71428571428571,
          73.42857142857143,
          73,
          69.57142857142857,
          69.42857142857143,
          64.14285714285714,
          66.14285714285714,
          64.28571428571429,
          63.42857142857143,
          64.71428571428571,
          65,
          64,
          63.857142857142854,
          59.714285714285715,
          58,
          56.285714285714285,
          55.857142857142854,
          55.285714285714285,
          56.142857142857146,
          58.285714285714285,
          59.714285714285715,
          63.285714285714285,
          63.57142857142857,
          60.714285714285715,
          null,
          null
         ],
         "yaxis": "y3"
        },
        {
         "line": {
          "color": "purple"
         },
         "mode": "lines",
         "name": "Hosp. Rate",
         "opacity": 0.25,
         "type": "scatter",
         "x": [
          "2021-08-17T00:00:00",
          "2021-08-18T00:00:00",
          "2021-08-19T00:00:00",
          "2021-08-20T00:00:00",
          "2021-08-21T00:00:00",
          "2021-08-22T00:00:00",
          "2021-08-23T00:00:00",
          "2021-08-24T00:00:00",
          "2021-08-25T00:00:00",
          "2021-08-26T00:00:00",
          "2021-08-27T00:00:00",
          "2021-08-28T00:00:00",
          "2021-08-29T00:00:00",
          "2021-08-30T00:00:00",
          "2021-08-31T00:00:00",
          "2021-09-01T00:00:00",
          "2021-09-02T00:00:00",
          "2021-09-03T00:00:00",
          "2021-09-04T00:00:00",
          "2021-09-05T00:00:00",
          "2021-09-06T00:00:00",
          "2021-09-07T00:00:00",
          "2021-09-08T00:00:00",
          "2021-09-09T00:00:00",
          "2021-09-10T00:00:00",
          "2021-09-11T00:00:00",
          "2021-09-12T00:00:00",
          "2021-09-13T00:00:00",
          "2021-09-14T00:00:00",
          "2021-09-15T00:00:00",
          "2021-09-16T00:00:00",
          "2021-09-17T00:00:00",
          "2021-09-18T00:00:00",
          "2021-09-19T00:00:00",
          "2021-09-20T00:00:00",
          "2021-09-21T00:00:00",
          "2021-09-22T00:00:00",
          "2021-09-23T00:00:00",
          "2021-09-24T00:00:00",
          "2021-09-25T00:00:00",
          "2021-09-26T00:00:00",
          "2021-09-27T00:00:00",
          "2021-09-28T00:00:00",
          "2021-09-29T00:00:00",
          "2021-09-30T00:00:00",
          "2021-10-01T00:00:00",
          "2021-10-02T00:00:00",
          "2021-10-03T00:00:00",
          "2021-10-04T00:00:00",
          "2021-10-05T00:00:00",
          "2021-10-06T00:00:00",
          "2021-10-07T00:00:00",
          "2021-10-08T00:00:00",
          "2021-10-09T00:00:00",
          "2021-10-10T00:00:00",
          "2021-10-11T00:00:00",
          "2021-10-12T00:00:00",
          "2021-10-13T00:00:00",
          "2021-10-14T00:00:00",
          "2021-10-15T00:00:00",
          "2021-10-16T00:00:00",
          "2021-10-17T00:00:00",
          "2021-10-18T00:00:00",
          "2021-10-19T00:00:00",
          "2021-10-20T00:00:00",
          "2021-10-21T00:00:00",
          "2021-10-22T00:00:00",
          "2021-10-23T00:00:00",
          "2021-10-24T00:00:00",
          "2021-10-25T00:00:00",
          "2021-10-26T00:00:00",
          "2021-10-27T00:00:00",
          "2021-10-28T00:00:00",
          "2021-10-29T00:00:00",
          "2021-10-30T00:00:00",
          "2021-10-31T00:00:00",
          "2021-11-01T00:00:00",
          "2021-11-02T00:00:00",
          "2021-11-03T00:00:00",
          "2021-11-04T00:00:00",
          "2021-11-05T00:00:00",
          "2021-11-06T00:00:00",
          "2021-11-07T00:00:00",
          "2021-11-08T00:00:00",
          "2021-11-09T00:00:00",
          "2021-11-10T00:00:00",
          "2021-11-11T00:00:00",
          "2021-11-12T00:00:00",
          "2021-11-13T00:00:00",
          "2021-11-14T00:00:00",
          "2021-11-15T00:00:00",
          "2021-11-16T00:00:00",
          "2021-11-17T00:00:00",
          "2021-11-18T00:00:00",
          "2021-11-19T00:00:00",
          "2021-11-20T00:00:00",
          "2021-11-21T00:00:00",
          "2021-11-22T00:00:00",
          "2021-11-23T00:00:00",
          "2021-11-24T00:00:00",
          "2021-11-25T00:00:00",
          "2021-11-26T00:00:00",
          "2021-11-27T00:00:00",
          "2021-11-28T00:00:00",
          "2021-11-29T00:00:00",
          "2021-11-30T00:00:00",
          "2021-12-01T00:00:00",
          "2021-12-02T00:00:00",
          "2021-12-03T00:00:00",
          "2021-12-04T00:00:00",
          "2021-12-05T00:00:00",
          "2021-12-06T00:00:00",
          "2021-12-07T00:00:00",
          "2021-12-08T00:00:00",
          "2021-12-09T00:00:00",
          "2021-12-10T00:00:00",
          "2021-12-11T00:00:00",
          "2021-12-12T00:00:00",
          "2021-12-13T00:00:00"
         ],
         "xaxis": "x4",
         "y": [
          null,
          null,
          null,
          null,
          null,
          null,
          null,
          3.0041641879833434,
          2.888768898488121,
          2.7485852869846403,
          3.09760374050263,
          3.3663366336633667,
          2.52400548696845,
          2.0478434215295396,
          2.3405395747721993,
          2.2717279788949143,
          1.8136508376021043,
          2.5415282392026577,
          2.597128378378378,
          2.5502143985556307,
          2.408344838165363,
          2.889176369124623,
          2.2293418769189692,
          2.192399681105501,
          2.7569331158238173,
          2.6474127557160045,
          2.7959183673469385,
          2.4696584815128424,
          2.373441490160733,
          2.73840206185567,
          2.8281363306744014,
          2.943650126156434,
          3.1526548672566372,
          3.0420518938264243,
          2.968533544429052,
          2.4657534246575343,
          2.6419753086419755,
          3.6568213783403656,
          3.190220632081097,
          3.302611367127496,
          2.948579647608774,
          2.9315960912052117,
          3.0952380952380953,
          2.9243119266055047,
          2.842377260981912,
          3.7435137138621197,
          4.141176470588236,
          4.028103044496487,
          4.241645244215938,
          3.3700787401574805,
          3.3268858800773695,
          5,
          5.294117647058823,
          5,
          3.6887316826680143,
          3.0220713073005094,
          3.496997527375486,
          3.1475161167993932,
          4.471858134155744,
          5.265467310223782,
          3.80460310004697,
          3.565726450239489,
          4.194809811589051,
          4.847328244274809,
          4.486692015209125,
          3.6662925551814443,
          4.166666666666666,
          3.6761284318287575,
          3.1752936059156154,
          4.067796610169491,
          4.052098408104197,
          3.873239436619718,
          4.298107255520505,
          4.25531914893617,
          3.6116322701688555,
          3.4928848641655885,
          3.853155339805825,
          3.5665294924554183,
          3.319502074688797,
          3.4040849018822588,
          3.4943070278759327,
          3.0064070970921635,
          3.7180106228874936,
          3.0899727355346864,
          3.1845042678923177,
          2.614817298022125,
          3.3595425303788424,
          2.8047464940668827,
          2.2911051212938007,
          3.129074315514994,
          2.1983773881182938,
          2.837290098436595,
          2.1567436208991495,
          2.3653906006847185,
          2.1708683473389354,
          2.069857697283312,
          1.9801980198019802,
          2.2789676002196595,
          1.8597560975609755,
          2.564102564102564,
          2.105614973262032,
          2.0107719928186714,
          2.5733634311512414,
          2.2999080036798527,
          2.4050632911392404,
          2.083333333333333,
          1.934369602763385,
          2.0473705339221198,
          1.9669199821189094,
          2.869287991498406,
          1.9725557461406518,
          2.3719988429273937,
          2.2761760242792106,
          2.1345407503234153,
          2.6000684228532327,
          1.7430845017051912,
          1.6022620169651274,
          null,
          null
         ],
         "yaxis": "y4"
        },
        {
         "line": {
          "color": "purple",
          "width": 3
         },
         "mode": "lines",
         "name": "Hosp. Rate",
         "type": "scatter",
         "x": [
          "2021-08-17T00:00:00",
          "2021-08-18T00:00:00",
          "2021-08-19T00:00:00",
          "2021-08-20T00:00:00",
          "2021-08-21T00:00:00",
          "2021-08-22T00:00:00",
          "2021-08-23T00:00:00",
          "2021-08-24T00:00:00",
          "2021-08-25T00:00:00",
          "2021-08-26T00:00:00",
          "2021-08-27T00:00:00",
          "2021-08-28T00:00:00",
          "2021-08-29T00:00:00",
          "2021-08-30T00:00:00",
          "2021-08-31T00:00:00",
          "2021-09-01T00:00:00",
          "2021-09-02T00:00:00",
          "2021-09-03T00:00:00",
          "2021-09-04T00:00:00",
          "2021-09-05T00:00:00",
          "2021-09-06T00:00:00",
          "2021-09-07T00:00:00",
          "2021-09-08T00:00:00",
          "2021-09-09T00:00:00",
          "2021-09-10T00:00:00",
          "2021-09-11T00:00:00",
          "2021-09-12T00:00:00",
          "2021-09-13T00:00:00",
          "2021-09-14T00:00:00",
          "2021-09-15T00:00:00",
          "2021-09-16T00:00:00",
          "2021-09-17T00:00:00",
          "2021-09-18T00:00:00",
          "2021-09-19T00:00:00",
          "2021-09-20T00:00:00",
          "2021-09-21T00:00:00",
          "2021-09-22T00:00:00",
          "2021-09-23T00:00:00",
          "2021-09-24T00:00:00",
          "2021-09-25T00:00:00",
          "2021-09-26T00:00:00",
          "2021-09-27T00:00:00",
          "2021-09-28T00:00:00",
          "2021-09-29T00:00:00",
          "2021-09-30T00:00:00",
          "2021-10-01T00:00:00",
          "2021-10-02T00:00:00",
          "2021-10-03T00:00:00",
          "2021-10-04T00:00:00",
          "2021-10-05T00:00:00",
          "2021-10-06T00:00:00",
          "2021-10-07T00:00:00",
          "2021-10-08T00:00:00",
          "2021-10-09T00:00:00",
          "2021-10-10T00:00:00",
          "2021-10-11T00:00:00",
          "2021-10-12T00:00:00",
          "2021-10-13T00:00:00",
          "2021-10-14T00:00:00",
          "2021-10-15T00:00:00",
          "2021-10-16T00:00:00",
          "2021-10-17T00:00:00",
          "2021-10-18T00:00:00",
          "2021-10-19T00:00:00",
          "2021-10-20T00:00:00",
          "2021-10-21T00:00:00",
          "2021-10-22T00:00:00",
          "2021-10-23T00:00:00",
          "2021-10-24T00:00:00",
          "2021-10-25T00:00:00",
          "2021-10-26T00:00:00",
          "2021-10-27T00:00:00",
          "2021-10-28T00:00:00",
          "2021-10-29T00:00:00",
          "2021-10-30T00:00:00",
          "2021-10-31T00:00:00",
          "2021-11-01T00:00:00",
          "2021-11-02T00:00:00",
          "2021-11-03T00:00:00",
          "2021-11-04T00:00:00",
          "2021-11-05T00:00:00",
          "2021-11-06T00:00:00",
          "2021-11-07T00:00:00",
          "2021-11-08T00:00:00",
          "2021-11-09T00:00:00",
          "2021-11-10T00:00:00",
          "2021-11-11T00:00:00",
          "2021-11-12T00:00:00",
          "2021-11-13T00:00:00",
          "2021-11-14T00:00:00",
          "2021-11-15T00:00:00",
          "2021-11-16T00:00:00",
          "2021-11-17T00:00:00",
          "2021-11-18T00:00:00",
          "2021-11-19T00:00:00",
          "2021-11-20T00:00:00",
          "2021-11-21T00:00:00",
          "2021-11-22T00:00:00",
          "2021-11-23T00:00:00",
          "2021-11-24T00:00:00",
          "2021-11-25T00:00:00",
          "2021-11-26T00:00:00",
          "2021-11-27T00:00:00",
          "2021-11-28T00:00:00",
          "2021-11-29T00:00:00",
          "2021-11-30T00:00:00",
          "2021-12-01T00:00:00",
          "2021-12-02T00:00:00",
          "2021-12-03T00:00:00",
          "2021-12-04T00:00:00",
          "2021-12-05T00:00:00",
          "2021-12-06T00:00:00",
          "2021-12-07T00:00:00",
          "2021-12-08T00:00:00",
          "2021-12-09T00:00:00",
          "2021-12-10T00:00:00",
          "2021-12-11T00:00:00",
          "2021-12-12T00:00:00",
          "2021-12-13T00:00:00"
         ],
         "xaxis": "x4",
         "y": [
          null,
          null,
          null,
          null,
          null,
          null,
          null,
          null,
          null,
          null,
          null,
          null,
          null,
          2.811043950874299,
          2.716240434701278,
          2.6280917319022485,
          2.4945296677047435,
          2.415090310376176,
          2.3052034167640345,
          2.3089475469907748,
          2.3604477493673213,
          2.43882443427481,
          2.432769276849675,
          2.486876254493017,
          2.5176483797246116,
          2.5248318622014154,
          2.5599324291716026,
          2.568691521078385,
          2.4950151097978295,
          2.567737993360215,
          2.658557514727201,
          2.6852313733461464,
          2.757408817851951,
          2.7925707502061634,
          2.8638386163370506,
          2.877026035550879,
          2.8632507850917794,
          2.981634363329775,
          3.016858721319012,
          3.0382810784434207,
          3.0249279004123273,
          3.0196511213803503,
          3.1095775028918595,
          3.1499113054580783,
          3.033562145835441,
          3.1126040146613017,
          3.2323990294414076,
          3.3866166575682235,
          3.573766536569756,
          3.6130294858439536,
          3.670540050625649,
          3.978771870485376,
          4.200286718084905,
          4.322975793715157,
          4.274494170596804,
          4.100269322466028,
          4.118400577782887,
          4.092776325886033,
          4.017327487908282,
          4.013234582646133,
          3.842463596938557,
          3.824891420877339,
          3.9924254929185596,
          4.185329881047034,
          4.376640723676997,
          4.261559926680667,
          4.104588406172508,
          4.086234882141334,
          4.030458761523638,
          4.012314018463701,
          3.8987097561536137,
          3.8110736734979844,
          3.901332916403564,
          3.913997556727779,
          3.9047838193477937,
          3.950153999097789,
          3.9194909604744086,
          3.8501239725245826,
          3.77101863510588,
          3.6433011560147017,
          3.534585138720382,
          3.448124399709426,
          3.4802852223839844,
          3.3712591360595354,
          3.316684103979093,
          3.216014850169568,
          3.209651654240509,
          3.1111430065535015,
          3.008957010010878,
          2.9248232518148067,
          2.79745248789818,
          2.7478504636902192,
          2.6824113669583656,
          2.540389662716348,
          2.4498356417552123,
          2.418228866896571,
          2.2541036817947124,
          2.2656165692377646,
          2.1259688548269615,
          2.1841629895703063,
          2.1470521856527798,
          2.1241812778641704,
          2.1961106684167317,
          2.241783523256428,
          2.2597971933877967,
          2.291736798498133,
          2.201774946878251,
          2.1934543126868347,
          2.187189739729726,
          2.229464676922178,
          2.182700068702292,
          2.1779765761006,
          2.205525531950011,
          2.2341214101728726,
          2.313078251448746,
          2.281101754246786,
          2.1000980435991745,
          null,
          null
         ],
         "yaxis": "y4"
        },
        {
         "line": {
          "color": "brown"
         },
         "mode": "lines",
         "name": "ICU Rate",
         "opacity": 0.25,
         "type": "scatter",
         "x": [
          "2021-08-17T00:00:00",
          "2021-08-18T00:00:00",
          "2021-08-19T00:00:00",
          "2021-08-20T00:00:00",
          "2021-08-21T00:00:00",
          "2021-08-22T00:00:00",
          "2021-08-23T00:00:00",
          "2021-08-24T00:00:00",
          "2021-08-25T00:00:00",
          "2021-08-26T00:00:00",
          "2021-08-27T00:00:00",
          "2021-08-28T00:00:00",
          "2021-08-29T00:00:00",
          "2021-08-30T00:00:00",
          "2021-08-31T00:00:00",
          "2021-09-01T00:00:00",
          "2021-09-02T00:00:00",
          "2021-09-03T00:00:00",
          "2021-09-04T00:00:00",
          "2021-09-05T00:00:00",
          "2021-09-06T00:00:00",
          "2021-09-07T00:00:00",
          "2021-09-08T00:00:00",
          "2021-09-09T00:00:00",
          "2021-09-10T00:00:00",
          "2021-09-11T00:00:00",
          "2021-09-12T00:00:00",
          "2021-09-13T00:00:00",
          "2021-09-14T00:00:00",
          "2021-09-15T00:00:00",
          "2021-09-16T00:00:00",
          "2021-09-17T00:00:00",
          "2021-09-18T00:00:00",
          "2021-09-19T00:00:00",
          "2021-09-20T00:00:00",
          "2021-09-21T00:00:00",
          "2021-09-22T00:00:00",
          "2021-09-23T00:00:00",
          "2021-09-24T00:00:00",
          "2021-09-25T00:00:00",
          "2021-09-26T00:00:00",
          "2021-09-27T00:00:00",
          "2021-09-28T00:00:00",
          "2021-09-29T00:00:00",
          "2021-09-30T00:00:00",
          "2021-10-01T00:00:00",
          "2021-10-02T00:00:00",
          "2021-10-03T00:00:00",
          "2021-10-04T00:00:00",
          "2021-10-05T00:00:00",
          "2021-10-06T00:00:00",
          "2021-10-07T00:00:00",
          "2021-10-08T00:00:00",
          "2021-10-09T00:00:00",
          "2021-10-10T00:00:00",
          "2021-10-11T00:00:00",
          "2021-10-12T00:00:00",
          "2021-10-13T00:00:00",
          "2021-10-14T00:00:00",
          "2021-10-15T00:00:00",
          "2021-10-16T00:00:00",
          "2021-10-17T00:00:00",
          "2021-10-18T00:00:00",
          "2021-10-19T00:00:00",
          "2021-10-20T00:00:00",
          "2021-10-21T00:00:00",
          "2021-10-22T00:00:00",
          "2021-10-23T00:00:00",
          "2021-10-24T00:00:00",
          "2021-10-25T00:00:00",
          "2021-10-26T00:00:00",
          "2021-10-27T00:00:00",
          "2021-10-28T00:00:00",
          "2021-10-29T00:00:00",
          "2021-10-30T00:00:00",
          "2021-10-31T00:00:00",
          "2021-11-01T00:00:00",
          "2021-11-02T00:00:00",
          "2021-11-03T00:00:00",
          "2021-11-04T00:00:00",
          "2021-11-05T00:00:00",
          "2021-11-06T00:00:00",
          "2021-11-07T00:00:00",
          "2021-11-08T00:00:00",
          "2021-11-09T00:00:00",
          "2021-11-10T00:00:00",
          "2021-11-11T00:00:00",
          "2021-11-12T00:00:00",
          "2021-11-13T00:00:00",
          "2021-11-14T00:00:00",
          "2021-11-15T00:00:00",
          "2021-11-16T00:00:00",
          "2021-11-17T00:00:00",
          "2021-11-18T00:00:00",
          "2021-11-19T00:00:00",
          "2021-11-20T00:00:00",
          "2021-11-21T00:00:00",
          "2021-11-22T00:00:00",
          "2021-11-23T00:00:00",
          "2021-11-24T00:00:00",
          "2021-11-25T00:00:00",
          "2021-11-26T00:00:00",
          "2021-11-27T00:00:00",
          "2021-11-28T00:00:00",
          "2021-11-29T00:00:00",
          "2021-11-30T00:00:00",
          "2021-12-01T00:00:00",
          "2021-12-02T00:00:00",
          "2021-12-03T00:00:00",
          "2021-12-04T00:00:00",
          "2021-12-05T00:00:00",
          "2021-12-06T00:00:00",
          "2021-12-07T00:00:00",
          "2021-12-08T00:00:00",
          "2021-12-09T00:00:00",
          "2021-12-10T00:00:00",
          "2021-12-11T00:00:00",
          "2021-12-12T00:00:00",
          "2021-12-13T00:00:00"
         ],
         "xaxis": "x5",
         "y": [
          null,
          null,
          null,
          null,
          null,
          null,
          null,
          null,
          null,
          null,
          null,
          null,
          null,
          null,
          0.2379535990481856,
          0.21598272138228944,
          0.2155753166262463,
          0.20455873758036236,
          0.23102310231023102,
          0.43895747599451307,
          0.2355926060166727,
          0.21440057173485794,
          0.14656309541257512,
          0.12460196594212931,
          0.16611295681063123,
          0.27449324324324326,
          0.2708192281651997,
          0.13805798435342845,
          0.10061808250682765,
          0.14684287812041116,
          0.11958543715120913,
          0.24469820554649263,
          0.2607300441235459,
          0.12244897959183673,
          0.09878633926051368,
          0.12017425266636624,
          0.1610824742268041,
          0.0725163161711385,
          0.18923465096719932,
          0.19358407079646017,
          0.05964807634953773,
          0.1781120126657431,
          0.10537407797681769,
          0.12345679012345678,
          0.16877637130801687,
          0.17889087656529518,
          0.30721966205837176,
          0.25170801869830994,
          0.17539463793535454,
          0.15873015873015872,
          0.20068807339449543,
          0.12919896640826875,
          0.3335804299481097,
          0.4235294117647058,
          0.234192037470726,
          0.09640102827763496,
          0.09448818897637795,
          0.11605415860735009,
          0.38135593220338987,
          0.39215686274509803,
          0.16129032258064516,
          0.202122283981809,
          0.23769100169779284,
          0.35323207347227126,
          0.3412969283276451,
          0.30840400925212025,
          0.4826678367705134,
          0.23485204321277595,
          0.15965939329430548,
          0.3199431212228937,
          0.3053435114503817,
          0.3422053231939164,
          0.411522633744856,
          0.35046728971962615,
          0.2791996277338297,
          0.17398869073510223,
          0.3050847457627119,
          0.21707670043415342,
          0.14084507042253522,
          0.23659305993690852,
          0.32733224222585927,
          0.23452157598499063,
          0.258732212160414,
          0.3640776699029126,
          0.17146776406035666,
          0.2263296869105998,
          0.2803364036844213,
          0.27483313702394974,
          0.19714144898965008,
          0.28971511347175277,
          0.3938200545289306,
          0.0984898227183191,
          0.2011397921555481,
          0.39313795568263044,
          0.03595828838547285,
          0.2695417789757413,
          0.2607561929595828,
          0.20936927505888508,
          0.23161551823972204,
          0.15188335358444716,
          0.12449424214130098,
          0.1400560224089636,
          0.301854247520483,
          0.24752475247524752,
          0.08237232289950577,
          0.274390243902439,
          0.06033182503770739,
          0.16711229946524064,
          0.10771992818671454,
          0.1805869074492099,
          0.09199632014719411,
          0.09493670886075949,
          0.1388888888888889,
          0.17271157167530224,
          0.08028904054596547,
          0.13410818059901655,
          0.10626992561105207,
          0.21440823327615782,
          0.11570726063060456
         ],
         "yaxis": "y5"
        },
        {
         "line": {
          "color": "brown",
          "width": 3
         },
         "mode": "lines",
         "name": "ICU Rate",
         "type": "scatter",
         "x": [
          "2021-08-17T00:00:00",
          "2021-08-18T00:00:00",
          "2021-08-19T00:00:00",
          "2021-08-20T00:00:00",
          "2021-08-21T00:00:00",
          "2021-08-22T00:00:00",
          "2021-08-23T00:00:00",
          "2021-08-24T00:00:00",
          "2021-08-25T00:00:00",
          "2021-08-26T00:00:00",
          "2021-08-27T00:00:00",
          "2021-08-28T00:00:00",
          "2021-08-29T00:00:00",
          "2021-08-30T00:00:00",
          "2021-08-31T00:00:00",
          "2021-09-01T00:00:00",
          "2021-09-02T00:00:00",
          "2021-09-03T00:00:00",
          "2021-09-04T00:00:00",
          "2021-09-05T00:00:00",
          "2021-09-06T00:00:00",
          "2021-09-07T00:00:00",
          "2021-09-08T00:00:00",
          "2021-09-09T00:00:00",
          "2021-09-10T00:00:00",
          "2021-09-11T00:00:00",
          "2021-09-12T00:00:00",
          "2021-09-13T00:00:00",
          "2021-09-14T00:00:00",
          "2021-09-15T00:00:00",
          "2021-09-16T00:00:00",
          "2021-09-17T00:00:00",
          "2021-09-18T00:00:00",
          "2021-09-19T00:00:00",
          "2021-09-20T00:00:00",
          "2021-09-21T00:00:00",
          "2021-09-22T00:00:00",
          "2021-09-23T00:00:00",
          "2021-09-24T00:00:00",
          "2021-09-25T00:00:00",
          "2021-09-26T00:00:00",
          "2021-09-27T00:00:00",
          "2021-09-28T00:00:00",
          "2021-09-29T00:00:00",
          "2021-09-30T00:00:00",
          "2021-10-01T00:00:00",
          "2021-10-02T00:00:00",
          "2021-10-03T00:00:00",
          "2021-10-04T00:00:00",
          "2021-10-05T00:00:00",
          "2021-10-06T00:00:00",
          "2021-10-07T00:00:00",
          "2021-10-08T00:00:00",
          "2021-10-09T00:00:00",
          "2021-10-10T00:00:00",
          "2021-10-11T00:00:00",
          "2021-10-12T00:00:00",
          "2021-10-13T00:00:00",
          "2021-10-14T00:00:00",
          "2021-10-15T00:00:00",
          "2021-10-16T00:00:00",
          "2021-10-17T00:00:00",
          "2021-10-18T00:00:00",
          "2021-10-19T00:00:00",
          "2021-10-20T00:00:00",
          "2021-10-21T00:00:00",
          "2021-10-22T00:00:00",
          "2021-10-23T00:00:00",
          "2021-10-24T00:00:00",
          "2021-10-25T00:00:00",
          "2021-10-26T00:00:00",
          "2021-10-27T00:00:00",
          "2021-10-28T00:00:00",
          "2021-10-29T00:00:00",
          "2021-10-30T00:00:00",
          "2021-10-31T00:00:00",
          "2021-11-01T00:00:00",
          "2021-11-02T00:00:00",
          "2021-11-03T00:00:00",
          "2021-11-04T00:00:00",
          "2021-11-05T00:00:00",
          "2021-11-06T00:00:00",
          "2021-11-07T00:00:00",
          "2021-11-08T00:00:00",
          "2021-11-09T00:00:00",
          "2021-11-10T00:00:00",
          "2021-11-11T00:00:00",
          "2021-11-12T00:00:00",
          "2021-11-13T00:00:00",
          "2021-11-14T00:00:00",
          "2021-11-15T00:00:00",
          "2021-11-16T00:00:00",
          "2021-11-17T00:00:00",
          "2021-11-18T00:00:00",
          "2021-11-19T00:00:00",
          "2021-11-20T00:00:00",
          "2021-11-21T00:00:00",
          "2021-11-22T00:00:00",
          "2021-11-23T00:00:00",
          "2021-11-24T00:00:00",
          "2021-11-25T00:00:00",
          "2021-11-26T00:00:00",
          "2021-11-27T00:00:00",
          "2021-11-28T00:00:00",
          "2021-11-29T00:00:00",
          "2021-11-30T00:00:00",
          "2021-12-01T00:00:00",
          "2021-12-02T00:00:00",
          "2021-12-03T00:00:00",
          "2021-12-04T00:00:00",
          "2021-12-05T00:00:00",
          "2021-12-06T00:00:00",
          "2021-12-07T00:00:00",
          "2021-12-08T00:00:00",
          "2021-12-09T00:00:00",
          "2021-12-10T00:00:00",
          "2021-12-11T00:00:00",
          "2021-12-12T00:00:00",
          "2021-12-13T00:00:00"
         ],
         "xaxis": "x5",
         "y": [
          null,
          null,
          null,
          null,
          null,
          null,
          null,
          null,
          null,
          null,
          null,
          null,
          null,
          null,
          null,
          null,
          null,
          null,
          null,
          null,
          0.2542347941369286,
          0.25087007594931043,
          0.2409529865250655,
          0.22795679357019163,
          0.22246453917451575,
          0.22867455930780325,
          0.20465480961790133,
          0.1907212922374379,
          0.1744666509191478,
          0.17450661987741012,
          0.17378997290727868,
          0.18501643701240172,
          0.1830502657095878,
          0.16185451591339306,
          0.15624428090011958,
          0.15903801949433932,
          0.16107224750953833,
          0.15434808736952824,
          0.1464247224296292,
          0.13683244052575982,
          0.12786088291971712,
          0.13919312197760703,
          0.13707881130767152,
          0.1317037135786219,
          0.1454551500267474,
          0.1439774679693325,
          0.1602111238638913,
          0.18764825848514446,
          0.18726006209508897,
          0.19488235934556622,
          0.2059153998128575,
          0.20026148482717918,
          0.22235999245329555,
          0.2389756709827718,
          0.23647338795025985,
          0.22518858657058563,
          0.21601116232004552,
          0.20392060306473905,
          0.23994302674975637,
          0.24831108857789755,
          0.2108483615516031,
          0.2062669681960436,
          0.226451250113209,
          0.26341466218405085,
          0.2955922007155216,
          0.2851704974367688,
          0.2981006365832567,
          0.3086094538164183,
          0.3025433265753463,
          0.31429362936464644,
          0.30745240621866227,
          0.3075821769138439,
          0.32231340898423466,
          0.3034276165483936,
          0.309762985765687,
          0.3118100282572294,
          0.3096874031914892,
          0.2970778587605994,
          0.26831210836468783,
          0.24332216924926672,
          0.2400171624644429,
          0.23363458364318018,
          0.24574080098965329,
          0.2541683615811105,
          0.2476527992419967,
          0.25986488731172025,
          0.2661139364185078,
          0.2586140642468064,
          0.2532740461046149,
          0.25770017486337754,
          0.2619490869528087,
          0.25152366676108906,
          0.24792511036751022,
          0.26403961779582585,
          0.22991463941890058,
          0.2402575437026279,
          0.23612055505803214,
          0.20977044370516854,
          0.22878840020822608,
          0.22175176612664024,
          0.18337409276359318,
          0.19824519762409185,
          0.20286126455905493,
          0.2009710587755785,
          0.1828286370385243,
          0.18893931213319817,
          0.17586052234080674,
          0.1819488162442267,
          0.17732937421247683,
          0.16000546848800926,
          0.13778712101257304,
          0.13958203329275215,
          0.120224696862245,
          0.1362789463819014,
          0.12387562367914781,
          0.1276453740237624,
          0.11702866233259698,
          0.1345160784938775,
          0.13748330017528396
         ],
         "yaxis": "y5"
        },
        {
         "line": {
          "color": "black"
         },
         "mode": "lines",
         "name": "Hospitalisations",
         "opacity": 0.25,
         "type": "scatter",
         "x": [
          "2021-08-17T00:00:00",
          "2021-08-18T00:00:00",
          "2021-08-19T00:00:00",
          "2021-08-20T00:00:00",
          "2021-08-21T00:00:00",
          "2021-08-22T00:00:00",
          "2021-08-23T00:00:00",
          "2021-08-24T00:00:00",
          "2021-08-25T00:00:00",
          "2021-08-26T00:00:00",
          "2021-08-27T00:00:00",
          "2021-08-28T00:00:00",
          "2021-08-29T00:00:00",
          "2021-08-30T00:00:00",
          "2021-08-31T00:00:00",
          "2021-09-01T00:00:00",
          "2021-09-02T00:00:00",
          "2021-09-03T00:00:00",
          "2021-09-04T00:00:00",
          "2021-09-05T00:00:00",
          "2021-09-06T00:00:00",
          "2021-09-07T00:00:00",
          "2021-09-08T00:00:00",
          "2021-09-09T00:00:00",
          "2021-09-10T00:00:00",
          "2021-09-11T00:00:00",
          "2021-09-12T00:00:00",
          "2021-09-13T00:00:00",
          "2021-09-14T00:00:00",
          "2021-09-15T00:00:00",
          "2021-09-16T00:00:00",
          "2021-09-17T00:00:00",
          "2021-09-18T00:00:00",
          "2021-09-19T00:00:00",
          "2021-09-20T00:00:00",
          "2021-09-21T00:00:00",
          "2021-09-22T00:00:00",
          "2021-09-23T00:00:00",
          "2021-09-24T00:00:00",
          "2021-09-25T00:00:00",
          "2021-09-26T00:00:00",
          "2021-09-27T00:00:00",
          "2021-09-28T00:00:00",
          "2021-09-29T00:00:00",
          "2021-09-30T00:00:00",
          "2021-10-01T00:00:00",
          "2021-10-02T00:00:00",
          "2021-10-03T00:00:00",
          "2021-10-04T00:00:00",
          "2021-10-05T00:00:00",
          "2021-10-06T00:00:00",
          "2021-10-07T00:00:00",
          "2021-10-08T00:00:00",
          "2021-10-09T00:00:00",
          "2021-10-10T00:00:00",
          "2021-10-11T00:00:00",
          "2021-10-12T00:00:00",
          "2021-10-13T00:00:00",
          "2021-10-14T00:00:00",
          "2021-10-15T00:00:00",
          "2021-10-16T00:00:00",
          "2021-10-17T00:00:00",
          "2021-10-18T00:00:00",
          "2021-10-19T00:00:00",
          "2021-10-20T00:00:00",
          "2021-10-21T00:00:00",
          "2021-10-22T00:00:00",
          "2021-10-23T00:00:00",
          "2021-10-24T00:00:00",
          "2021-10-25T00:00:00",
          "2021-10-26T00:00:00",
          "2021-10-27T00:00:00",
          "2021-10-28T00:00:00",
          "2021-10-29T00:00:00",
          "2021-10-30T00:00:00",
          "2021-10-31T00:00:00",
          "2021-11-01T00:00:00",
          "2021-11-02T00:00:00",
          "2021-11-03T00:00:00",
          "2021-11-04T00:00:00",
          "2021-11-05T00:00:00",
          "2021-11-06T00:00:00",
          "2021-11-07T00:00:00",
          "2021-11-08T00:00:00",
          "2021-11-09T00:00:00",
          "2021-11-10T00:00:00",
          "2021-11-11T00:00:00",
          "2021-11-12T00:00:00",
          "2021-11-13T00:00:00",
          "2021-11-14T00:00:00",
          "2021-11-15T00:00:00",
          "2021-11-16T00:00:00",
          "2021-11-17T00:00:00",
          "2021-11-18T00:00:00",
          "2021-11-19T00:00:00",
          "2021-11-20T00:00:00",
          "2021-11-21T00:00:00",
          "2021-11-22T00:00:00",
          "2021-11-23T00:00:00",
          "2021-11-24T00:00:00",
          "2021-11-25T00:00:00",
          "2021-11-26T00:00:00",
          "2021-11-27T00:00:00",
          "2021-11-28T00:00:00",
          "2021-11-29T00:00:00",
          "2021-11-30T00:00:00",
          "2021-12-01T00:00:00",
          "2021-12-02T00:00:00",
          "2021-12-03T00:00:00",
          "2021-12-04T00:00:00",
          "2021-12-05T00:00:00",
          "2021-12-06T00:00:00",
          "2021-12-07T00:00:00",
          "2021-12-08T00:00:00",
          "2021-12-09T00:00:00",
          "2021-12-10T00:00:00",
          "2021-12-11T00:00:00"
         ],
         "xaxis": "x6",
         "y": [
          4,
          7,
          7,
          7,
          5,
          4,
          7,
          4,
          5,
          5,
          10,
          8,
          8,
          6,
          10,
          8,
          11,
          11,
          10,
          17,
          10,
          18,
          10,
          17,
          25,
          21,
          22,
          21,
          20,
          23,
          16,
          24,
          21,
          28,
          20,
          21,
          31,
          19,
          22,
          21,
          20,
          24,
          16,
          25,
          16,
          19,
          23,
          15,
          14,
          23,
          13,
          19,
          14,
          17,
          14,
          22,
          16,
          19,
          20,
          16,
          18,
          15,
          15,
          9,
          16,
          22,
          16,
          23,
          21,
          8,
          19,
          14,
          20,
          19,
          16,
          16,
          27,
          13,
          16,
          22,
          17,
          17,
          12,
          12,
          6,
          14,
          8,
          17,
          10,
          15,
          19,
          5,
          12,
          9,
          9,
          10,
          9,
          15,
          12,
          5,
          10,
          14,
          13,
          16,
          9,
          3,
          14,
          11,
          6,
          12,
          7,
          11,
          18,
          7,
          6,
          5,
          2
         ],
         "yaxis": "y6"
        },
        {
         "line": {
          "color": "black",
          "width": 3
         },
         "mode": "lines",
         "name": "Hospitalisations7DMA",
         "type": "scatter",
         "x": [
          "2021-08-17T00:00:00",
          "2021-08-18T00:00:00",
          "2021-08-19T00:00:00",
          "2021-08-20T00:00:00",
          "2021-08-21T00:00:00",
          "2021-08-22T00:00:00",
          "2021-08-23T00:00:00",
          "2021-08-24T00:00:00",
          "2021-08-25T00:00:00",
          "2021-08-26T00:00:00",
          "2021-08-27T00:00:00",
          "2021-08-28T00:00:00",
          "2021-08-29T00:00:00",
          "2021-08-30T00:00:00",
          "2021-08-31T00:00:00",
          "2021-09-01T00:00:00",
          "2021-09-02T00:00:00",
          "2021-09-03T00:00:00",
          "2021-09-04T00:00:00",
          "2021-09-05T00:00:00",
          "2021-09-06T00:00:00",
          "2021-09-07T00:00:00",
          "2021-09-08T00:00:00",
          "2021-09-09T00:00:00",
          "2021-09-10T00:00:00",
          "2021-09-11T00:00:00",
          "2021-09-12T00:00:00",
          "2021-09-13T00:00:00",
          "2021-09-14T00:00:00",
          "2021-09-15T00:00:00",
          "2021-09-16T00:00:00",
          "2021-09-17T00:00:00",
          "2021-09-18T00:00:00",
          "2021-09-19T00:00:00",
          "2021-09-20T00:00:00",
          "2021-09-21T00:00:00",
          "2021-09-22T00:00:00",
          "2021-09-23T00:00:00",
          "2021-09-24T00:00:00",
          "2021-09-25T00:00:00",
          "2021-09-26T00:00:00",
          "2021-09-27T00:00:00",
          "2021-09-28T00:00:00",
          "2021-09-29T00:00:00",
          "2021-09-30T00:00:00",
          "2021-10-01T00:00:00",
          "2021-10-02T00:00:00",
          "2021-10-03T00:00:00",
          "2021-10-04T00:00:00",
          "2021-10-05T00:00:00",
          "2021-10-06T00:00:00",
          "2021-10-07T00:00:00",
          "2021-10-08T00:00:00",
          "2021-10-09T00:00:00",
          "2021-10-10T00:00:00",
          "2021-10-11T00:00:00",
          "2021-10-12T00:00:00",
          "2021-10-13T00:00:00",
          "2021-10-14T00:00:00",
          "2021-10-15T00:00:00",
          "2021-10-16T00:00:00",
          "2021-10-17T00:00:00",
          "2021-10-18T00:00:00",
          "2021-10-19T00:00:00",
          "2021-10-20T00:00:00",
          "2021-10-21T00:00:00",
          "2021-10-22T00:00:00",
          "2021-10-23T00:00:00",
          "2021-10-24T00:00:00",
          "2021-10-25T00:00:00",
          "2021-10-26T00:00:00",
          "2021-10-27T00:00:00",
          "2021-10-28T00:00:00",
          "2021-10-29T00:00:00",
          "2021-10-30T00:00:00",
          "2021-10-31T00:00:00",
          "2021-11-01T00:00:00",
          "2021-11-02T00:00:00",
          "2021-11-03T00:00:00",
          "2021-11-04T00:00:00",
          "2021-11-05T00:00:00",
          "2021-11-06T00:00:00",
          "2021-11-07T00:00:00",
          "2021-11-08T00:00:00",
          "2021-11-09T00:00:00",
          "2021-11-10T00:00:00",
          "2021-11-11T00:00:00",
          "2021-11-12T00:00:00",
          "2021-11-13T00:00:00",
          "2021-11-14T00:00:00",
          "2021-11-15T00:00:00",
          "2021-11-16T00:00:00",
          "2021-11-17T00:00:00",
          "2021-11-18T00:00:00",
          "2021-11-19T00:00:00",
          "2021-11-20T00:00:00",
          "2021-11-21T00:00:00",
          "2021-11-22T00:00:00",
          "2021-11-23T00:00:00",
          "2021-11-24T00:00:00",
          "2021-11-25T00:00:00",
          "2021-11-26T00:00:00",
          "2021-11-27T00:00:00",
          "2021-11-28T00:00:00",
          "2021-11-29T00:00:00",
          "2021-11-30T00:00:00",
          "2021-12-01T00:00:00",
          "2021-12-02T00:00:00",
          "2021-12-03T00:00:00",
          "2021-12-04T00:00:00",
          "2021-12-05T00:00:00",
          "2021-12-06T00:00:00",
          "2021-12-07T00:00:00",
          "2021-12-08T00:00:00",
          "2021-12-09T00:00:00",
          "2021-12-10T00:00:00",
          "2021-12-11T00:00:00"
         ],
         "xaxis": "x6",
         "y": [
          null,
          null,
          null,
          null,
          null,
          null,
          5.857142857142857,
          5.857142857142857,
          5.571428571428571,
          5.285714285714286,
          5.714285714285714,
          6.142857142857143,
          6.714285714285714,
          6.571428571428571,
          7.428571428571429,
          7.857142857142857,
          8.714285714285714,
          8.857142857142858,
          9.142857142857142,
          10.428571428571429,
          11,
          12.142857142857142,
          12.428571428571429,
          13.285714285714286,
          15.285714285714286,
          16.857142857142858,
          17.571428571428573,
          19.142857142857142,
          19.428571428571427,
          21.285714285714285,
          21.142857142857142,
          21,
          21,
          21.857142857142858,
          21.714285714285715,
          21.857142857142858,
          23,
          23.428571428571427,
          23.142857142857142,
          23.142857142857142,
          22,
          22.571428571428573,
          21.857142857142858,
          21,
          20.571428571428573,
          20.142857142857142,
          20.428571428571427,
          19.714285714285715,
          18.285714285714285,
          19.285714285714285,
          17.571428571428573,
          18,
          17.285714285714285,
          16.428571428571427,
          16.285714285714285,
          17.428571428571427,
          16.428571428571427,
          17.285714285714285,
          17.428571428571427,
          17.714285714285715,
          17.857142857142858,
          18,
          17,
          16,
          15.571428571428571,
          15.857142857142858,
          15.857142857142858,
          16.571428571428573,
          17.428571428571427,
          16.428571428571427,
          17.857142857142858,
          17.571428571428573,
          17.285714285714285,
          17.714285714285715,
          16.714285714285715,
          16,
          18.714285714285715,
          17.857142857142858,
          18.142857142857142,
          18.428571428571427,
          18.142857142857142,
          18.285714285714285,
          17.714285714285715,
          15.571428571428571,
          14.571428571428571,
          14.285714285714286,
          12.285714285714286,
          12.285714285714286,
          11.285714285714286,
          11.714285714285714,
          12.714285714285714,
          12.571428571428571,
          12.285714285714286,
          12.428571428571429,
          11.285714285714286,
          11.285714285714286,
          10.428571428571429,
          9.857142857142858,
          10.857142857142858,
          9.857142857142858,
          10,
          10.714285714285714,
          11.142857142857142,
          12.142857142857142,
          11.285714285714286,
          10,
          11.285714285714286,
          11.428571428571429,
          10.285714285714286,
          10.142857142857142,
          8.857142857142858,
          9.142857142857142,
          11.285714285714286,
          10.285714285714286,
          9.571428571428571,
          9.428571428571429,
          8
         ],
         "yaxis": "y6"
        }
       ],
       "layout": {
        "annotations": [
         {
          "font": {
           "size": 16
          },
          "showarrow": false,
          "text": "Cases",
          "x": 0.13333333333333333,
          "xanchor": "center",
          "xref": "paper",
          "y": 1,
          "yanchor": "bottom",
          "yref": "paper"
         },
         {
          "font": {
           "size": 16
          },
          "showarrow": false,
          "text": "Positive Test Rate",
          "x": 0.5,
          "xanchor": "center",
          "xref": "paper",
          "y": 1,
          "yanchor": "bottom",
          "yref": "paper"
         },
         {
          "font": {
           "size": 16
          },
          "showarrow": false,
          "text": "Hospitalisations",
          "x": 0.8666666666666667,
          "xanchor": "center",
          "xref": "paper",
          "y": 1,
          "yanchor": "bottom",
          "yref": "paper"
         },
         {
          "font": {
           "size": 16
          },
          "showarrow": false,
          "text": "Hospitalisation Rate",
          "x": 0.13333333333333333,
          "xanchor": "center",
          "xref": "paper",
          "y": 0.425,
          "yanchor": "bottom",
          "yref": "paper"
         },
         {
          "font": {
           "size": 16
          },
          "showarrow": false,
          "text": "ICU Rate",
          "x": 0.5,
          "xanchor": "center",
          "xref": "paper",
          "y": 0.425,
          "yanchor": "bottom",
          "yref": "paper"
         },
         {
          "font": {
           "size": 16
          },
          "showarrow": false,
          "text": "Deaths",
          "x": 0.8666666666666667,
          "xanchor": "center",
          "xref": "paper",
          "y": 0.425,
          "yanchor": "bottom",
          "yref": "paper"
         }
        ],
        "height": 600,
        "margin": {
         "b": 60,
         "l": 60,
         "r": 60,
         "t": 60
        },
        "showlegend": false,
        "template": {
         "data": {
          "bar": [
           {
            "error_x": {
             "color": "#2a3f5f"
            },
            "error_y": {
             "color": "#2a3f5f"
            },
            "marker": {
             "line": {
              "color": "#E5ECF6",
              "width": 0.5
             },
             "pattern": {
              "fillmode": "overlay",
              "size": 10,
              "solidity": 0.2
             }
            },
            "type": "bar"
           }
          ],
          "barpolar": [
           {
            "marker": {
             "line": {
              "color": "#E5ECF6",
              "width": 0.5
             },
             "pattern": {
              "fillmode": "overlay",
              "size": 10,
              "solidity": 0.2
             }
            },
            "type": "barpolar"
           }
          ],
          "carpet": [
           {
            "aaxis": {
             "endlinecolor": "#2a3f5f",
             "gridcolor": "white",
             "linecolor": "white",
             "minorgridcolor": "white",
             "startlinecolor": "#2a3f5f"
            },
            "baxis": {
             "endlinecolor": "#2a3f5f",
             "gridcolor": "white",
             "linecolor": "white",
             "minorgridcolor": "white",
             "startlinecolor": "#2a3f5f"
            },
            "type": "carpet"
           }
          ],
          "choropleth": [
           {
            "colorbar": {
             "outlinewidth": 0,
             "ticks": ""
            },
            "type": "choropleth"
           }
          ],
          "contour": [
           {
            "colorbar": {
             "outlinewidth": 0,
             "ticks": ""
            },
            "colorscale": [
             [
              0,
              "#0d0887"
             ],
             [
              0.1111111111111111,
              "#46039f"
             ],
             [
              0.2222222222222222,
              "#7201a8"
             ],
             [
              0.3333333333333333,
              "#9c179e"
             ],
             [
              0.4444444444444444,
              "#bd3786"
             ],
             [
              0.5555555555555556,
              "#d8576b"
             ],
             [
              0.6666666666666666,
              "#ed7953"
             ],
             [
              0.7777777777777778,
              "#fb9f3a"
             ],
             [
              0.8888888888888888,
              "#fdca26"
             ],
             [
              1,
              "#f0f921"
             ]
            ],
            "type": "contour"
           }
          ],
          "contourcarpet": [
           {
            "colorbar": {
             "outlinewidth": 0,
             "ticks": ""
            },
            "type": "contourcarpet"
           }
          ],
          "heatmap": [
           {
            "colorbar": {
             "outlinewidth": 0,
             "ticks": ""
            },
            "colorscale": [
             [
              0,
              "#0d0887"
             ],
             [
              0.1111111111111111,
              "#46039f"
             ],
             [
              0.2222222222222222,
              "#7201a8"
             ],
             [
              0.3333333333333333,
              "#9c179e"
             ],
             [
              0.4444444444444444,
              "#bd3786"
             ],
             [
              0.5555555555555556,
              "#d8576b"
             ],
             [
              0.6666666666666666,
              "#ed7953"
             ],
             [
              0.7777777777777778,
              "#fb9f3a"
             ],
             [
              0.8888888888888888,
              "#fdca26"
             ],
             [
              1,
              "#f0f921"
             ]
            ],
            "type": "heatmap"
           }
          ],
          "heatmapgl": [
           {
            "colorbar": {
             "outlinewidth": 0,
             "ticks": ""
            },
            "colorscale": [
             [
              0,
              "#0d0887"
             ],
             [
              0.1111111111111111,
              "#46039f"
             ],
             [
              0.2222222222222222,
              "#7201a8"
             ],
             [
              0.3333333333333333,
              "#9c179e"
             ],
             [
              0.4444444444444444,
              "#bd3786"
             ],
             [
              0.5555555555555556,
              "#d8576b"
             ],
             [
              0.6666666666666666,
              "#ed7953"
             ],
             [
              0.7777777777777778,
              "#fb9f3a"
             ],
             [
              0.8888888888888888,
              "#fdca26"
             ],
             [
              1,
              "#f0f921"
             ]
            ],
            "type": "heatmapgl"
           }
          ],
          "histogram": [
           {
            "marker": {
             "pattern": {
              "fillmode": "overlay",
              "size": 10,
              "solidity": 0.2
             }
            },
            "type": "histogram"
           }
          ],
          "histogram2d": [
           {
            "colorbar": {
             "outlinewidth": 0,
             "ticks": ""
            },
            "colorscale": [
             [
              0,
              "#0d0887"
             ],
             [
              0.1111111111111111,
              "#46039f"
             ],
             [
              0.2222222222222222,
              "#7201a8"
             ],
             [
              0.3333333333333333,
              "#9c179e"
             ],
             [
              0.4444444444444444,
              "#bd3786"
             ],
             [
              0.5555555555555556,
              "#d8576b"
             ],
             [
              0.6666666666666666,
              "#ed7953"
             ],
             [
              0.7777777777777778,
              "#fb9f3a"
             ],
             [
              0.8888888888888888,
              "#fdca26"
             ],
             [
              1,
              "#f0f921"
             ]
            ],
            "type": "histogram2d"
           }
          ],
          "histogram2dcontour": [
           {
            "colorbar": {
             "outlinewidth": 0,
             "ticks": ""
            },
            "colorscale": [
             [
              0,
              "#0d0887"
             ],
             [
              0.1111111111111111,
              "#46039f"
             ],
             [
              0.2222222222222222,
              "#7201a8"
             ],
             [
              0.3333333333333333,
              "#9c179e"
             ],
             [
              0.4444444444444444,
              "#bd3786"
             ],
             [
              0.5555555555555556,
              "#d8576b"
             ],
             [
              0.6666666666666666,
              "#ed7953"
             ],
             [
              0.7777777777777778,
              "#fb9f3a"
             ],
             [
              0.8888888888888888,
              "#fdca26"
             ],
             [
              1,
              "#f0f921"
             ]
            ],
            "type": "histogram2dcontour"
           }
          ],
          "mesh3d": [
           {
            "colorbar": {
             "outlinewidth": 0,
             "ticks": ""
            },
            "type": "mesh3d"
           }
          ],
          "parcoords": [
           {
            "line": {
             "colorbar": {
              "outlinewidth": 0,
              "ticks": ""
             }
            },
            "type": "parcoords"
           }
          ],
          "pie": [
           {
            "automargin": true,
            "type": "pie"
           }
          ],
          "scatter": [
           {
            "marker": {
             "colorbar": {
              "outlinewidth": 0,
              "ticks": ""
             }
            },
            "type": "scatter"
           }
          ],
          "scatter3d": [
           {
            "line": {
             "colorbar": {
              "outlinewidth": 0,
              "ticks": ""
             }
            },
            "marker": {
             "colorbar": {
              "outlinewidth": 0,
              "ticks": ""
             }
            },
            "type": "scatter3d"
           }
          ],
          "scattercarpet": [
           {
            "marker": {
             "colorbar": {
              "outlinewidth": 0,
              "ticks": ""
             }
            },
            "type": "scattercarpet"
           }
          ],
          "scattergeo": [
           {
            "marker": {
             "colorbar": {
              "outlinewidth": 0,
              "ticks": ""
             }
            },
            "type": "scattergeo"
           }
          ],
          "scattergl": [
           {
            "marker": {
             "colorbar": {
              "outlinewidth": 0,
              "ticks": ""
             }
            },
            "type": "scattergl"
           }
          ],
          "scattermapbox": [
           {
            "marker": {
             "colorbar": {
              "outlinewidth": 0,
              "ticks": ""
             }
            },
            "type": "scattermapbox"
           }
          ],
          "scatterpolar": [
           {
            "marker": {
             "colorbar": {
              "outlinewidth": 0,
              "ticks": ""
             }
            },
            "type": "scatterpolar"
           }
          ],
          "scatterpolargl": [
           {
            "marker": {
             "colorbar": {
              "outlinewidth": 0,
              "ticks": ""
             }
            },
            "type": "scatterpolargl"
           }
          ],
          "scatterternary": [
           {
            "marker": {
             "colorbar": {
              "outlinewidth": 0,
              "ticks": ""
             }
            },
            "type": "scatterternary"
           }
          ],
          "surface": [
           {
            "colorbar": {
             "outlinewidth": 0,
             "ticks": ""
            },
            "colorscale": [
             [
              0,
              "#0d0887"
             ],
             [
              0.1111111111111111,
              "#46039f"
             ],
             [
              0.2222222222222222,
              "#7201a8"
             ],
             [
              0.3333333333333333,
              "#9c179e"
             ],
             [
              0.4444444444444444,
              "#bd3786"
             ],
             [
              0.5555555555555556,
              "#d8576b"
             ],
             [
              0.6666666666666666,
              "#ed7953"
             ],
             [
              0.7777777777777778,
              "#fb9f3a"
             ],
             [
              0.8888888888888888,
              "#fdca26"
             ],
             [
              1,
              "#f0f921"
             ]
            ],
            "type": "surface"
           }
          ],
          "table": [
           {
            "cells": {
             "fill": {
              "color": "#EBF0F8"
             },
             "line": {
              "color": "white"
             }
            },
            "header": {
             "fill": {
              "color": "#C8D4E3"
             },
             "line": {
              "color": "white"
             }
            },
            "type": "table"
           }
          ]
         },
         "layout": {
          "annotationdefaults": {
           "arrowcolor": "#2a3f5f",
           "arrowhead": 0,
           "arrowwidth": 1
          },
          "autotypenumbers": "strict",
          "coloraxis": {
           "colorbar": {
            "outlinewidth": 0,
            "ticks": ""
           }
          },
          "colorscale": {
           "diverging": [
            [
             0,
             "#8e0152"
            ],
            [
             0.1,
             "#c51b7d"
            ],
            [
             0.2,
             "#de77ae"
            ],
            [
             0.3,
             "#f1b6da"
            ],
            [
             0.4,
             "#fde0ef"
            ],
            [
             0.5,
             "#f7f7f7"
            ],
            [
             0.6,
             "#e6f5d0"
            ],
            [
             0.7,
             "#b8e186"
            ],
            [
             0.8,
             "#7fbc41"
            ],
            [
             0.9,
             "#4d9221"
            ],
            [
             1,
             "#276419"
            ]
           ],
           "sequential": [
            [
             0,
             "#0d0887"
            ],
            [
             0.1111111111111111,
             "#46039f"
            ],
            [
             0.2222222222222222,
             "#7201a8"
            ],
            [
             0.3333333333333333,
             "#9c179e"
            ],
            [
             0.4444444444444444,
             "#bd3786"
            ],
            [
             0.5555555555555556,
             "#d8576b"
            ],
            [
             0.6666666666666666,
             "#ed7953"
            ],
            [
             0.7777777777777778,
             "#fb9f3a"
            ],
            [
             0.8888888888888888,
             "#fdca26"
            ],
            [
             1,
             "#f0f921"
            ]
           ],
           "sequentialminus": [
            [
             0,
             "#0d0887"
            ],
            [
             0.1111111111111111,
             "#46039f"
            ],
            [
             0.2222222222222222,
             "#7201a8"
            ],
            [
             0.3333333333333333,
             "#9c179e"
            ],
            [
             0.4444444444444444,
             "#bd3786"
            ],
            [
             0.5555555555555556,
             "#d8576b"
            ],
            [
             0.6666666666666666,
             "#ed7953"
            ],
            [
             0.7777777777777778,
             "#fb9f3a"
            ],
            [
             0.8888888888888888,
             "#fdca26"
            ],
            [
             1,
             "#f0f921"
            ]
           ]
          },
          "colorway": [
           "#636efa",
           "#EF553B",
           "#00cc96",
           "#ab63fa",
           "#FFA15A",
           "#19d3f3",
           "#FF6692",
           "#B6E880",
           "#FF97FF",
           "#FECB52"
          ],
          "font": {
           "color": "#2a3f5f"
          },
          "geo": {
           "bgcolor": "white",
           "lakecolor": "white",
           "landcolor": "#E5ECF6",
           "showlakes": true,
           "showland": true,
           "subunitcolor": "white"
          },
          "hoverlabel": {
           "align": "left"
          },
          "hovermode": "closest",
          "mapbox": {
           "style": "light"
          },
          "paper_bgcolor": "white",
          "plot_bgcolor": "#E5ECF6",
          "polar": {
           "angularaxis": {
            "gridcolor": "white",
            "linecolor": "white",
            "ticks": ""
           },
           "bgcolor": "#E5ECF6",
           "radialaxis": {
            "gridcolor": "white",
            "linecolor": "white",
            "ticks": ""
           }
          },
          "scene": {
           "xaxis": {
            "backgroundcolor": "#E5ECF6",
            "gridcolor": "white",
            "gridwidth": 2,
            "linecolor": "white",
            "showbackground": true,
            "ticks": "",
            "zerolinecolor": "white"
           },
           "yaxis": {
            "backgroundcolor": "#E5ECF6",
            "gridcolor": "white",
            "gridwidth": 2,
            "linecolor": "white",
            "showbackground": true,
            "ticks": "",
            "zerolinecolor": "white"
           },
           "zaxis": {
            "backgroundcolor": "#E5ECF6",
            "gridcolor": "white",
            "gridwidth": 2,
            "linecolor": "white",
            "showbackground": true,
            "ticks": "",
            "zerolinecolor": "white"
           }
          },
          "shapedefaults": {
           "line": {
            "color": "#2a3f5f"
           }
          },
          "ternary": {
           "aaxis": {
            "gridcolor": "white",
            "linecolor": "white",
            "ticks": ""
           },
           "baxis": {
            "gridcolor": "white",
            "linecolor": "white",
            "ticks": ""
           },
           "bgcolor": "#E5ECF6",
           "caxis": {
            "gridcolor": "white",
            "linecolor": "white",
            "ticks": ""
           }
          },
          "title": {
           "x": 0.05
          },
          "xaxis": {
           "automargin": true,
           "gridcolor": "white",
           "linecolor": "white",
           "ticks": "",
           "title": {
            "standoff": 15
           },
           "zerolinecolor": "white",
           "zerolinewidth": 2
          },
          "yaxis": {
           "automargin": true,
           "gridcolor": "white",
           "linecolor": "white",
           "ticks": "",
           "title": {
            "standoff": 15
           },
           "zerolinecolor": "white",
           "zerolinewidth": 2
          }
         }
        },
        "title": {
         "text": "Scotland COVID Update (Data to 14/12/2021)"
        },
        "width": 1000,
        "xaxis": {
         "anchor": "y",
         "domain": [
          0,
          0.26666666666666666
         ],
         "range": [
          "2021-08-17T00:00:00",
          "2021-12-20"
         ]
        },
        "xaxis2": {
         "anchor": "y2",
         "domain": [
          0.3666666666666667,
          0.6333333333333333
         ],
         "range": [
          "2021-08-17T00:00:00",
          "2021-12-20"
         ]
        },
        "xaxis3": {
         "anchor": "y3",
         "domain": [
          0.7333333333333334,
          1
         ],
         "range": [
          "2021-08-17T00:00:00",
          "2021-12-20"
         ]
        },
        "xaxis4": {
         "anchor": "y4",
         "domain": [
          0,
          0.26666666666666666
         ],
         "range": [
          "2021-08-17T00:00:00",
          "2021-12-20"
         ]
        },
        "xaxis5": {
         "anchor": "y5",
         "domain": [
          0.3666666666666667,
          0.6333333333333333
         ],
         "range": [
          "2021-08-17T00:00:00",
          "2021-12-20"
         ]
        },
        "xaxis6": {
         "anchor": "y6",
         "domain": [
          0.7333333333333334,
          1
         ],
         "range": [
          "2021-08-17T00:00:00",
          "2021-12-20"
         ]
        },
        "yaxis": {
         "anchor": "x",
         "domain": [
          0.575,
          1
         ],
         "title": {
          "text": "Cases/Day"
         }
        },
        "yaxis2": {
         "anchor": "x2",
         "domain": [
          0.575,
          1
         ],
         "title": {
          "text": "Positive Test Rate (%)"
         }
        },
        "yaxis3": {
         "anchor": "x3",
         "domain": [
          0.575,
          1
         ],
         "title": {
          "text": "Admissions/Day"
         }
        },
        "yaxis4": {
         "anchor": "x4",
         "domain": [
          0,
          0.425
         ],
         "title": {
          "text": "Hospitalisation Rate (%)"
         }
        },
        "yaxis5": {
         "anchor": "x5",
         "domain": [
          0,
          0.425
         ],
         "title": {
          "text": "ICU Rate (%)"
         }
        },
        "yaxis6": {
         "anchor": "x6",
         "domain": [
          0,
          0.425
         ],
         "title": {
          "text": "Deaths"
         }
        }
       }
      }
     },
     "metadata": {},
     "output_type": "display_data"
    }
   ],
   "source": [
    "\n",
    "from plotly.subplots import make_subplots\n",
    "\n",
    "specs=[[{\"secondary_y\": False}, {\"secondary_y\": False},{\"secondary_y\": False}], \n",
    "                           [{\"secondary_y\": False}, {\"secondary_y\": False},{\"secondary_y\": False}]\n",
    "                           ]\n",
    "\n",
    "\n",
    "fig = make_subplots(rows=2,cols=3,specs=specs, subplot_titles=['Cases','Positive Test Rate','Hospitalisations','Hospitalisation Rate', 'ICU Rate', 'Deaths'],vertical_spacing = 0.15,horizontal_spacing = 0.1)\n",
    "\n",
    "#\n",
    "# Cases\n",
    "#\n",
    "fig.add_scatter(x=df_cases.iloc[-RANGE:-1].index, y=df_cases['DailyCases'].iloc[-RANGE:-1], mode='lines',name='Cases',line_color='blue',opacity=0.25,row=1,col=1)\n",
    "fig.add_scatter(x=df_cases.iloc[-RANGE:-1].rolling(window=7).mean().index, y=df_cases['DailyCases'].iloc[-RANGE:-1].rolling(window=7).mean(), mode='lines',name='Cases 7DMA',line_color='blue',line_width=3,row=1,col=1)\n",
    "\n",
    "#\n",
    "# Pos Rate\n",
    "#\n",
    "\n",
    "fig.add_scatter(x=df_hospital.iloc[-RANGE:-1].index, y=df_hospital['PositivePercentage'].iloc[-RANGE:-1], mode='lines',name='Pos Rate',line_color='green',opacity=0.25,row=1,col=2)\n",
    "fig.add_scatter(x=df_hospital.iloc[-RANGE:-1].rolling(window=7).mean().index, y=df_hospital['PositivePercentage'].iloc[-RANGE:-1].rolling(window=7).mean(), mode='lines',name='Pos Rate',line_color='green',line_width=3,row=1,col=2)\n",
    "\n",
    "#\n",
    "# Hospital Admissions\n",
    "#\n",
    "fig.add_scatter(x=df_hospital.iloc[-RANGE:-1].index, y=df_hospital['HospitalAdmissions'].iloc[-RANGE:-1], mode='lines',name='Admissions',line_color='red',opacity=0.25,row=1,col=3)\n",
    "fig.add_scatter(x=df_hospital.iloc[-RANGE:-1].rolling(window=7).mean().index, y=df_hospital['HospitalAdmissions'].iloc[-RANGE:-1].rolling(window=7).mean(), mode='lines',name='Admissions',line_color='red',line_width=3,row=1,col=3)\n",
    "\n",
    "#\n",
    "# Hosp Rate\n",
    "#\n",
    "\n",
    "fig.add_scatter(x=df_hospital.iloc[-RANGE:-1].index, y=((df_hospital['HospitalAdmissions'].iloc[-RANGE:-1]/df_cases['DailyCases'].iloc[-RANGE:-1].shift(HOSPITAL_OFFSET))*100), mode='lines',name='Hosp. Rate',line_color='purple',opacity=0.25,row=2,col=1)\n",
    "fig.add_scatter(x=df_hospital.iloc[-RANGE:-1].index, y=((df_hospital['HospitalAdmissions'].iloc[-RANGE:-1]/df_cases['DailyCases'].iloc[-RANGE:-1].shift(HOSPITAL_OFFSET))*100).rolling(window=7).mean(), mode='lines',name='Hosp. Rate',line_color='purple',line_width=3,row=2,col=1)\n",
    "\n",
    "#\n",
    "# ICU Rate\n",
    "#\n",
    "\n",
    "fig.add_scatter(x=df_hospital['ICUAdmissions'].iloc[-RANGE:-1].index, y=((df_hospital['ICUAdmissions'].iloc[-RANGE:-1]/df_cases['DailyCases'].iloc[-RANGE:-1].shift(ICU_OFFSET))*100), mode='lines',name='ICU Rate',line_color='brown',opacity=0.25,row=2,col=2)\n",
    "fig.add_scatter(x=df_hospital['ICUAdmissions'].iloc[-RANGE:-1].index, y=((df_hospital['ICUAdmissions'].iloc[-RANGE:-1]/df_cases['DailyCases'].iloc[-RANGE:-1].shift(ICU_OFFSET))*100).rolling(window=7).mean(), mode='lines',name='ICU Rate',line_color='brown',line_width=3,row=2,col=2)\n",
    "\n",
    "#\n",
    "# Deaths\n",
    "#\n",
    "\n",
    "fig.add_scatter(x=df_hospital['DailyDeaths'].iloc[-RANGE:-DEATH_DELAY].index, y=df_hospital['DailyDeaths'].iloc[-RANGE:-DEATH_DELAY], mode='lines',name='Hospitalisations',line_color='black',opacity=0.25,row=2,col=3)\n",
    "fig.add_scatter(x=df_hospital['DailyDeaths'].iloc[-RANGE:-DEATH_DELAY].index, y=df_hospital['DailyDeaths'].iloc[-RANGE:-DEATH_DELAY].rolling(window=7).mean(), mode='lines',name='Hospitalisations7DMA',line_color='black',line_width=3,row=2,col=3)\n",
    "\n",
    "fig['layout']['yaxis']['title']='Cases/Day'\n",
    "fig['layout']['yaxis2']['title']='Positive Test Rate (%)'\n",
    "fig['layout']['yaxis3']['title']='Admissions/Day'\n",
    "fig['layout']['yaxis4']['title']='Hospitalisation Rate (%)'\n",
    "fig['layout']['yaxis5']['title']='ICU Rate (%)'\n",
    "fig['layout']['yaxis6']['title']='Deaths'\n",
    "\n",
    "# fig.update_layout(\n",
    "#     xaxis_range = [ df_cases.iloc[-RANGE:-1].index[0].date().strftime('%d-%m-%Y'), (df_cases.iloc[-RANGE:-1].index[-1].date()+pd.Timedelta(days=7)).strftime('%d-%m-%Y') ] \n",
    "# )\n",
    "fig.update_xaxes(range = [df_cases.iloc[-RANGE:-1].index[0], (df_cases.iloc[-RANGE:-1].index[-1].date()+pd.Timedelta(days=7))])\n",
    "\n",
    "fig.update_layout(height=600, width=1000, title_text=\"Scotland COVID Update (Data to \"+df_cases.index[-1].strftime(\"%d/%m/%Y\")+\")\", margin=dict(l=60, r=60, t=60, b=60))\n",
    "fig.update_layout(showlegend=False)\n",
    "fig.show()"
   ]
  },
  {
   "cell_type": "code",
   "execution_count": 9,
   "metadata": {},
   "outputs": [],
   "source": [
    "df_local=pd.read_csv('https://www.opendata.nhs.scot/dataset/b318bddf-a4dc-4262-971f-0ba329e09b87/resource/427f9a25-db22-4014-a3bc-893b68243055/download/trend_ca_20211213.csv', index_col='Date',parse_dates=True)"
   ]
  },
  {
   "cell_type": "code",
   "execution_count": 10,
   "metadata": {},
   "outputs": [
    {
     "data": {
      "text/plain": [
       "<AxesSubplot:xlabel='Date'>"
      ]
     },
     "execution_count": 10,
     "metadata": {},
     "output_type": "execute_result"
    },
    {
     "data": {
      "image/png": "[encoded data removed]",
      "text/plain": [
       "<Figure size 432x288 with 1 Axes>"
      ]
     },
     "metadata": {
      "needs_background": "light"
     },
     "output_type": "display_data"
    }
   ],
   "source": [
    "df_local[df_local['CAName']=='Glasgow City']['DailyPositive'].plot()"
   ]
  },
  {
   "cell_type": "code",
   "execution_count": 11,
   "metadata": {},
   "outputs": [],
   "source": [
    "# df_local.to_csv('df_city.csv')"
   ]
  },
  {
   "cell_type": "code",
   "execution_count": 12,
   "metadata": {},
   "outputs": [
    {
     "data": {
      "text/plain": [
       "14"
      ]
     },
     "execution_count": 12,
     "metadata": {},
     "output_type": "execute_result"
    }
   ],
   "source": [
    "sorted(df_local['CAName'].unique().tolist()).index('Glasgow City')"
   ]
  },
  {
   "cell_type": "code",
   "execution_count": 13,
   "metadata": {},
   "outputs": [
    {
     "data": {
      "text/plain": [
       "['CA',\n",
       " 'CAName',\n",
       " 'DailyPositive',\n",
       " 'CumulativePositive',\n",
       " 'CrudeRatePositive',\n",
       " 'CrudeRate7DayPositive',\n",
       " 'DailyDeaths',\n",
       " 'CumulativeDeaths',\n",
       " 'CrudeRateDeaths',\n",
       " 'DailyNegative',\n",
       " 'CumulativeNegative',\n",
       " 'CrudeRateNegative',\n",
       " 'TotalTests',\n",
       " 'PositiveTests',\n",
       " 'PositivePercentage',\n",
       " 'PositivePercentage7Day',\n",
       " 'TotalPillar1',\n",
       " 'TotalPillar2',\n",
       " 'PositivePillar1',\n",
       " 'PositivePillar2']"
      ]
     },
     "execution_count": 13,
     "metadata": {},
     "output_type": "execute_result"
    }
   ],
   "source": [
    "df_local.columns.tolist()"
   ]
  },
  {
   "cell_type": "code",
   "execution_count": 352,
   "metadata": {},
   "outputs": [],
   "source": [
    "gov_uk_hospital_scot=pd.read_csv('https://coronavirus.data.gov.uk/api/v1/data?filters=areaType=nation;areaName=Scotland&structure=%7B%22areaType%22:%22areaType%22,%22areaName%22:%22areaName%22,%22areaCode%22:%22areaCode%22,%22date%22:%22date%22,%22hospitalCases%22:%22hospitalCases%22%7D&format=csv',index_col='date',parse_dates=True)"
   ]
  },
  {
   "cell_type": "code",
   "execution_count": 353,
   "metadata": {},
   "outputs": [],
   "source": [
    "df_hospital=pd.read_csv('https://www.opendata.nhs.scot/dataset/b318bddf-a4dc-4262-971f-0ba329e09b87/resource/2dd8534b-0a6f-4744-9253-9565d62f96c2/download/trend_hb_20211210.csv', index_col='Date',parse_dates=True)\n",
    "gov_uk_hospital_scot=pd.read_csv('https://coronavirus.data.gov.uk/api/v1/data?filters=areaType=nation;areaName=Scotland&structure=%7B%22areaType%22:%22areaType%22,%22areaName%22:%22areaName%22,%22areaCode%22:%22areaCode%22,%22date%22:%22date%22,%22hospitalCases%22:%22hospitalCases%22%7D&format=csv',index_col='date',parse_dates=True)\n"
   ]
  },
  {
   "cell_type": "code",
   "execution_count": 354,
   "metadata": {},
   "outputs": [],
   "source": [
    "df_hospital=df_hospital[df_hospital['HBName']=='Scotland']"
   ]
  },
  {
   "cell_type": "code",
   "execution_count": 17,
   "metadata": {},
   "outputs": [
    {
     "data": {
      "text/html": [
       "<div>\n",
       "<style scoped>\n",
       "    .dataframe tbody tr th:only-of-type {\n",
       "        vertical-align: middle;\n",
       "    }\n",
       "\n",
       "    .dataframe tbody tr th {\n",
       "        vertical-align: top;\n",
       "    }\n",
       "\n",
       "    .dataframe thead th {\n",
       "        text-align: right;\n",
       "    }\n",
       "</style>\n",
       "<table border=\"1\" class=\"dataframe\">\n",
       "  <thead>\n",
       "    <tr style=\"text-align: right;\">\n",
       "      <th></th>\n",
       "      <th>areaType</th>\n",
       "      <th>areaName</th>\n",
       "      <th>areaCode</th>\n",
       "      <th>hospitalCases</th>\n",
       "    </tr>\n",
       "    <tr>\n",
       "      <th>date</th>\n",
       "      <th></th>\n",
       "      <th></th>\n",
       "      <th></th>\n",
       "      <th></th>\n",
       "    </tr>\n",
       "  </thead>\n",
       "  <tbody>\n",
       "    <tr>\n",
       "      <th>2021-12-14</th>\n",
       "      <td>nation</td>\n",
       "      <td>Scotland</td>\n",
       "      <td>S92000003</td>\n",
       "      <td>541</td>\n",
       "    </tr>\n",
       "    <tr>\n",
       "      <th>2021-12-13</th>\n",
       "      <td>nation</td>\n",
       "      <td>Scotland</td>\n",
       "      <td>S92000003</td>\n",
       "      <td>561</td>\n",
       "    </tr>\n",
       "    <tr>\n",
       "      <th>2021-12-12</th>\n",
       "      <td>nation</td>\n",
       "      <td>Scotland</td>\n",
       "      <td>S92000003</td>\n",
       "      <td>541</td>\n",
       "    </tr>\n",
       "    <tr>\n",
       "      <th>2021-12-11</th>\n",
       "      <td>nation</td>\n",
       "      <td>Scotland</td>\n",
       "      <td>S92000003</td>\n",
       "      <td>552</td>\n",
       "    </tr>\n",
       "    <tr>\n",
       "      <th>2021-12-10</th>\n",
       "      <td>nation</td>\n",
       "      <td>Scotland</td>\n",
       "      <td>S92000003</td>\n",
       "      <td>573</td>\n",
       "    </tr>\n",
       "    <tr>\n",
       "      <th>...</th>\n",
       "      <td>...</td>\n",
       "      <td>...</td>\n",
       "      <td>...</td>\n",
       "      <td>...</td>\n",
       "    </tr>\n",
       "    <tr>\n",
       "      <th>2020-03-31</th>\n",
       "      <td>nation</td>\n",
       "      <td>Scotland</td>\n",
       "      <td>S92000003</td>\n",
       "      <td>752</td>\n",
       "    </tr>\n",
       "    <tr>\n",
       "      <th>2020-03-30</th>\n",
       "      <td>nation</td>\n",
       "      <td>Scotland</td>\n",
       "      <td>S92000003</td>\n",
       "      <td>627</td>\n",
       "    </tr>\n",
       "    <tr>\n",
       "      <th>2020-03-29</th>\n",
       "      <td>nation</td>\n",
       "      <td>Scotland</td>\n",
       "      <td>S92000003</td>\n",
       "      <td>565</td>\n",
       "    </tr>\n",
       "    <tr>\n",
       "      <th>2020-03-28</th>\n",
       "      <td>nation</td>\n",
       "      <td>Scotland</td>\n",
       "      <td>S92000003</td>\n",
       "      <td>511</td>\n",
       "    </tr>\n",
       "    <tr>\n",
       "      <th>2020-03-27</th>\n",
       "      <td>nation</td>\n",
       "      <td>Scotland</td>\n",
       "      <td>S92000003</td>\n",
       "      <td>404</td>\n",
       "    </tr>\n",
       "  </tbody>\n",
       "</table>\n",
       "<p>628 rows × 4 columns</p>\n",
       "</div>"
      ],
      "text/plain": [
       "           areaType  areaName   areaCode  hospitalCases\n",
       "date                                                   \n",
       "2021-12-14   nation  Scotland  S92000003            541\n",
       "2021-12-13   nation  Scotland  S92000003            561\n",
       "2021-12-12   nation  Scotland  S92000003            541\n",
       "2021-12-11   nation  Scotland  S92000003            552\n",
       "2021-12-10   nation  Scotland  S92000003            573\n",
       "...             ...       ...        ...            ...\n",
       "2020-03-31   nation  Scotland  S92000003            752\n",
       "2020-03-30   nation  Scotland  S92000003            627\n",
       "2020-03-29   nation  Scotland  S92000003            565\n",
       "2020-03-28   nation  Scotland  S92000003            511\n",
       "2020-03-27   nation  Scotland  S92000003            404\n",
       "\n",
       "[628 rows x 4 columns]"
      ]
     },
     "execution_count": 17,
     "metadata": {},
     "output_type": "execute_result"
    }
   ],
   "source": [
    "gov_uk_hospital_scot"
   ]
  },
  {
   "cell_type": "code",
   "execution_count": 18,
   "metadata": {},
   "outputs": [
    {
     "data": {
      "text/html": [
       "<div>\n",
       "<style scoped>\n",
       "    .dataframe tbody tr th:only-of-type {\n",
       "        vertical-align: middle;\n",
       "    }\n",
       "\n",
       "    .dataframe tbody tr th {\n",
       "        vertical-align: top;\n",
       "    }\n",
       "\n",
       "    .dataframe thead th {\n",
       "        text-align: right;\n",
       "    }\n",
       "</style>\n",
       "<table border=\"1\" class=\"dataframe\">\n",
       "  <thead>\n",
       "    <tr style=\"text-align: right;\">\n",
       "      <th></th>\n",
       "      <th>HB</th>\n",
       "      <th>HBName</th>\n",
       "      <th>DailyPositive</th>\n",
       "      <th>CumulativePositive</th>\n",
       "      <th>CrudeRatePositive</th>\n",
       "      <th>CrudeRate7DayPositive</th>\n",
       "      <th>DailyDeaths</th>\n",
       "      <th>CumulativeDeaths</th>\n",
       "      <th>CrudeRateDeaths</th>\n",
       "      <th>DailyNegative</th>\n",
       "      <th>...</th>\n",
       "      <th>PositivePercentage</th>\n",
       "      <th>PositivePercentage7Day</th>\n",
       "      <th>TotalPillar1</th>\n",
       "      <th>TotalPillar2</th>\n",
       "      <th>HospitalAdmissions</th>\n",
       "      <th>HospitalAdmissionsQF</th>\n",
       "      <th>ICUAdmissions</th>\n",
       "      <th>ICUAdmissionsQF</th>\n",
       "      <th>PositivePillar1</th>\n",
       "      <th>PositivePillar2</th>\n",
       "    </tr>\n",
       "    <tr>\n",
       "      <th>Date</th>\n",
       "      <th></th>\n",
       "      <th></th>\n",
       "      <th></th>\n",
       "      <th></th>\n",
       "      <th></th>\n",
       "      <th></th>\n",
       "      <th></th>\n",
       "      <th></th>\n",
       "      <th></th>\n",
       "      <th></th>\n",
       "      <th></th>\n",
       "      <th></th>\n",
       "      <th></th>\n",
       "      <th></th>\n",
       "      <th></th>\n",
       "      <th></th>\n",
       "      <th></th>\n",
       "      <th></th>\n",
       "      <th></th>\n",
       "      <th></th>\n",
       "      <th></th>\n",
       "    </tr>\n",
       "  </thead>\n",
       "  <tbody>\n",
       "    <tr>\n",
       "      <th>2020-02-28</th>\n",
       "      <td>S92000003</td>\n",
       "      <td>Scotland</td>\n",
       "      <td>1</td>\n",
       "      <td>1</td>\n",
       "      <td>0.018295</td>\n",
       "      <td>NaN</td>\n",
       "      <td>0</td>\n",
       "      <td>0</td>\n",
       "      <td>0.000000</td>\n",
       "      <td>121</td>\n",
       "      <td>...</td>\n",
       "      <td>1.219512</td>\n",
       "      <td>NaN</td>\n",
       "      <td>164</td>\n",
       "      <td>0</td>\n",
       "      <td>NaN</td>\n",
       "      <td>:</td>\n",
       "      <td>NaN</td>\n",
       "      <td>:</td>\n",
       "      <td>2</td>\n",
       "      <td>0</td>\n",
       "    </tr>\n",
       "    <tr>\n",
       "      <th>2020-02-29</th>\n",
       "      <td>S92000003</td>\n",
       "      <td>Scotland</td>\n",
       "      <td>0</td>\n",
       "      <td>1</td>\n",
       "      <td>0.018295</td>\n",
       "      <td>NaN</td>\n",
       "      <td>0</td>\n",
       "      <td>0</td>\n",
       "      <td>0.000000</td>\n",
       "      <td>63</td>\n",
       "      <td>...</td>\n",
       "      <td>0.000000</td>\n",
       "      <td>NaN</td>\n",
       "      <td>90</td>\n",
       "      <td>0</td>\n",
       "      <td>NaN</td>\n",
       "      <td>:</td>\n",
       "      <td>NaN</td>\n",
       "      <td>:</td>\n",
       "      <td>0</td>\n",
       "      <td>0</td>\n",
       "    </tr>\n",
       "    <tr>\n",
       "      <th>2020-03-01</th>\n",
       "      <td>S92000003</td>\n",
       "      <td>Scotland</td>\n",
       "      <td>2</td>\n",
       "      <td>3</td>\n",
       "      <td>0.054885</td>\n",
       "      <td>NaN</td>\n",
       "      <td>0</td>\n",
       "      <td>0</td>\n",
       "      <td>0.000000</td>\n",
       "      <td>72</td>\n",
       "      <td>...</td>\n",
       "      <td>2.173913</td>\n",
       "      <td>NaN</td>\n",
       "      <td>92</td>\n",
       "      <td>0</td>\n",
       "      <td>6.0</td>\n",
       "      <td>NaN</td>\n",
       "      <td>NaN</td>\n",
       "      <td>:</td>\n",
       "      <td>2</td>\n",
       "      <td>0</td>\n",
       "    </tr>\n",
       "    <tr>\n",
       "      <th>2020-03-02</th>\n",
       "      <td>S92000003</td>\n",
       "      <td>Scotland</td>\n",
       "      <td>1</td>\n",
       "      <td>4</td>\n",
       "      <td>0.073180</td>\n",
       "      <td>NaN</td>\n",
       "      <td>0</td>\n",
       "      <td>0</td>\n",
       "      <td>0.000000</td>\n",
       "      <td>190</td>\n",
       "      <td>...</td>\n",
       "      <td>1.515152</td>\n",
       "      <td>NaN</td>\n",
       "      <td>264</td>\n",
       "      <td>0</td>\n",
       "      <td>11.0</td>\n",
       "      <td>NaN</td>\n",
       "      <td>NaN</td>\n",
       "      <td>:</td>\n",
       "      <td>4</td>\n",
       "      <td>0</td>\n",
       "    </tr>\n",
       "    <tr>\n",
       "      <th>2020-03-03</th>\n",
       "      <td>S92000003</td>\n",
       "      <td>Scotland</td>\n",
       "      <td>3</td>\n",
       "      <td>7</td>\n",
       "      <td>0.128064</td>\n",
       "      <td>NaN</td>\n",
       "      <td>0</td>\n",
       "      <td>0</td>\n",
       "      <td>0.000000</td>\n",
       "      <td>209</td>\n",
       "      <td>...</td>\n",
       "      <td>2.083333</td>\n",
       "      <td>NaN</td>\n",
       "      <td>288</td>\n",
       "      <td>0</td>\n",
       "      <td>13.0</td>\n",
       "      <td>NaN</td>\n",
       "      <td>NaN</td>\n",
       "      <td>:</td>\n",
       "      <td>6</td>\n",
       "      <td>0</td>\n",
       "    </tr>\n",
       "    <tr>\n",
       "      <th>...</th>\n",
       "      <td>...</td>\n",
       "      <td>...</td>\n",
       "      <td>...</td>\n",
       "      <td>...</td>\n",
       "      <td>...</td>\n",
       "      <td>...</td>\n",
       "      <td>...</td>\n",
       "      <td>...</td>\n",
       "      <td>...</td>\n",
       "      <td>...</td>\n",
       "      <td>...</td>\n",
       "      <td>...</td>\n",
       "      <td>...</td>\n",
       "      <td>...</td>\n",
       "      <td>...</td>\n",
       "      <td>...</td>\n",
       "      <td>...</td>\n",
       "      <td>...</td>\n",
       "      <td>...</td>\n",
       "      <td>...</td>\n",
       "      <td>...</td>\n",
       "    </tr>\n",
       "    <tr>\n",
       "      <th>2021-12-10</th>\n",
       "      <td>S92000003</td>\n",
       "      <td>Scotland</td>\n",
       "      <td>3680</td>\n",
       "      <td>766635</td>\n",
       "      <td>14025.521405</td>\n",
       "      <td>436.205635</td>\n",
       "      <td>5</td>\n",
       "      <td>9740</td>\n",
       "      <td>178.192462</td>\n",
       "      <td>7249</td>\n",
       "      <td>...</td>\n",
       "      <td>9.949705</td>\n",
       "      <td>9.258206</td>\n",
       "      <td>10638</td>\n",
       "      <td>28730</td>\n",
       "      <td>46.0</td>\n",
       "      <td>NaN</td>\n",
       "      <td>3.0</td>\n",
       "      <td>NaN</td>\n",
       "      <td>188</td>\n",
       "      <td>3729</td>\n",
       "    </tr>\n",
       "    <tr>\n",
       "      <th>2021-12-11</th>\n",
       "      <td>S92000003</td>\n",
       "      <td>Scotland</td>\n",
       "      <td>3138</td>\n",
       "      <td>769773</td>\n",
       "      <td>14082.930845</td>\n",
       "      <td>454.793267</td>\n",
       "      <td>2</td>\n",
       "      <td>9742</td>\n",
       "      <td>178.229052</td>\n",
       "      <td>5446</td>\n",
       "      <td>...</td>\n",
       "      <td>12.334028</td>\n",
       "      <td>9.460943</td>\n",
       "      <td>5534</td>\n",
       "      <td>21805</td>\n",
       "      <td>34.0</td>\n",
       "      <td>NaN</td>\n",
       "      <td>2.0</td>\n",
       "      <td>NaN</td>\n",
       "      <td>159</td>\n",
       "      <td>3213</td>\n",
       "    </tr>\n",
       "    <tr>\n",
       "      <th>2021-12-12</th>\n",
       "      <td>S92000003</td>\n",
       "      <td>Scotland</td>\n",
       "      <td>3209</td>\n",
       "      <td>772982</td>\n",
       "      <td>14141.639224</td>\n",
       "      <td>468.093670</td>\n",
       "      <td>2</td>\n",
       "      <td>9744</td>\n",
       "      <td>178.265642</td>\n",
       "      <td>4697</td>\n",
       "      <td>...</td>\n",
       "      <td>12.957502</td>\n",
       "      <td>9.662192</td>\n",
       "      <td>6041</td>\n",
       "      <td>20407</td>\n",
       "      <td>NaN</td>\n",
       "      <td>:</td>\n",
       "      <td>5.0</td>\n",
       "      <td>NaN</td>\n",
       "      <td>137</td>\n",
       "      <td>3290</td>\n",
       "    </tr>\n",
       "    <tr>\n",
       "      <th>2021-12-13</th>\n",
       "      <td>S92000003</td>\n",
       "      <td>Scotland</td>\n",
       "      <td>4831</td>\n",
       "      <td>777813</td>\n",
       "      <td>14230.021954</td>\n",
       "      <td>487.614343</td>\n",
       "      <td>2</td>\n",
       "      <td>9746</td>\n",
       "      <td>178.302232</td>\n",
       "      <td>7868</td>\n",
       "      <td>...</td>\n",
       "      <td>10.256863</td>\n",
       "      <td>10.050038</td>\n",
       "      <td>16293</td>\n",
       "      <td>34629</td>\n",
       "      <td>NaN</td>\n",
       "      <td>:</td>\n",
       "      <td>4.0</td>\n",
       "      <td>NaN</td>\n",
       "      <td>267</td>\n",
       "      <td>4956</td>\n",
       "    </tr>\n",
       "    <tr>\n",
       "      <th>2021-12-14</th>\n",
       "      <td>S92000003</td>\n",
       "      <td>Scotland</td>\n",
       "      <td>72</td>\n",
       "      <td>777885</td>\n",
       "      <td>14231.339188</td>\n",
       "      <td>420.892792</td>\n",
       "      <td>0</td>\n",
       "      <td>9746</td>\n",
       "      <td>178.302232</td>\n",
       "      <td>588</td>\n",
       "      <td>...</td>\n",
       "      <td>2.244143</td>\n",
       "      <td>10.308737</td>\n",
       "      <td>3702</td>\n",
       "      <td>353</td>\n",
       "      <td>NaN</td>\n",
       "      <td>:</td>\n",
       "      <td>3.0</td>\n",
       "      <td>NaN</td>\n",
       "      <td>90</td>\n",
       "      <td>1</td>\n",
       "    </tr>\n",
       "  </tbody>\n",
       "</table>\n",
       "<p>656 rows × 24 columns</p>\n",
       "</div>"
      ],
      "text/plain": [
       "                   HB    HBName  DailyPositive  CumulativePositive  \\\n",
       "Date                                                                 \n",
       "2020-02-28  S92000003  Scotland              1                   1   \n",
       "2020-02-29  S92000003  Scotland              0                   1   \n",
       "2020-03-01  S92000003  Scotland              2                   3   \n",
       "2020-03-02  S92000003  Scotland              1                   4   \n",
       "2020-03-03  S92000003  Scotland              3                   7   \n",
       "...               ...       ...            ...                 ...   \n",
       "2021-12-10  S92000003  Scotland           3680              766635   \n",
       "2021-12-11  S92000003  Scotland           3138              769773   \n",
       "2021-12-12  S92000003  Scotland           3209              772982   \n",
       "2021-12-13  S92000003  Scotland           4831              777813   \n",
       "2021-12-14  S92000003  Scotland             72              777885   \n",
       "\n",
       "            CrudeRatePositive  CrudeRate7DayPositive  DailyDeaths  \\\n",
       "Date                                                                \n",
       "2020-02-28           0.018295                    NaN            0   \n",
       "2020-02-29           0.018295                    NaN            0   \n",
       "2020-03-01           0.054885                    NaN            0   \n",
       "2020-03-02           0.073180                    NaN            0   \n",
       "2020-03-03           0.128064                    NaN            0   \n",
       "...                       ...                    ...          ...   \n",
       "2021-12-10       14025.521405             436.205635            5   \n",
       "2021-12-11       14082.930845             454.793267            2   \n",
       "2021-12-12       14141.639224             468.093670            2   \n",
       "2021-12-13       14230.021954             487.614343            2   \n",
       "2021-12-14       14231.339188             420.892792            0   \n",
       "\n",
       "            CumulativeDeaths  CrudeRateDeaths  DailyNegative  ...  \\\n",
       "Date                                                          ...   \n",
       "2020-02-28                 0         0.000000            121  ...   \n",
       "2020-02-29                 0         0.000000             63  ...   \n",
       "2020-03-01                 0         0.000000             72  ...   \n",
       "2020-03-02                 0         0.000000            190  ...   \n",
       "2020-03-03                 0         0.000000            209  ...   \n",
       "...                      ...              ...            ...  ...   \n",
       "2021-12-10              9740       178.192462           7249  ...   \n",
       "2021-12-11              9742       178.229052           5446  ...   \n",
       "2021-12-12              9744       178.265642           4697  ...   \n",
       "2021-12-13              9746       178.302232           7868  ...   \n",
       "2021-12-14              9746       178.302232            588  ...   \n",
       "\n",
       "            PositivePercentage  PositivePercentage7Day  TotalPillar1  \\\n",
       "Date                                                                   \n",
       "2020-02-28            1.219512                     NaN           164   \n",
       "2020-02-29            0.000000                     NaN            90   \n",
       "2020-03-01            2.173913                     NaN            92   \n",
       "2020-03-02            1.515152                     NaN           264   \n",
       "2020-03-03            2.083333                     NaN           288   \n",
       "...                        ...                     ...           ...   \n",
       "2021-12-10            9.949705                9.258206         10638   \n",
       "2021-12-11           12.334028                9.460943          5534   \n",
       "2021-12-12           12.957502                9.662192          6041   \n",
       "2021-12-13           10.256863               10.050038         16293   \n",
       "2021-12-14            2.244143               10.308737          3702   \n",
       "\n",
       "            TotalPillar2  HospitalAdmissions  HospitalAdmissionsQF  \\\n",
       "Date                                                                 \n",
       "2020-02-28             0                 NaN                     :   \n",
       "2020-02-29             0                 NaN                     :   \n",
       "2020-03-01             0                 6.0                   NaN   \n",
       "2020-03-02             0                11.0                   NaN   \n",
       "2020-03-03             0                13.0                   NaN   \n",
       "...                  ...                 ...                   ...   \n",
       "2021-12-10         28730                46.0                   NaN   \n",
       "2021-12-11         21805                34.0                   NaN   \n",
       "2021-12-12         20407                 NaN                     :   \n",
       "2021-12-13         34629                 NaN                     :   \n",
       "2021-12-14           353                 NaN                     :   \n",
       "\n",
       "            ICUAdmissions  ICUAdmissionsQF  PositivePillar1 PositivePillar2  \n",
       "Date                                                                         \n",
       "2020-02-28            NaN                :                2               0  \n",
       "2020-02-29            NaN                :                0               0  \n",
       "2020-03-01            NaN                :                2               0  \n",
       "2020-03-02            NaN                :                4               0  \n",
       "2020-03-03            NaN                :                6               0  \n",
       "...                   ...              ...              ...             ...  \n",
       "2021-12-10            3.0              NaN              188            3729  \n",
       "2021-12-11            2.0              NaN              159            3213  \n",
       "2021-12-12            5.0              NaN              137            3290  \n",
       "2021-12-13            4.0              NaN              267            4956  \n",
       "2021-12-14            3.0              NaN               90               1  \n",
       "\n",
       "[656 rows x 24 columns]"
      ]
     },
     "execution_count": 18,
     "metadata": {},
     "output_type": "execute_result"
    }
   ],
   "source": [
    "df_hospital"
   ]
  },
  {
   "cell_type": "code",
   "execution_count": 19,
   "metadata": {},
   "outputs": [
    {
     "data": {
      "text/plain": [
       "date\n",
       "2021-12-14    541\n",
       "2021-12-13    561\n",
       "2021-12-12    541\n",
       "2021-12-11    552\n",
       "2021-12-10    573\n",
       "             ... \n",
       "2020-03-31    752\n",
       "2020-03-30    627\n",
       "2020-03-29    565\n",
       "2020-03-28    511\n",
       "2020-03-27    404\n",
       "Name: hospitalCases, Length: 628, dtype: int64"
      ]
     },
     "execution_count": 19,
     "metadata": {},
     "output_type": "execute_result"
    }
   ],
   "source": [
    "gov_uk_hospital_scot['hospitalCases']"
   ]
  },
  {
   "cell_type": "code",
   "execution_count": 20,
   "metadata": {},
   "outputs": [
    {
     "data": {
      "text/plain": [
       "Date\n",
       "2020-02-28     NaN\n",
       "2020-02-29     NaN\n",
       "2020-03-01     6.0\n",
       "2020-03-02    11.0\n",
       "2020-03-03    13.0\n",
       "              ... \n",
       "2021-12-10    46.0\n",
       "2021-12-11    34.0\n",
       "2021-12-12     NaN\n",
       "2021-12-13     NaN\n",
       "2021-12-14     NaN\n",
       "Name: HospitalAdmissions, Length: 656, dtype: float64"
      ]
     },
     "execution_count": 20,
     "metadata": {},
     "output_type": "execute_result"
    }
   ],
   "source": [
    "df_hospital['HospitalAdmissions']"
   ]
  },
  {
   "cell_type": "code",
   "execution_count": 21,
   "metadata": {},
   "outputs": [
    {
     "data": {
      "text/plain": [
       "<AxesSubplot:>"
      ]
     },
     "execution_count": 21,
     "metadata": {},
     "output_type": "execute_result"
    },
    {
     "data": {
      "image/png": "[encoded data removed]",
      "text/plain": [
       "<Figure size 432x288 with 1 Axes>"
      ]
     },
     "metadata": {
      "needs_background": "light"
     },
     "output_type": "display_data"
    }
   ],
   "source": [
    "pd.concat([gov_uk_hospital_scot['hospitalCases'],df_hospital[['DailyDeaths','HospitalAdmissions','PositivePercentage','ICUAdmissions']]],axis=1).plot()"
   ]
  },
  {
   "cell_type": "code",
   "execution_count": 22,
   "metadata": {},
   "outputs": [
    {
     "data": {
      "text/plain": [
       "<AxesSubplot:xlabel='Date'>"
      ]
     },
     "execution_count": 22,
     "metadata": {},
     "output_type": "execute_result"
    },
    {
     "data": {
      "image/png": "[encoded data removed]",
      "text/plain": [
       "<Figure size 432x288 with 1 Axes>"
      ]
     },
     "metadata": {
      "needs_background": "light"
     },
     "output_type": "display_data"
    }
   ],
   "source": [
    "df_hospital['TotalTests'].plot()"
   ]
  },
  {
   "cell_type": "code",
   "execution_count": 23,
   "metadata": {},
   "outputs": [],
   "source": [
    "# gov_uk_hospital_scot.to_csv('gov_uk_hospital_scot.csv')"
   ]
  },
  {
   "cell_type": "code",
   "execution_count": 24,
   "metadata": {},
   "outputs": [
    {
     "data": {
      "text/plain": [
       "Index(['CA', 'CAName', 'DailyPositive', 'CumulativePositive',\n",
       "       'CrudeRatePositive', 'CrudeRate7DayPositive', 'DailyDeaths',\n",
       "       'CumulativeDeaths', 'CrudeRateDeaths', 'DailyNegative',\n",
       "       'CumulativeNegative', 'CrudeRateNegative', 'TotalTests',\n",
       "       'PositiveTests', 'PositivePercentage', 'PositivePercentage7Day',\n",
       "       'TotalPillar1', 'TotalPillar2', 'PositivePillar1', 'PositivePillar2'],\n",
       "      dtype='object')"
      ]
     },
     "execution_count": 24,
     "metadata": {},
     "output_type": "execute_result"
    }
   ],
   "source": [
    "df_local.columns"
   ]
  },
  {
   "cell_type": "code",
   "execution_count": 25,
   "metadata": {},
   "outputs": [],
   "source": [
    "cases=df_cases['DailyCases'].iloc[-500:-5].values"
   ]
  },
  {
   "cell_type": "code",
   "execution_count": 26,
   "metadata": {},
   "outputs": [],
   "source": [
    "admissions=df_hospital[df_hospital['HBName']=='Scotland']['HospitalAdmissions'].iloc[-500:-5].values"
   ]
  },
  {
   "cell_type": "code",
   "execution_count": 27,
   "metadata": {},
   "outputs": [
    {
     "data": {
      "text/plain": [
       "-7"
      ]
     },
     "execution_count": 27,
     "metadata": {},
     "output_type": "execute_result"
    }
   ],
   "source": [
    "# Case to hospital delay: 7 days\n",
    "correlation = np.correlate(cases,admissions,mode='same')\n",
    "delay = np.argmax(correlation)-int(len(correlation)/2)\n",
    "delay"
   ]
  },
  {
   "cell_type": "code",
   "execution_count": 28,
   "metadata": {},
   "outputs": [],
   "source": [
    "icu=df_hospital['ICUAdmissions'].iloc[-500:-5].values"
   ]
  },
  {
   "cell_type": "code",
   "execution_count": 29,
   "metadata": {},
   "outputs": [
    {
     "data": {
      "text/plain": [
       "0"
      ]
     },
     "execution_count": 29,
     "metadata": {},
     "output_type": "execute_result"
    }
   ],
   "source": [
    "# Case to hospital delay: 7 days\n",
    "correlation = np.correlate(admissions,icu,mode='same')\n",
    "delay = np.argmax(correlation)-int(len(correlation)/2)\n",
    "delay"
   ]
  },
  {
   "cell_type": "code",
   "execution_count": 30,
   "metadata": {},
   "outputs": [],
   "source": [
    "deaths=df_hospital['DailyDeaths'].iloc[-500:-5].values"
   ]
  },
  {
   "cell_type": "code",
   "execution_count": 31,
   "metadata": {},
   "outputs": [
    {
     "data": {
      "text/plain": [
       "-7"
      ]
     },
     "execution_count": 31,
     "metadata": {},
     "output_type": "execute_result"
    }
   ],
   "source": [
    "# Case to hospital delay: 7 days\n",
    "correlation = np.correlate(icu,deaths,mode='same')\n",
    "delay = np.argmax(correlation)-int(len(correlation)/2)\n",
    "delay"
   ]
  },
  {
   "cell_type": "code",
   "execution_count": 32,
   "metadata": {},
   "outputs": [
    {
     "data": {
      "text/plain": [
       "-10"
      ]
     },
     "execution_count": 32,
     "metadata": {},
     "output_type": "execute_result"
    }
   ],
   "source": [
    "# Case to hospital delay: 7 days\n",
    "correlation = np.correlate(admissions,deaths,mode='same')\n",
    "delay = np.argmax(correlation)-int(len(correlation)/2)\n",
    "delay"
   ]
  },
  {
   "cell_type": "code",
   "execution_count": 66,
   "metadata": {},
   "outputs": [],
   "source": [
    "cases_ma=df_cases['DailyCases'].rolling(window=7).mean().iloc[-500:-5].values\n",
    "admissions_ma=df_hospital[df_hospital['HBName']=='Scotland']['HospitalAdmissions'].rolling(window=7).mean().iloc[-500:-5].values\n",
    "icu_ma=df_hospital['ICUAdmissions'].rolling(window=7).mean().iloc[-500:-5].values\n",
    "deaths_ma=df_hospital['DailyDeaths'].rolling(window=7).mean().iloc[-500:-5].values"
   ]
  },
  {
   "cell_type": "code",
   "execution_count": 57,
   "metadata": {},
   "outputs": [
    {
     "data": {
      "text/plain": [
       "[<matplotlib.lines.Line2D at 0x1348848b0>]"
      ]
     },
     "execution_count": 57,
     "metadata": {},
     "output_type": "execute_result"
    },
    {
     "data": {
      "image/png": "[encoded data removed]",
      "text/plain": [
       "<Figure size 432x288 with 1 Axes>"
      ]
     },
     "metadata": {
      "needs_background": "light"
     },
     "output_type": "display_data"
    }
   ],
   "source": [
    "plt.plot(icu_ma)"
   ]
  },
  {
   "cell_type": "code",
   "execution_count": 67,
   "metadata": {},
   "outputs": [
    {
     "data": {
      "text/plain": [
       "(125.0, 200.0)"
      ]
     },
     "execution_count": 67,
     "metadata": {},
     "output_type": "execute_result"
    },
    {
     "data": {
      "image/png": "[encoded data removed]",
      "text/plain": [
       "<Figure size 432x288 with 1 Axes>"
      ]
     },
     "metadata": {
      "needs_background": "light"
     },
     "output_type": "display_data"
    }
   ],
   "source": [
    "import matplotlib.pyplot as plt\n",
    "plt.plot(cases_ma/np.mean(cases_ma),label='cases')\n",
    "plt.plot(admissions_ma/np.mean(admissions_ma),label='admissions')\n",
    "plt.plot(icu_ma/np.mean(icu_ma),label='icu')\n",
    "plt.plot(deaths_ma/np.mean(deaths_ma),label='deaths')\n",
    "plt.legend()\n",
    "plt.xlim(125,200)"
   ]
  },
  {
   "cell_type": "code",
   "execution_count": 68,
   "metadata": {},
   "outputs": [
    {
     "data": {
      "text/plain": [
       "-6"
      ]
     },
     "execution_count": 68,
     "metadata": {},
     "output_type": "execute_result"
    }
   ],
   "source": [
    "correlation = np.correlate(cases_ma,admissions_ma,mode='same')\n",
    "delay = np.argmax(correlation)-int(len(correlation)/2)\n",
    "delay"
   ]
  },
  {
   "cell_type": "code",
   "execution_count": 69,
   "metadata": {},
   "outputs": [
    {
     "data": {
      "text/plain": [
       "-2"
      ]
     },
     "execution_count": 69,
     "metadata": {},
     "output_type": "execute_result"
    }
   ],
   "source": [
    "correlation = np.correlate(admissions_ma,icu_ma,mode='same')\n",
    "delay = np.argmax(correlation)-int(len(correlation)/2)\n",
    "delay"
   ]
  },
  {
   "cell_type": "code",
   "execution_count": 70,
   "metadata": {},
   "outputs": [
    {
     "data": {
      "text/plain": [
       "-5"
      ]
     },
     "execution_count": 70,
     "metadata": {},
     "output_type": "execute_result"
    }
   ],
   "source": [
    "correlation = np.correlate(icu_ma,deaths_ma,mode='same')\n",
    "delay = np.argmax(correlation)-int(len(correlation)/2)\n",
    "delay"
   ]
  },
  {
   "cell_type": "code",
   "execution_count": 98,
   "metadata": {},
   "outputs": [],
   "source": [
    "def get_lag(x,y):\n",
    "    correlation = np.correlate(x,y,mode='same')\n",
    "    return np.argmax(correlation)-int(len(correlation)/2)\n",
    "\n",
    "def get_transition_intervals(start,end):\n",
    "    cases=df_cases['DailyCases'].iloc[start:end].rolling(window=7).mean().values\n",
    "    admissions=df_hospital[df_hospital['HBName']=='Scotland']['HospitalAdmissions'].iloc[start:end].rolling(window=7).mean().values\n",
    "    # icu=df_hospital['ICUAdmissions'].iloc[start:end].rolling(window=7).mean().values\n",
    "    # deaths=df_hospital['DailyDeaths'].iloc[start:end].rolling(window=7).mean().values\n",
    "\n",
    "    case_admission_lag=get_lag(cases,admissions)\n",
    "    print(case_admission_lag)\n",
    "    # admission_icu_lag=get_lag(admissions,icu)\n",
    "    # icu_death_lag=get_lag(icu,deaths)\n",
    "\n",
    "    # import matplotlib.pyplot as plt\n",
    "    # plt.plot(cases/np.mean(cases),label='cases')\n",
    "    # plt.plot(admissions/np.mean(admissions),label='admissions')\n",
    "    # plt.plot(icu/np.mean(icu),label='icu')\n",
    "    # plt.plot(deaths/np.mean(deaths),label='deaths')\n",
    "    # plt.legend()\n",
    "    # # plt.xlim(125,200)\n",
    "\n",
    "    # return case_admission_lag, admission_icu_lag, icu_death_lag\n",
    "    "
   ]
  },
  {
   "cell_type": "code",
   "execution_count": 99,
   "metadata": {},
   "outputs": [
    {
     "name": "stdout",
     "output_type": "stream",
     "text": [
      "-100\n"
     ]
    }
   ],
   "source": [
    "get_transition_intervals(200,400)"
   ]
  },
  {
   "cell_type": "code",
   "execution_count": 116,
   "metadata": {},
   "outputs": [
    {
     "data": {
      "text/plain": [
       "<matplotlib.legend.Legend at 0x134895bb0>"
      ]
     },
     "execution_count": 116,
     "metadata": {},
     "output_type": "execute_result"
    },
    {
     "data": {
      "image/png": "[encoded data removed]",
      "text/plain": [
       "<Figure size 432x288 with 1 Axes>"
      ]
     },
     "metadata": {
      "needs_background": "light"
     },
     "output_type": "display_data"
    }
   ],
   "source": [
    "RANGE=365\n",
    "\n",
    "(df_cases['DailyCases'].tail(RANGE).shift(7).rolling(window=7).mean()/np.max(df_cases['DailyCases'].tail(120).shift(5).rolling(window=7).mean())).plot(label='Cases')\n",
    "(df_hospital[df_hospital['HBName']=='Scotland']['HospitalAdmissions'].tail(RANGE).rolling(window=7).mean()/np.max(df_hospital[df_hospital['HBName']=='Scotland']['HospitalAdmissions'].tail(120).rolling(window=7).mean())).plot(label='Hospital Admissions')\n",
    "plt.legend()"
   ]
  },
  {
   "cell_type": "code",
   "execution_count": 355,
   "metadata": {},
   "outputs": [],
   "source": [
    "cases=df_cases['DailyCases'].tail(RANGE).rolling(window=7).mean()[7:-3]\n",
    "hospital=df_hospital[df_hospital['HBName']=='Scotland']['HospitalAdmissions'].tail(RANGE).rolling(window=7).mean()[7:-3]"
   ]
  },
  {
   "cell_type": "code",
   "execution_count": 356,
   "metadata": {},
   "outputs": [
    {
     "data": {
      "text/plain": [
       "Date\n",
       "2021-08-31    6101.285714\n",
       "2021-09-01    6196.714286\n",
       "2021-09-02    6240.000000\n",
       "2021-09-03    6255.714286\n",
       "2021-09-04    6291.428571\n",
       "                 ...     \n",
       "2021-12-14    4316.285714\n",
       "2021-12-15    4703.714286\n",
       "2021-12-16    5028.571429\n",
       "2021-12-17    5287.285714\n",
       "2021-12-18    5506.428571\n",
       "Name: DailyCases, Length: 110, dtype: float64"
      ]
     },
     "execution_count": 356,
     "metadata": {},
     "output_type": "execute_result"
    }
   ],
   "source": [
    "cases"
   ]
  },
  {
   "cell_type": "code",
   "execution_count": 130,
   "metadata": {},
   "outputs": [
    {
     "data": {
      "text/plain": [
       "Date\n",
       "2020-12-22    96.142857\n",
       "2020-12-23    95.285714\n",
       "2020-12-24    94.857143\n",
       "2020-12-25    93.428571\n",
       "2020-12-26    95.571429\n",
       "                ...    \n",
       "2021-12-07    58.285714\n",
       "2021-12-08    59.714286\n",
       "2021-12-09    63.285714\n",
       "2021-12-10    63.571429\n",
       "2021-12-11    60.714286\n",
       "Name: HospitalAdmissions, Length: 355, dtype: float64"
      ]
     },
     "execution_count": 130,
     "metadata": {},
     "output_type": "execute_result"
    }
   ],
   "source": [
    "hospital"
   ]
  },
  {
   "cell_type": "code",
   "execution_count": 135,
   "metadata": {},
   "outputs": [
    {
     "data": {
      "text/plain": [
       "<AxesSubplot:xlabel='Date'>"
      ]
     },
     "execution_count": 135,
     "metadata": {},
     "output_type": "execute_result"
    },
    {
     "data": {
      "image/png": "[encoded data removed]",
      "text/plain": [
       "<Figure size 432x288 with 1 Axes>"
      ]
     },
     "metadata": {
      "needs_background": "light"
     },
     "output_type": "display_data"
    }
   ],
   "source": [
    "cases.rolling(7).corr(hospital).rolling(win)"
   ]
  },
  {
   "cell_type": "code",
   "execution_count": 357,
   "metadata": {},
   "outputs": [
    {
     "data": {
      "text/html": [
       "<div>\n",
       "<style scoped>\n",
       "    .dataframe tbody tr th:only-of-type {\n",
       "        vertical-align: middle;\n",
       "    }\n",
       "\n",
       "    .dataframe tbody tr th {\n",
       "        vertical-align: top;\n",
       "    }\n",
       "\n",
       "    .dataframe thead th {\n",
       "        text-align: right;\n",
       "    }\n",
       "</style>\n",
       "<table border=\"1\" class=\"dataframe\">\n",
       "  <thead>\n",
       "    <tr style=\"text-align: right;\">\n",
       "      <th></th>\n",
       "      <th>SGTF %</th>\n",
       "    </tr>\n",
       "    <tr>\n",
       "      <th>Date</th>\n",
       "      <th></th>\n",
       "    </tr>\n",
       "  </thead>\n",
       "  <tbody>\n",
       "    <tr>\n",
       "      <th>2021-11-23</th>\n",
       "      <td>0.001</td>\n",
       "    </tr>\n",
       "    <tr>\n",
       "      <th>2021-11-24</th>\n",
       "      <td>0.002</td>\n",
       "    </tr>\n",
       "    <tr>\n",
       "      <th>2021-11-25</th>\n",
       "      <td>0.006</td>\n",
       "    </tr>\n",
       "    <tr>\n",
       "      <th>2021-11-26</th>\n",
       "      <td>0.002</td>\n",
       "    </tr>\n",
       "    <tr>\n",
       "      <th>2021-11-27</th>\n",
       "      <td>0.002</td>\n",
       "    </tr>\n",
       "  </tbody>\n",
       "</table>\n",
       "</div>"
      ],
      "text/plain": [
       "            SGTF %\n",
       "Date              \n",
       "2021-11-23   0.001\n",
       "2021-11-24   0.002\n",
       "2021-11-25   0.006\n",
       "2021-11-26   0.002\n",
       "2021-11-27   0.002"
      ]
     },
     "execution_count": 357,
     "metadata": {},
     "output_type": "execute_result"
    }
   ],
   "source": [
    "df_sgtf=pd.read_csv('../data/sgtf.csv', index_col='Date',parse_dates=True)\n",
    "df_sgtf.head()"
   ]
  },
  {
   "cell_type": "code",
   "execution_count": 358,
   "metadata": {},
   "outputs": [
    {
     "data": {
      "text/plain": [
       "<matplotlib.collections.PathCollection at 0x25a35e38488>"
      ]
     },
     "execution_count": 358,
     "metadata": {},
     "output_type": "execute_result"
    },
    {
     "data": {
      "image/png": "[encoded data removed]",
      "text/plain": [
       "<Figure size 432x288 with 1 Axes>"
      ]
     },
     "metadata": {
      "needs_background": "light"
     },
     "output_type": "display_data"
    }
   ],
   "source": [
    "y_data=df_sgtf['SGTF %'].values\n",
    "x_data=np.arange(0,len(y_data),1)\n",
    "\n",
    "def func(x, L ,x0, k, b):\n",
    "    return L / (1 + np.exp(-k*(x-x0)))+b\n",
    "\n",
    "p0 = [max(y_data), np.median(x_data),1,min(y_data)] # this is an mandatory initial guess\n",
    "\n",
    "popt, pcov = curve_fit(func, x_data, y_data,p0)\n",
    "\n",
    "plt.plot(x_data, func(x_data, *popt), 'r-')\n",
    "\n",
    "forecast_range=np.arange(20,35,1)\n",
    "plt.plot(forecast_range, func(forecast_range, *popt), 'r-', ls='--')\n",
    "# plt.set_xticks=df_sgtf['SGTF %'].index\n",
    "plt.scatter(x=x_data,y=y_data)\n",
    "# df_gov_sgtf_lon['percent'].tail(25).plot()\n",
    "# # plt.legend()\n",
    "# # plt.xlabel('Cases with SGTF %')\n",
    "# # plt.ylabel('Hospitalisation Rate %')\n",
    "# # plt.title('Variation in Hospitalisation Rate with Omicron/SGTF Prevalence')\n",
    "# plt.ylim(0,100)\n",
    "# plt.set_xticks=df_sgtf['SGTF %'].index"
   ]
  },
  {
   "cell_type": "code",
   "execution_count": 359,
   "metadata": {},
   "outputs": [
    {
     "data": {
      "text/plain": [
       "Date\n",
       "2020-02-28     NaN\n",
       "2020-02-29     NaN\n",
       "2020-03-01     6.0\n",
       "2020-03-02    11.0\n",
       "2020-03-03    13.0\n",
       "              ... \n",
       "2021-12-14    51.0\n",
       "2021-12-15    64.0\n",
       "2021-12-16    64.0\n",
       "2021-12-17    55.0\n",
       "2021-12-18    44.0\n",
       "Name: HospitalAdmissions, Length: 660, dtype: float64"
      ]
     },
     "execution_count": 359,
     "metadata": {},
     "output_type": "execute_result"
    }
   ],
   "source": [
    "df_hospital['HospitalAdmissions'].iloc[:-3]"
   ]
  },
  {
   "cell_type": "code",
   "execution_count": 365,
   "metadata": {},
   "outputs": [],
   "source": [
    "df_sgtf_analysis=pd.merge(df_hospital, df_sgtf, left_index=True, right_index=True)\n",
    "df_sgtf_analysis['Hosp+7D']=df_sgtf_analysis['HospitalAdmissions'].shift(7)\n",
    "df_sgtf_analysis['Hosp_rate']=100*(df_sgtf_analysis['Hosp+7D']/df_sgtf_analysis['DailyPositive'])\n",
    "df_sgtf_analysis['SGTF %']=100*df_sgtf_analysis['SGTF %']"
   ]
  },
  {
   "cell_type": "code",
   "execution_count": 372,
   "metadata": {},
   "outputs": [],
   "source": [
    "df_sgtf_analysis=df_sgtf_analysis[['SGTF %', 'Hosp_rate']]\n",
    "df_sgtf_analysis=df_sgtf_analysis[df_sgtf_analysis['SGTF %']>7]\n",
    "df_sgtf_analysis=df_sgtf_analysis.dropna()"
   ]
  },
  {
   "cell_type": "code",
   "execution_count": 373,
   "metadata": {},
   "outputs": [
    {
     "data": {
      "text/plain": [
       "Text(0.5, 1.0, 'Variation in Hospitalisation Rate with Omicron/SGTF Prevalence')"
      ]
     },
     "execution_count": 373,
     "metadata": {},
     "output_type": "execute_result"
    },
    {
     "data": {
      "image/png": "[encoded data removed]",
      "text/plain": [
       "<Figure size 432x288 with 1 Axes>"
      ]
     },
     "metadata": {
      "needs_background": "light"
     },
     "output_type": "display_data"
    }
   ],
   "source": [
    "plt.scatter(x=df_sgtf_analysis['SGTF %'],y=df_sgtf_analysis['Hosp_rate'])\n",
    "plt.xlabel('Cases with SGTF %')\n",
    "plt.ylabel('Hospitalisation Rate %')\n",
    "plt.title('Variation in Hospitalisation Rate with Omicron/SGTF Prevalence')"
   ]
  },
  {
   "cell_type": "code",
   "execution_count": 374,
   "metadata": {},
   "outputs": [
    {
     "name": "stderr",
     "output_type": "stream",
     "text": [
      "c:\\Users\\cwallace\\Temp\\venv3.74\\lib\\site-packages\\pandas\\core\\series.py:726: RuntimeWarning: overflow encountered in exp\n",
      "  result = getattr(ufunc, method)(*inputs, **kwargs)\n"
     ]
    }
   ],
   "source": [
    "from scipy.optimize import curve_fit\n",
    "\n",
    "def func(x, a, b, c):\n",
    "    return a * np.exp(-b * x) + c\n",
    "    # a*np.exp(b*x)\n",
    "\n",
    "# def func(x, a, c):\n",
    "#     return a * x + c\n",
    "\n",
    "popt, pcov = curve_fit(func, df_sgtf_analysis['SGTF %'], df_sgtf_analysis['Hosp_rate'])"
   ]
  },
  {
   "cell_type": "code",
   "execution_count": 375,
   "metadata": {},
   "outputs": [
    {
     "data": {
      "text/plain": [
       "Text(0.5, 1.0, 'Variation in Hospitalisation Rate with Omicron/SGTF Prevalence')"
      ]
     },
     "execution_count": 375,
     "metadata": {},
     "output_type": "execute_result"
    },
    {
     "data": {
      "image/png": "[encoded data removed]",
      "text/plain": [
       "<Figure size 432x288 with 1 Axes>"
      ]
     },
     "metadata": {
      "needs_background": "light"
     },
     "output_type": "display_data"
    }
   ],
   "source": [
    "plt.plot(df_sgtf_analysis['SGTF %'], func(df_sgtf_analysis['SGTF %'], *popt), 'r-',\n",
    "         label='fit: a=%5.3f, b=%5.3f, c=%5.3f' % tuple(popt))\n",
    "plt.scatter(x=df_sgtf_analysis['SGTF %'],y=df_sgtf_analysis['Hosp_rate'])\n",
    "plt.legend()\n",
    "plt.xlabel('Cases with SGTF %')\n",
    "plt.ylabel('Hospitalisation Rate %')\n",
    "plt.title('Variation in Hospitalisation Rate with Omicron/SGTF Prevalence')"
   ]
  },
  {
   "cell_type": "code",
   "execution_count": 293,
   "metadata": {},
   "outputs": [
    {
     "data": {
      "text/html": [
       "<div>\n",
       "<style scoped>\n",
       "    .dataframe tbody tr th:only-of-type {\n",
       "        vertical-align: middle;\n",
       "    }\n",
       "\n",
       "    .dataframe tbody tr th {\n",
       "        vertical-align: top;\n",
       "    }\n",
       "\n",
       "    .dataframe thead th {\n",
       "        text-align: right;\n",
       "    }\n",
       "</style>\n",
       "<table border=\"1\" class=\"dataframe\">\n",
       "  <thead>\n",
       "    <tr style=\"text-align: right;\">\n",
       "      <th></th>\n",
       "      <th>SGTF %</th>\n",
       "      <th>Hosp_rate</th>\n",
       "    </tr>\n",
       "    <tr>\n",
       "      <th>Date</th>\n",
       "      <th></th>\n",
       "      <th></th>\n",
       "    </tr>\n",
       "  </thead>\n",
       "  <tbody>\n",
       "    <tr>\n",
       "      <th>2021-09-12</th>\n",
       "      <td>13.5</td>\n",
       "      <td>2.803460</td>\n",
       "    </tr>\n",
       "    <tr>\n",
       "      <th>2021-10-12</th>\n",
       "      <td>15.5</td>\n",
       "      <td>1.526718</td>\n",
       "    </tr>\n",
       "    <tr>\n",
       "      <th>2021-11-12</th>\n",
       "      <td>18.0</td>\n",
       "      <td>0.490025</td>\n",
       "    </tr>\n",
       "    <tr>\n",
       "      <th>2021-12-12</th>\n",
       "      <td>20.0</td>\n",
       "      <td>2.645026</td>\n",
       "    </tr>\n",
       "    <tr>\n",
       "      <th>2021-12-13</th>\n",
       "      <td>22.6</td>\n",
       "      <td>1.143470</td>\n",
       "    </tr>\n",
       "    <tr>\n",
       "      <th>2021-12-14</th>\n",
       "      <td>27.5</td>\n",
       "      <td>0.928297</td>\n",
       "    </tr>\n",
       "    <tr>\n",
       "      <th>2021-12-15</th>\n",
       "      <td>36.5</td>\n",
       "      <td>0.819792</td>\n",
       "    </tr>\n",
       "    <tr>\n",
       "      <th>2021-12-16</th>\n",
       "      <td>45.5</td>\n",
       "      <td>0.803213</td>\n",
       "    </tr>\n",
       "  </tbody>\n",
       "</table>\n",
       "</div>"
      ],
      "text/plain": [
       "            SGTF %  Hosp_rate\n",
       "Date                         \n",
       "2021-09-12    13.5   2.803460\n",
       "2021-10-12    15.5   1.526718\n",
       "2021-11-12    18.0   0.490025\n",
       "2021-12-12    20.0   2.645026\n",
       "2021-12-13    22.6   1.143470\n",
       "2021-12-14    27.5   0.928297\n",
       "2021-12-15    36.5   0.819792\n",
       "2021-12-16    45.5   0.803213"
      ]
     },
     "execution_count": 293,
     "metadata": {},
     "output_type": "execute_result"
    }
   ],
   "source": [
    "df_sgtf_analysis"
   ]
  },
  {
   "cell_type": "code",
   "execution_count": 450,
   "metadata": {},
   "outputs": [],
   "source": [
    "df_gov_sgtf=pd.read_csv('https://assets.publishing.service.gov.uk/government/uploads/system/uploads/attachment_data/file/1043241/sgtf_regionepicurve_2021-12-21.csv',index_col='specimen_date',parse_dates=True)"
   ]
  },
  {
   "cell_type": "code",
   "execution_count": 451,
   "metadata": {},
   "outputs": [],
   "source": [
    "df_gov_sgtf_lon=df_gov_sgtf[(df_gov_sgtf['UKHSA_region']=='London') & (df_gov_sgtf['sgtf']=='Cases with confirmed SGTF')]"
   ]
  },
  {
   "cell_type": "code",
   "execution_count": 474,
   "metadata": {},
   "outputs": [
    {
     "data": {
      "text/html": [
       "<div>\n",
       "<style scoped>\n",
       "    .dataframe tbody tr th:only-of-type {\n",
       "        vertical-align: middle;\n",
       "    }\n",
       "\n",
       "    .dataframe tbody tr th {\n",
       "        vertical-align: top;\n",
       "    }\n",
       "\n",
       "    .dataframe thead th {\n",
       "        text-align: right;\n",
       "    }\n",
       "</style>\n",
       "<table border=\"1\" class=\"dataframe\">\n",
       "  <thead>\n",
       "    <tr style=\"text-align: right;\">\n",
       "      <th></th>\n",
       "      <th>UKHSA_region</th>\n",
       "      <th>n</th>\n",
       "      <th>percent</th>\n",
       "      <th>sgtf</th>\n",
       "      <th>total</th>\n",
       "      <th>conf_low</th>\n",
       "      <th>conf_high</th>\n",
       "    </tr>\n",
       "    <tr>\n",
       "      <th>specimen_date</th>\n",
       "      <th></th>\n",
       "      <th></th>\n",
       "      <th></th>\n",
       "      <th></th>\n",
       "      <th></th>\n",
       "      <th></th>\n",
       "      <th></th>\n",
       "    </tr>\n",
       "  </thead>\n",
       "  <tbody>\n",
       "    <tr>\n",
       "      <th>2021-01-11</th>\n",
       "      <td>East Midlands</td>\n",
       "      <td>874</td>\n",
       "      <td>100.00</td>\n",
       "      <td>Cases with confirmed S-gene</td>\n",
       "      <td>874</td>\n",
       "      <td>99.454454</td>\n",
       "      <td>100.000000</td>\n",
       "    </tr>\n",
       "    <tr>\n",
       "      <th>2021-02-11</th>\n",
       "      <td>East Midlands</td>\n",
       "      <td>724</td>\n",
       "      <td>99.86</td>\n",
       "      <td>Cases with confirmed S-gene</td>\n",
       "      <td>725</td>\n",
       "      <td>99.109120</td>\n",
       "      <td>99.992800</td>\n",
       "    </tr>\n",
       "    <tr>\n",
       "      <th>2021-02-11</th>\n",
       "      <td>East Midlands</td>\n",
       "      <td>1</td>\n",
       "      <td>0.14</td>\n",
       "      <td>Cases with confirmed SGTF</td>\n",
       "      <td>725</td>\n",
       "      <td>0.007200</td>\n",
       "      <td>0.890880</td>\n",
       "    </tr>\n",
       "    <tr>\n",
       "      <th>2021-03-11</th>\n",
       "      <td>East Midlands</td>\n",
       "      <td>757</td>\n",
       "      <td>100.00</td>\n",
       "      <td>Cases with confirmed S-gene</td>\n",
       "      <td>757</td>\n",
       "      <td>99.370567</td>\n",
       "      <td>100.000000</td>\n",
       "    </tr>\n",
       "    <tr>\n",
       "      <th>2021-04-11</th>\n",
       "      <td>East Midlands</td>\n",
       "      <td>598</td>\n",
       "      <td>100.00</td>\n",
       "      <td>Cases with confirmed S-gene</td>\n",
       "      <td>598</td>\n",
       "      <td>99.204289</td>\n",
       "      <td>100.000000</td>\n",
       "    </tr>\n",
       "    <tr>\n",
       "      <th>...</th>\n",
       "      <td>...</td>\n",
       "      <td>...</td>\n",
       "      <td>...</td>\n",
       "      <td>...</td>\n",
       "      <td>...</td>\n",
       "      <td>...</td>\n",
       "      <td>...</td>\n",
       "    </tr>\n",
       "    <tr>\n",
       "      <th>2021-12-17</th>\n",
       "      <td>Yorkshire and Humber</td>\n",
       "      <td>2129</td>\n",
       "      <td>60.47</td>\n",
       "      <td>Cases with confirmed SGTF</td>\n",
       "      <td>3521</td>\n",
       "      <td>58.825985</td>\n",
       "      <td>62.082556</td>\n",
       "    </tr>\n",
       "    <tr>\n",
       "      <th>2021-12-18</th>\n",
       "      <td>Yorkshire and Humber</td>\n",
       "      <td>1166</td>\n",
       "      <td>34.98</td>\n",
       "      <td>Cases with confirmed S-gene</td>\n",
       "      <td>3333</td>\n",
       "      <td>33.367701</td>\n",
       "      <td>36.634191</td>\n",
       "    </tr>\n",
       "    <tr>\n",
       "      <th>2021-12-18</th>\n",
       "      <td>Yorkshire and Humber</td>\n",
       "      <td>2167</td>\n",
       "      <td>65.02</td>\n",
       "      <td>Cases with confirmed SGTF</td>\n",
       "      <td>3333</td>\n",
       "      <td>63.365809</td>\n",
       "      <td>66.632299</td>\n",
       "    </tr>\n",
       "    <tr>\n",
       "      <th>2021-12-19</th>\n",
       "      <td>Yorkshire and Humber</td>\n",
       "      <td>885</td>\n",
       "      <td>29.18</td>\n",
       "      <td>Cases with confirmed S-gene</td>\n",
       "      <td>3033</td>\n",
       "      <td>27.572168</td>\n",
       "      <td>30.839104</td>\n",
       "    </tr>\n",
       "    <tr>\n",
       "      <th>2021-12-19</th>\n",
       "      <td>Yorkshire and Humber</td>\n",
       "      <td>2148</td>\n",
       "      <td>70.82</td>\n",
       "      <td>Cases with confirmed SGTF</td>\n",
       "      <td>3033</td>\n",
       "      <td>69.160896</td>\n",
       "      <td>72.427832</td>\n",
       "    </tr>\n",
       "  </tbody>\n",
       "</table>\n",
       "<p>780 rows × 7 columns</p>\n",
       "</div>"
      ],
      "text/plain": [
       "                       UKHSA_region     n  percent  \\\n",
       "specimen_date                                        \n",
       "2021-01-11            East Midlands   874   100.00   \n",
       "2021-02-11            East Midlands   724    99.86   \n",
       "2021-02-11            East Midlands     1     0.14   \n",
       "2021-03-11            East Midlands   757   100.00   \n",
       "2021-04-11            East Midlands   598   100.00   \n",
       "...                             ...   ...      ...   \n",
       "2021-12-17     Yorkshire and Humber  2129    60.47   \n",
       "2021-12-18     Yorkshire and Humber  1166    34.98   \n",
       "2021-12-18     Yorkshire and Humber  2167    65.02   \n",
       "2021-12-19     Yorkshire and Humber   885    29.18   \n",
       "2021-12-19     Yorkshire and Humber  2148    70.82   \n",
       "\n",
       "                                      sgtf  total   conf_low   conf_high  \n",
       "specimen_date                                                             \n",
       "2021-01-11     Cases with confirmed S-gene    874  99.454454  100.000000  \n",
       "2021-02-11     Cases with confirmed S-gene    725  99.109120   99.992800  \n",
       "2021-02-11       Cases with confirmed SGTF    725   0.007200    0.890880  \n",
       "2021-03-11     Cases with confirmed S-gene    757  99.370567  100.000000  \n",
       "2021-04-11     Cases with confirmed S-gene    598  99.204289  100.000000  \n",
       "...                                    ...    ...        ...         ...  \n",
       "2021-12-17       Cases with confirmed SGTF   3521  58.825985   62.082556  \n",
       "2021-12-18     Cases with confirmed S-gene   3333  33.367701   36.634191  \n",
       "2021-12-18       Cases with confirmed SGTF   3333  63.365809   66.632299  \n",
       "2021-12-19     Cases with confirmed S-gene   3033  27.572168   30.839104  \n",
       "2021-12-19       Cases with confirmed SGTF   3033  69.160896   72.427832  \n",
       "\n",
       "[780 rows x 7 columns]"
      ]
     },
     "execution_count": 474,
     "metadata": {},
     "output_type": "execute_result"
    }
   ],
   "source": [
    "df_gov_sgtf"
   ]
  },
  {
   "cell_type": "code",
   "execution_count": 453,
   "metadata": {},
   "outputs": [
    {
     "data": {
      "text/plain": [
       "<AxesSubplot:xlabel='specimen_date'>"
      ]
     },
     "execution_count": 453,
     "metadata": {},
     "output_type": "execute_result"
    },
    {
     "data": {
      "image/png": "[encoded data removed]",
      "text/plain": [
       "<Figure size 432x288 with 1 Axes>"
      ]
     },
     "metadata": {
      "needs_background": "light"
     },
     "output_type": "display_data"
    }
   ],
   "source": [
    "df_gov_sgtf_lon['percent'].tail(25).plot()"
   ]
  },
  {
   "cell_type": "code",
   "execution_count": 454,
   "metadata": {},
   "outputs": [],
   "source": [
    "y_data=df_gov_sgtf_lon['percent'].tail(25).values\n",
    "x_data=np.arange(0,len(y_data),1)\n",
    "\n",
    "def func(x, L ,x0, k, b):\n",
    "    return L / (1 + np.exp(-k*(x-x0)))+b\n",
    "\n",
    "p0 = [max(y_data), np.median(x_data),1,min(y_data)] # this is an mandatory initial guess\n",
    "\n",
    "popt, pcov = curve_fit(func, x_data, y_data,p0)"
   ]
  },
  {
   "cell_type": "code",
   "execution_count": 455,
   "metadata": {},
   "outputs": [
    {
     "data": {
      "text/plain": [
       "(0.0, 100.0)"
      ]
     },
     "execution_count": 455,
     "metadata": {},
     "output_type": "execute_result"
    },
    {
     "data": {
      "image/png": "[encoded data removed]",
      "text/plain": [
       "<Figure size 432x288 with 1 Axes>"
      ]
     },
     "metadata": {
      "needs_background": "light"
     },
     "output_type": "display_data"
    }
   ],
   "source": [
    "plt.plot(x_data, func(x_data, *popt), 'r-')\n",
    "\n",
    "forecast_range=np.arange(25,35,1)\n",
    "plt.plot(forecast_range, func(forecast_range, *popt), 'r-', ls='--')\n",
    "\n",
    "plt.scatter(x=x_data,y=y_data)\n",
    "# df_gov_sgtf_lon['percent'].tail(25).plot()\n",
    "# # plt.legend()\n",
    "# # plt.xlabel('Cases with SGTF %')\n",
    "# # plt.ylabel('Hospitalisation Rate %')\n",
    "# # plt.title('Variation in Hospitalisation Rate with Omicron/SGTF Prevalence')\n",
    "plt.ylim(0,100)"
   ]
  },
  {
   "cell_type": "code",
   "execution_count": 456,
   "metadata": {},
   "outputs": [],
   "source": [
    "london_cases=pd.read_csv('https://coronavirus.data.gov.uk/api/v1/data?filters=areaType=region;areaName=London&structure=%7B%22areaType%22:%22areaType%22,%22areaName%22:%22areaName%22,%22areaCode%22:%22areaCode%22,%22date%22:%22date%22,%22newCasesBySpecimenDate%22:%22newCasesBySpecimenDate%22,%22cumCasesBySpecimenDate%22:%22cumCasesBySpecimenDate%22%7D&format=csv',index_col='date',parse_dates=True)"
   ]
  },
  {
   "cell_type": "code",
   "execution_count": 457,
   "metadata": {},
   "outputs": [],
   "source": [
    "london_hospital_admissions=pd.read_csv('https://coronavirus.data.gov.uk/api/v1/data?filters=areaType=nhsRegion;areaName=London&structure=%7B%22areaType%22:%22areaType%22,%22areaName%22:%22areaName%22,%22areaCode%22:%22areaCode%22,%22date%22:%22date%22,%22newAdmissions%22:%22newAdmissions%22,%22cumAdmissions%22:%22cumAdmissions%22%7D&format=csv',index_col='date',parse_dates=True)"
   ]
  },
  {
   "cell_type": "code",
   "execution_count": 470,
   "metadata": {},
   "outputs": [],
   "source": [
    "# london_sgtf_analysis=pd.merge(london_hospital_admissions, london_cases, left_index=True, right_index=True)\n",
    "# london_sgtf_analysis=pd.merge(london_sgtf_analysis,df_gov_sgtf_lon,left_index=True,right_index=True)\n",
    "london_sgtf_analysis=pd.merge(london_hospital_admissions['newAdmissions'],london_cases['newCasesBySpecimenDate'],left_index=True,right_index=True)\n",
    "london_sgtf_analysis=pd.merge(london_sgtf_analysis,df_gov_sgtf_lon['percent'].tail(20),left_index=True,right_on='specimen_date')"
   ]
  },
  {
   "cell_type": "code",
   "execution_count": 471,
   "metadata": {},
   "outputs": [],
   "source": [
    "london_sgtf_analysis['Hosp+7D']=london_sgtf_analysis['newAdmissions'].shift(7)\n",
    "london_sgtf_analysis['Hosp_rate']=100*(london_sgtf_analysis['Hosp+7D']/london_sgtf_analysis['newCasesBySpecimenDate'])\n",
    "london_sgtf_analysis['SGTF %']=london_sgtf_analysis['percent']\n",
    "# london_sgtf_analysis=london_sgtf_analysis[london_sgtf_analysis['SGTF %']>1]"
   ]
  },
  {
   "cell_type": "code",
   "execution_count": 472,
   "metadata": {},
   "outputs": [
    {
     "data": {
      "text/plain": [
       "Index(['newAdmissions', 'newCasesBySpecimenDate', 'percent', 'Hosp+7D',\n",
       "       'Hosp_rate', 'SGTF %'],\n",
       "      dtype='object')"
      ]
     },
     "execution_count": 472,
     "metadata": {},
     "output_type": "execute_result"
    }
   ],
   "source": [
    "london_sgtf_analysis.columns"
   ]
  },
  {
   "cell_type": "code",
   "execution_count": 473,
   "metadata": {},
   "outputs": [
    {
     "data": {
      "text/plain": [
       "(0.0, 10.0)"
      ]
     },
     "execution_count": 473,
     "metadata": {},
     "output_type": "execute_result"
    },
    {
     "data": {
      "image/png": "[encoded data removed]",
      "text/plain": [
       "<Figure size 432x288 with 1 Axes>"
      ]
     },
     "metadata": {
      "needs_background": "light"
     },
     "output_type": "display_data"
    }
   ],
   "source": [
    "plt.scatter(x=london_sgtf_analysis['SGTF %'],y=london_sgtf_analysis['Hosp_rate'])\n",
    "plt.xlabel('Cases with SGTF %')\n",
    "plt.ylabel('Hospitalisation Rate %')\n",
    "plt.title('Variation in Hospitalisation Rate with Omicron/SGTF Prevalence')\n",
    "# plt.yscale('log')\n",
    "plt.ylim(0,10)"
   ]
  },
  {
   "cell_type": "code",
   "execution_count": 468,
   "metadata": {},
   "outputs": [
    {
     "data": {
      "text/plain": [
       "<AxesSubplot:xlabel='date'>"
      ]
     },
     "execution_count": 468,
     "metadata": {},
     "output_type": "execute_result"
    },
    {
     "data": {
      "image/png": "[encoded data removed]",
      "text/plain": [
       "<Figure size 432x288 with 2 Axes>"
      ]
     },
     "metadata": {
      "needs_background": "light"
     },
     "output_type": "display_data"
    }
   ],
   "source": [
    "plt.subplot(2,1,1)\n",
    "# london_sgtf_analysis['newAdmissions'].head(20).plot()\n",
    "london_hospital_admissions['newAdmissions'].loc['01-12-2021':'22-12-2021'].plot()\n",
    "plt.subplot(2,1,2)\n",
    "london_cases['newCasesBySpecimenDate'].tail(30).plot()"
   ]
  },
  {
   "cell_type": "code",
   "execution_count": 420,
   "metadata": {},
   "outputs": [],
   "source": [
    "london_sgtf_analysis=pd.merge(london_hospital_admissions['newAdmissions'],london_cases['newCasesBySpecimenDate'],left_index=True,right_index=True)\n",
    "london_sgtf_analysis=pd.merge(london_sgtf_analysis,df_gov_sgtf_lon['percent'].tail(20),left_index=True,right_on='specimen_date')"
   ]
  },
  {
   "cell_type": "code",
   "execution_count": 447,
   "metadata": {},
   "outputs": [],
   "source": [
    "london_sgtf_analysis=pd.merge(london_sgtf_analysis,df_gov_sgtf_lon['percent'].tail(20),left_index=True,right_on='specimen_date')"
   ]
  },
  {
   "cell_type": "code",
   "execution_count": 449,
   "metadata": {},
   "outputs": [
    {
     "data": {
      "text/plain": [
       "<AxesSubplot:xlabel='specimen_date'>"
      ]
     },
     "execution_count": 449,
     "metadata": {},
     "output_type": "execute_result"
    },
    {
     "data": {
      "image/png": "[encoded data removed]",
      "text/plain": [
       "<Figure size 432x288 with 1 Axes>"
      ]
     },
     "metadata": {
      "needs_background": "light"
     },
     "output_type": "display_data"
    }
   ],
   "source": [
    "london_sgtf_analysis.tail(20).plot()"
   ]
  },
  {
   "cell_type": "code",
   "execution_count": 446,
   "metadata": {},
   "outputs": [
    {
     "data": {
      "text/plain": [
       "<AxesSubplot:xlabel='specimen_date'>"
      ]
     },
     "execution_count": 446,
     "metadata": {},
     "output_type": "execute_result"
    },
    {
     "data": {
      "image/png": "[encoded data removed]",
      "text/plain": [
       "<Figure size 432x288 with 1 Axes>"
      ]
     },
     "metadata": {
      "needs_background": "light"
     },
     "output_type": "display_data"
    }
   ],
   "source": [
    "df_gov_sgtf_lon['percent'].tail(20).plot()"
   ]
  },
  {
   "cell_type": "code",
   "execution_count": null,
   "metadata": {},
   "outputs": [],
   "source": []
  }
 ],
 "metadata": {
  "interpreter": {
   "hash": "c12f6846890c8be5f8f3f94508150ee721d5e2faa0dd73c773f731dd22ddbcdb"
  },
  "kernelspec": {
   "display_name": "Python 3.8.10 64-bit ('venv38': conda)",
   "language": "python",
   "name": "python3"
  },
  "language_info": {
   "codemirror_mode": {
    "name": "ipython",
    "version": 3
   },
   "file_extension": ".py",
   "mimetype": "text/x-python",
   "name": "python",
   "nbconvert_exporter": "python",
   "pygments_lexer": "ipython3",
   "version": "3.7.4"
  },
  "orig_nbformat": 4
 },
 "nbformat": 4,
 "nbformat_minor": 2
}
