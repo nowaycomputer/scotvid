{
 "cells": [
  {
   "cell_type": "code",
   "execution_count": 1,
   "metadata": {},
   "outputs": [],
   "source": [
    "import pandas as pd\n",
    "import numpy as np\n",
    "from scipy.optimize import curve_fit\n",
    "import matplotlib.pyplot as plt"
   ]
  },
  {
   "cell_type": "code",
   "execution_count": 2,
   "metadata": {},
   "outputs": [],
   "source": [
    "df_sgtf=pd.read_csv('../data/sgtf.csv', index_col='Date',parse_dates=True, infer_datetime_format=\"D/M/Y\")\n",
    "df_cases=pd.read_csv('https://www.opendata.nhs.scot/dataset/b318bddf-a4dc-4262-971f-0ba329e09b87/resource/287fc645-4352-4477-9c8c-55bc054b7e76/download/daily_cuml_scot_20211206.csv', index_col='Date',parse_dates=True)\n",
    "df_hospital=pd.read_csv('https://www.opendata.nhs.scot/dataset/b318bddf-a4dc-4262-971f-0ba329e09b87/resource/2dd8534b-0a6f-4744-9253-9565d62f96c2/download/trend_hb_20211206.csv', index_col='Date',parse_dates=True)\n",
    "\n",
    "df_hospital=df_hospital[df_hospital['HBName']=='Scotland']"
   ]
  },
  {
   "cell_type": "code",
   "execution_count": 3,
   "metadata": {},
   "outputs": [
    {
     "data": {
      "text/plain": [
       "<matplotlib.collections.PathCollection at 0x1c78fdd4388>"
      ]
     },
     "execution_count": 3,
     "metadata": {},
     "output_type": "execute_result"
    },
    {
     "data": {
      "image/png": "[encoded data removed]",
      "text/plain": [
       "<Figure size 432x288 with 1 Axes>"
      ]
     },
     "metadata": {
      "needs_background": "light"
     },
     "output_type": "display_data"
    }
   ],
   "source": [
    "\n",
    "y_data=df_sgtf['SGTF %'].values\n",
    "x_data=np.arange(0,len(y_data),1)\n",
    "\n",
    "def func(x, L ,x0, k, b):\n",
    "    return L / (1 + np.exp(-k*(x-x0)))+b\n",
    "\n",
    "p0 = [max(y_data), np.median(x_data),1,min(y_data)] # this is an mandatory initial guess\n",
    "\n",
    "popt, pcov = curve_fit(func, x_data, y_data,p0)\n",
    "forecast_range=np.arange(x_data[-1],50,1)\n",
    "\n",
    "plt.plot(forecast_range, func(forecast_range, *popt), 'r-', ls='--')\n",
    "\n",
    "plt.plot(x_data, func(x_data, *popt), 'r-')\n",
    "\n",
    "plt.scatter(x=x_data,y=y_data)\n"
   ]
  },
  {
   "cell_type": "code",
   "execution_count": 4,
   "metadata": {},
   "outputs": [
    {
     "data": {
      "text/html": [
       "<div>\n",
       "<style scoped>\n",
       "    .dataframe tbody tr th:only-of-type {\n",
       "        vertical-align: middle;\n",
       "    }\n",
       "\n",
       "    .dataframe tbody tr th {\n",
       "        vertical-align: top;\n",
       "    }\n",
       "\n",
       "    .dataframe thead th {\n",
       "        text-align: right;\n",
       "    }\n",
       "</style>\n",
       "<table border=\"1\" class=\"dataframe\">\n",
       "  <thead>\n",
       "    <tr style=\"text-align: right;\">\n",
       "      <th></th>\n",
       "      <th>HB</th>\n",
       "      <th>HBName</th>\n",
       "      <th>DailyPositive</th>\n",
       "      <th>CumulativePositive</th>\n",
       "      <th>CrudeRatePositive</th>\n",
       "      <th>CrudeRate7DayPositive</th>\n",
       "      <th>DailyDeaths</th>\n",
       "      <th>CumulativeDeaths</th>\n",
       "      <th>CrudeRateDeaths</th>\n",
       "      <th>DailyNegative</th>\n",
       "      <th>...</th>\n",
       "      <th>TotalPillar2</th>\n",
       "      <th>HospitalAdmissions</th>\n",
       "      <th>HospitalAdmissionsQF</th>\n",
       "      <th>ICUAdmissions</th>\n",
       "      <th>ICUAdmissionsQF</th>\n",
       "      <th>PositivePillar1</th>\n",
       "      <th>PositivePillar2</th>\n",
       "      <th>SGTF %</th>\n",
       "      <th>Hosp+7D</th>\n",
       "      <th>Hosp_rate</th>\n",
       "    </tr>\n",
       "    <tr>\n",
       "      <th>Date</th>\n",
       "      <th></th>\n",
       "      <th></th>\n",
       "      <th></th>\n",
       "      <th></th>\n",
       "      <th></th>\n",
       "      <th></th>\n",
       "      <th></th>\n",
       "      <th></th>\n",
       "      <th></th>\n",
       "      <th></th>\n",
       "      <th></th>\n",
       "      <th></th>\n",
       "      <th></th>\n",
       "      <th></th>\n",
       "      <th></th>\n",
       "      <th></th>\n",
       "      <th></th>\n",
       "      <th></th>\n",
       "      <th></th>\n",
       "      <th></th>\n",
       "      <th></th>\n",
       "    </tr>\n",
       "  </thead>\n",
       "  <tbody>\n",
       "    <tr>\n",
       "      <th>2021-12-17</th>\n",
       "      <td>S92000003</td>\n",
       "      <td>Scotland</td>\n",
       "      <td>5598</td>\n",
       "      <td>803840</td>\n",
       "      <td>14706.183681</td>\n",
       "      <td>679.253568</td>\n",
       "      <td>6</td>\n",
       "      <td>9803</td>\n",
       "      <td>179.345042</td>\n",
       "      <td>8582</td>\n",
       "      <td>...</td>\n",
       "      <td>37198</td>\n",
       "      <td>61.0</td>\n",
       "      <td>NaN</td>\n",
       "      <td>3.0</td>\n",
       "      <td>NaN</td>\n",
       "      <td>274</td>\n",
       "      <td>5920</td>\n",
       "      <td>51.4</td>\n",
       "      <td>NaN</td>\n",
       "      <td>NaN</td>\n",
       "    </tr>\n",
       "    <tr>\n",
       "      <th>2021-12-18</th>\n",
       "      <td>S92000003</td>\n",
       "      <td>Scotland</td>\n",
       "      <td>4918</td>\n",
       "      <td>808758</td>\n",
       "      <td>14796.158068</td>\n",
       "      <td>710.098793</td>\n",
       "      <td>6</td>\n",
       "      <td>9809</td>\n",
       "      <td>179.454812</td>\n",
       "      <td>7003</td>\n",
       "      <td>...</td>\n",
       "      <td>29562</td>\n",
       "      <td>45.0</td>\n",
       "      <td>NaN</td>\n",
       "      <td>2.0</td>\n",
       "      <td>NaN</td>\n",
       "      <td>229</td>\n",
       "      <td>5308</td>\n",
       "      <td>51.1</td>\n",
       "      <td>NaN</td>\n",
       "      <td>NaN</td>\n",
       "    </tr>\n",
       "    <tr>\n",
       "      <th>2021-12-19</th>\n",
       "      <td>S92000003</td>\n",
       "      <td>Scotland</td>\n",
       "      <td>5268</td>\n",
       "      <td>814026</td>\n",
       "      <td>14892.535675</td>\n",
       "      <td>745.590926</td>\n",
       "      <td>4</td>\n",
       "      <td>9813</td>\n",
       "      <td>179.527991</td>\n",
       "      <td>6476</td>\n",
       "      <td>...</td>\n",
       "      <td>29496</td>\n",
       "      <td>41.0</td>\n",
       "      <td>NaN</td>\n",
       "      <td>0.0</td>\n",
       "      <td>NaN</td>\n",
       "      <td>204</td>\n",
       "      <td>5734</td>\n",
       "      <td>54.2</td>\n",
       "      <td>NaN</td>\n",
       "      <td>NaN</td>\n",
       "    </tr>\n",
       "    <tr>\n",
       "      <th>2021-12-20</th>\n",
       "      <td>S92000003</td>\n",
       "      <td>Scotland</td>\n",
       "      <td>8075</td>\n",
       "      <td>822101</td>\n",
       "      <td>15040.267106</td>\n",
       "      <td>790.889133</td>\n",
       "      <td>7</td>\n",
       "      <td>9820</td>\n",
       "      <td>179.656056</td>\n",
       "      <td>10612</td>\n",
       "      <td>...</td>\n",
       "      <td>45867</td>\n",
       "      <td>80.0</td>\n",
       "      <td>NaN</td>\n",
       "      <td>9.0</td>\n",
       "      <td>NaN</td>\n",
       "      <td>451</td>\n",
       "      <td>8643</td>\n",
       "      <td>57.9</td>\n",
       "      <td>NaN</td>\n",
       "      <td>NaN</td>\n",
       "    </tr>\n",
       "    <tr>\n",
       "      <th>2021-12-21</th>\n",
       "      <td>S92000003</td>\n",
       "      <td>Scotland</td>\n",
       "      <td>9712</td>\n",
       "      <td>831813</td>\n",
       "      <td>15217.947311</td>\n",
       "      <td>854.079766</td>\n",
       "      <td>7</td>\n",
       "      <td>9827</td>\n",
       "      <td>179.784120</td>\n",
       "      <td>9997</td>\n",
       "      <td>...</td>\n",
       "      <td>46326</td>\n",
       "      <td>61.0</td>\n",
       "      <td>NaN</td>\n",
       "      <td>7.0</td>\n",
       "      <td>NaN</td>\n",
       "      <td>567</td>\n",
       "      <td>10509</td>\n",
       "      <td>62.9</td>\n",
       "      <td>NaN</td>\n",
       "      <td>NaN</td>\n",
       "    </tr>\n",
       "    <tr>\n",
       "      <th>2021-12-22</th>\n",
       "      <td>S92000003</td>\n",
       "      <td>Scotland</td>\n",
       "      <td>10892</td>\n",
       "      <td>842705</td>\n",
       "      <td>15417.215514</td>\n",
       "      <td>928.100988</td>\n",
       "      <td>3</td>\n",
       "      <td>9830</td>\n",
       "      <td>179.839005</td>\n",
       "      <td>9116</td>\n",
       "      <td>...</td>\n",
       "      <td>46861</td>\n",
       "      <td>NaN</td>\n",
       "      <td>:</td>\n",
       "      <td>8.0</td>\n",
       "      <td>NaN</td>\n",
       "      <td>541</td>\n",
       "      <td>12052</td>\n",
       "      <td>68.3</td>\n",
       "      <td>NaN</td>\n",
       "      <td>NaN</td>\n",
       "    </tr>\n",
       "    <tr>\n",
       "      <th>2021-12-23</th>\n",
       "      <td>S92000003</td>\n",
       "      <td>Scotland</td>\n",
       "      <td>11259</td>\n",
       "      <td>853964</td>\n",
       "      <td>15623.197951</td>\n",
       "      <td>1019.429199</td>\n",
       "      <td>4</td>\n",
       "      <td>9834</td>\n",
       "      <td>179.912184</td>\n",
       "      <td>7559</td>\n",
       "      <td>...</td>\n",
       "      <td>43053</td>\n",
       "      <td>NaN</td>\n",
       "      <td>:</td>\n",
       "      <td>2.0</td>\n",
       "      <td>NaN</td>\n",
       "      <td>572</td>\n",
       "      <td>12539</td>\n",
       "      <td>72.9</td>\n",
       "      <td>NaN</td>\n",
       "      <td>NaN</td>\n",
       "    </tr>\n",
       "    <tr>\n",
       "      <th>2021-12-24</th>\n",
       "      <td>S92000003</td>\n",
       "      <td>Scotland</td>\n",
       "      <td>8716</td>\n",
       "      <td>862680</td>\n",
       "      <td>15782.656422</td>\n",
       "      <td>1076.472741</td>\n",
       "      <td>1</td>\n",
       "      <td>9835</td>\n",
       "      <td>179.930479</td>\n",
       "      <td>4690</td>\n",
       "      <td>...</td>\n",
       "      <td>27212</td>\n",
       "      <td>NaN</td>\n",
       "      <td>:</td>\n",
       "      <td>9.0</td>\n",
       "      <td>NaN</td>\n",
       "      <td>512</td>\n",
       "      <td>9577</td>\n",
       "      <td>76.9</td>\n",
       "      <td>NaN</td>\n",
       "      <td>NaN</td>\n",
       "    </tr>\n",
       "  </tbody>\n",
       "</table>\n",
       "<p>8 rows × 27 columns</p>\n",
       "</div>"
      ],
      "text/plain": [
       "                   HB    HBName  DailyPositive  CumulativePositive  \\\n",
       "Date                                                                 \n",
       "2021-12-17  S92000003  Scotland           5598              803840   \n",
       "2021-12-18  S92000003  Scotland           4918              808758   \n",
       "2021-12-19  S92000003  Scotland           5268              814026   \n",
       "2021-12-20  S92000003  Scotland           8075              822101   \n",
       "2021-12-21  S92000003  Scotland           9712              831813   \n",
       "2021-12-22  S92000003  Scotland          10892              842705   \n",
       "2021-12-23  S92000003  Scotland          11259              853964   \n",
       "2021-12-24  S92000003  Scotland           8716              862680   \n",
       "\n",
       "            CrudeRatePositive  CrudeRate7DayPositive  DailyDeaths  \\\n",
       "Date                                                                \n",
       "2021-12-17       14706.183681             679.253568            6   \n",
       "2021-12-18       14796.158068             710.098793            6   \n",
       "2021-12-19       14892.535675             745.590926            4   \n",
       "2021-12-20       15040.267106             790.889133            7   \n",
       "2021-12-21       15217.947311             854.079766            7   \n",
       "2021-12-22       15417.215514             928.100988            3   \n",
       "2021-12-23       15623.197951            1019.429199            4   \n",
       "2021-12-24       15782.656422            1076.472741            1   \n",
       "\n",
       "            CumulativeDeaths  CrudeRateDeaths  DailyNegative  ...  \\\n",
       "Date                                                          ...   \n",
       "2021-12-17              9803       179.345042           8582  ...   \n",
       "2021-12-18              9809       179.454812           7003  ...   \n",
       "2021-12-19              9813       179.527991           6476  ...   \n",
       "2021-12-20              9820       179.656056          10612  ...   \n",
       "2021-12-21              9827       179.784120           9997  ...   \n",
       "2021-12-22              9830       179.839005           9116  ...   \n",
       "2021-12-23              9834       179.912184           7559  ...   \n",
       "2021-12-24              9835       179.930479           4690  ...   \n",
       "\n",
       "            TotalPillar2  HospitalAdmissions  HospitalAdmissionsQF  \\\n",
       "Date                                                                 \n",
       "2021-12-17         37198                61.0                   NaN   \n",
       "2021-12-18         29562                45.0                   NaN   \n",
       "2021-12-19         29496                41.0                   NaN   \n",
       "2021-12-20         45867                80.0                   NaN   \n",
       "2021-12-21         46326                61.0                   NaN   \n",
       "2021-12-22         46861                 NaN                     :   \n",
       "2021-12-23         43053                 NaN                     :   \n",
       "2021-12-24         27212                 NaN                     :   \n",
       "\n",
       "            ICUAdmissions  ICUAdmissionsQF  PositivePillar1  PositivePillar2  \\\n",
       "Date                                                                           \n",
       "2021-12-17            3.0              NaN              274             5920   \n",
       "2021-12-18            2.0              NaN              229             5308   \n",
       "2021-12-19            0.0              NaN              204             5734   \n",
       "2021-12-20            9.0              NaN              451             8643   \n",
       "2021-12-21            7.0              NaN              567            10509   \n",
       "2021-12-22            8.0              NaN              541            12052   \n",
       "2021-12-23            2.0              NaN              572            12539   \n",
       "2021-12-24            9.0              NaN              512             9577   \n",
       "\n",
       "            SGTF %  Hosp+7D Hosp_rate  \n",
       "Date                                   \n",
       "2021-12-17    51.4      NaN       NaN  \n",
       "2021-12-18    51.1      NaN       NaN  \n",
       "2021-12-19    54.2      NaN       NaN  \n",
       "2021-12-20    57.9      NaN       NaN  \n",
       "2021-12-21    62.9      NaN       NaN  \n",
       "2021-12-22    68.3      NaN       NaN  \n",
       "2021-12-23    72.9      NaN       NaN  \n",
       "2021-12-24    76.9      NaN       NaN  \n",
       "\n",
       "[8 rows x 27 columns]"
      ]
     },
     "execution_count": 4,
     "metadata": {},
     "output_type": "execute_result"
    }
   ],
   "source": [
    "df_sgtf_analysis=pd.merge(df_hospital, df_sgtf, left_index=True, right_index=True)\n",
    "df_sgtf_analysis['Hosp+7D']=df_sgtf_analysis['HospitalAdmissions'].shift(-7)\n",
    "df_sgtf_analysis['Hosp_rate']=100*(df_sgtf_analysis['Hosp+7D']/df_sgtf_analysis['DailyPositive'])\n",
    "df_sgtf_analysis['SGTF %']=100*df_sgtf_analysis['SGTF %']\n",
    "df_sgtf_analysis.tail(8)"
   ]
  },
  {
   "cell_type": "code",
   "execution_count": 5,
   "metadata": {},
   "outputs": [
    {
     "data": {
      "text/html": [
       "<div>\n",
       "<style scoped>\n",
       "    .dataframe tbody tr th:only-of-type {\n",
       "        vertical-align: middle;\n",
       "    }\n",
       "\n",
       "    .dataframe tbody tr th {\n",
       "        vertical-align: top;\n",
       "    }\n",
       "\n",
       "    .dataframe thead th {\n",
       "        text-align: right;\n",
       "    }\n",
       "</style>\n",
       "<table border=\"1\" class=\"dataframe\">\n",
       "  <thead>\n",
       "    <tr style=\"text-align: right;\">\n",
       "      <th></th>\n",
       "      <th>SGTF %</th>\n",
       "      <th>Hosp_rate</th>\n",
       "    </tr>\n",
       "    <tr>\n",
       "      <th>Date</th>\n",
       "      <th></th>\n",
       "      <th></th>\n",
       "    </tr>\n",
       "  </thead>\n",
       "  <tbody>\n",
       "    <tr>\n",
       "      <th>2021-12-10</th>\n",
       "      <td>15.5</td>\n",
       "      <td>1.638464</td>\n",
       "    </tr>\n",
       "    <tr>\n",
       "      <th>2021-12-11</th>\n",
       "      <td>18.0</td>\n",
       "      <td>1.392327</td>\n",
       "    </tr>\n",
       "    <tr>\n",
       "      <th>2021-12-12</th>\n",
       "      <td>20.0</td>\n",
       "      <td>1.231971</td>\n",
       "    </tr>\n",
       "    <tr>\n",
       "      <th>2021-12-13</th>\n",
       "      <td>22.6</td>\n",
       "      <td>1.428827</td>\n",
       "    </tr>\n",
       "    <tr>\n",
       "      <th>2021-12-14</th>\n",
       "      <td>27.5</td>\n",
       "      <td>0.974752</td>\n",
       "    </tr>\n",
       "  </tbody>\n",
       "</table>\n",
       "</div>"
      ],
      "text/plain": [
       "            SGTF %  Hosp_rate\n",
       "Date                         \n",
       "2021-12-10    15.5   1.638464\n",
       "2021-12-11    18.0   1.392327\n",
       "2021-12-12    20.0   1.231971\n",
       "2021-12-13    22.6   1.428827\n",
       "2021-12-14    27.5   0.974752"
      ]
     },
     "execution_count": 5,
     "metadata": {},
     "output_type": "execute_result"
    }
   ],
   "source": [
    "df_sgtf_analysis=df_sgtf_analysis[['SGTF %', 'Hosp_rate']]\n",
    "# df_sgtf_analysis=df_sgtf_analysis[df_sgtf_analysis['SGTF %']>1]\n",
    "df_sgtf_analysis=df_sgtf_analysis.dropna()\n",
    "df_sgtf_analysis.tail()"
   ]
  },
  {
   "cell_type": "code",
   "execution_count": 6,
   "metadata": {},
   "outputs": [
    {
     "data": {
      "text/plain": [
       "Text(0.5, 1.0, 'Variation in Hospitalisation Rate with Omicron/SGTF Prevalence')"
      ]
     },
     "execution_count": 6,
     "metadata": {},
     "output_type": "execute_result"
    },
    {
     "data": {
      "image/png": "[encoded data removed]",
      "text/plain": [
       "<Figure size 432x288 with 1 Axes>"
      ]
     },
     "metadata": {
      "needs_background": "light"
     },
     "output_type": "display_data"
    }
   ],
   "source": [
    "plt.scatter(x=df_sgtf_analysis['SGTF %'],y=df_sgtf_analysis['Hosp_rate'])\n",
    "plt.xlabel('Cases with SGTF %')\n",
    "plt.ylabel('Hospitalisation Rate %')\n",
    "plt.title('Variation in Hospitalisation Rate with Omicron/SGTF Prevalence')"
   ]
  },
  {
   "cell_type": "code",
   "execution_count": 7,
   "metadata": {},
   "outputs": [
    {
     "name": "stderr",
     "output_type": "stream",
     "text": [
      "No handles with labels found to put in legend.\n"
     ]
    },
    {
     "data": {
      "text/plain": [
       "<matplotlib.collections.PathCollection at 0x1c78ffeee88>"
      ]
     },
     "execution_count": 7,
     "metadata": {},
     "output_type": "execute_result"
    },
    {
     "data": {
      "image/png": "[encoded data removed]",
      "text/plain": [
       "<Figure size 432x288 with 1 Axes>"
      ]
     },
     "metadata": {
      "needs_background": "light"
     },
     "output_type": "display_data"
    }
   ],
   "source": [
    "from scipy.optimize import curve_fit\n",
    "\n",
    "# def func(x, a, b):\n",
    "#     return a * x + b\n",
    "\n",
    "def func(x, a, b, c):\n",
    "    return a*np.exp(-b*x) + c\n",
    "\n",
    "\n",
    "popt, pcov = curve_fit(func, df_sgtf_analysis['SGTF %'], df_sgtf_analysis['Hosp_rate'])\n",
    "\n",
    "plt.plot(df_sgtf_analysis['SGTF %'], func(df_sgtf_analysis['SGTF %'], *popt), 'r-')\n",
    "plt.scatter(x=df_sgtf_analysis['SGTF %'],y=df_sgtf_analysis['Hosp_rate'])\n",
    "\n",
    "forecast_range=np.arange(df_sgtf_analysis['SGTF %'].values[-1],70,1)\n",
    "plt.plot(forecast_range, func(forecast_range, *popt), 'r-', ls='--')\n",
    "\n",
    "plt.legend()\n",
    "plt.xlabel('Cases with SGTF %')\n",
    "plt.ylabel('Hospitalisation Rate %')\n",
    "plt.title('Variation in Hospitalisation Rate with Omicron/SGTF Prevalence')\n",
    "\n",
    "best_hosp_rate=func(forecast_range, *popt)[-1]\n",
    "plt.text(x=50,y=1.6,s='Forecast Best Hosp. Rate: '+str(np.round(func(forecast_range, *popt)[-1],2))+'%',c='r')\n",
    "plt.scatter(x=70,y=func(forecast_range, *popt)[-1])"
   ]
  },
  {
   "cell_type": "code",
   "execution_count": 8,
   "metadata": {},
   "outputs": [],
   "source": [
    "from datetime import datetime\n",
    "custom_date_parser = lambda x: datetime.strptime(x, \"%d/%m/%Y\")\n",
    "\n",
    "df_gov_sgtf=pd.read_csv('https://assets.publishing.service.gov.uk/government/uploads/system/uploads/attachment_data/file/1043759/sgtf_regionepicurve_2021-12-22.csv',index_col='specimen_date',parse_dates=True,date_parser=custom_date_parser)\n",
    "df_gov_sgtf_lon=df_gov_sgtf[(df_gov_sgtf['UKHSA_region']=='London') & (df_gov_sgtf['sgtf']=='Cases with confirmed SGTF')]\n",
    "london_cases=pd.read_csv('https://coronavirus.data.gov.uk/api/v1/data?filters=areaType=region;areaName=London&structure=%7B%22areaType%22:%22areaType%22,%22areaName%22:%22areaName%22,%22areaCode%22:%22areaCode%22,%22date%22:%22date%22,%22newCasesBySpecimenDate%22:%22newCasesBySpecimenDate%22,%22cumCasesBySpecimenDate%22:%22cumCasesBySpecimenDate%22%7D&format=csv',index_col='date',parse_dates=True,infer_datetime_format=\"D/M/Y\")\n",
    "london_hospital_admissions=pd.read_csv('https://coronavirus.data.gov.uk/api/v1/data?filters=areaType=nhsRegion;areaName=London&structure=%7B%22areaType%22:%22areaType%22,%22areaName%22:%22areaName%22,%22areaCode%22:%22areaCode%22,%22date%22:%22date%22,%22newAdmissions%22:%22newAdmissions%22,%22cumAdmissions%22:%22cumAdmissions%22%7D&format=csv',index_col='date',parse_dates=True,infer_datetime_format=\"D/M/Y\")"
   ]
  },
  {
   "cell_type": "code",
   "execution_count": 9,
   "metadata": {},
   "outputs": [],
   "source": [
    "london_sgtf_analysis=pd.merge(london_hospital_admissions['newAdmissions'],london_cases['newCasesBySpecimenDate'],left_index=True,right_index=True)\n",
    "london_sgtf_analysis=pd.merge(london_sgtf_analysis,df_gov_sgtf_lon['percent'].tail(20),left_index=True,right_on='specimen_date')"
   ]
  },
  {
   "cell_type": "code",
   "execution_count": 10,
   "metadata": {},
   "outputs": [
    {
     "data": {
      "text/plain": [
       "(0.0, 100.0)"
      ]
     },
     "execution_count": 10,
     "metadata": {},
     "output_type": "execute_result"
    },
    {
     "data": {
      "image/png": "[encoded data removed]",
      "text/plain": [
       "<Figure size 432x288 with 1 Axes>"
      ]
     },
     "metadata": {
      "needs_background": "light"
     },
     "output_type": "display_data"
    }
   ],
   "source": [
    "london_sgtf_analysis.plot()\n",
    "plt.ylim(0,100)"
   ]
  },
  {
   "cell_type": "code",
   "execution_count": 11,
   "metadata": {},
   "outputs": [],
   "source": [
    "y_data=df_gov_sgtf_lon['percent'].tail(25).values\n",
    "x_data=np.arange(0,len(y_data),1)\n",
    "\n",
    "def func(x, L ,x0, k, b):\n",
    "    return L / (1 + np.exp(-k*(x-x0)))+b\n",
    "\n",
    "p0 = [max(y_data), np.median(x_data),1,min(y_data)] # this is an mandatory initial guess\n",
    "\n",
    "popt, pcov = curve_fit(func, x_data, y_data,p0)"
   ]
  },
  {
   "cell_type": "code",
   "execution_count": 12,
   "metadata": {},
   "outputs": [
    {
     "data": {
      "text/plain": [
       "(0.0, 100.0)"
      ]
     },
     "execution_count": 12,
     "metadata": {},
     "output_type": "execute_result"
    },
    {
     "data": {
      "image/png": "[encoded data removed]",
      "text/plain": [
       "<Figure size 432x288 with 1 Axes>"
      ]
     },
     "metadata": {
      "needs_background": "light"
     },
     "output_type": "display_data"
    }
   ],
   "source": [
    "plt.plot(x_data, func(x_data, *popt), 'r-')\n",
    "\n",
    "forecast_range=np.arange(25,35,1)\n",
    "plt.plot(forecast_range, func(forecast_range, *popt), 'r-', ls='--')\n",
    "\n",
    "plt.scatter(x=x_data,y=y_data)\n",
    "# df_gov_sgtf_lon['percent'].tail(25).plot()\n",
    "# # plt.legend()\n",
    "# # plt.xlabel('Cases with SGTF %')\n",
    "# # plt.ylabel('Hospitalisation Rate %')\n",
    "# # plt.title('Variation in Hospitalisation Rate with Omicron/SGTF Prevalence')\n",
    "plt.ylim(0,100)"
   ]
  },
  {
   "cell_type": "code",
   "execution_count": 13,
   "metadata": {},
   "outputs": [],
   "source": [
    "london_sgtf_analysis=pd.merge(london_hospital_admissions, london_cases, left_index=True, right_index=True)\n",
    "london_sgtf_analysis=pd.merge(london_sgtf_analysis,df_gov_sgtf_lon,left_index=True,right_index=True)\n"
   ]
  },
  {
   "cell_type": "code",
   "execution_count": 14,
   "metadata": {},
   "outputs": [],
   "source": [
    "london_sgtf_analysis['Hosp+7D']=london_sgtf_analysis['newAdmissions'].shift(7)\n",
    "london_sgtf_analysis=london_sgtf_analysis.dropna()\n",
    "london_sgtf_analysis['Hosp_rate']=100*(london_sgtf_analysis['Hosp+7D']/london_sgtf_analysis['newCasesBySpecimenDate'])\n",
    "london_sgtf_analysis['SGTF %']=london_sgtf_analysis['percent']\n",
    "london_sgtf_analysis=london_sgtf_analysis[london_sgtf_analysis['SGTF %']>1]"
   ]
  },
  {
   "cell_type": "code",
   "execution_count": 15,
   "metadata": {},
   "outputs": [
    {
     "data": {
      "text/plain": [
       "Text(0.5, 1.0, 'Variation in Hospitalisation Rate with Omicron/SGTF Prevalence')"
      ]
     },
     "execution_count": 15,
     "metadata": {},
     "output_type": "execute_result"
    },
    {
     "data": {
      "image/png": "[encoded data removed]",
      "text/plain": [
       "<Figure size 432x288 with 1 Axes>"
      ]
     },
     "metadata": {
      "needs_background": "light"
     },
     "output_type": "display_data"
    }
   ],
   "source": [
    "plt.scatter(x=london_sgtf_analysis['SGTF %'],y=london_sgtf_analysis['Hosp_rate'])\n",
    "plt.xlabel('Cases with SGTF %')\n",
    "plt.ylabel('Hospitalisation Rate %')\n",
    "plt.title('Variation in Hospitalisation Rate with Omicron/SGTF Prevalence')\n",
    "# plt.yscale('log')\n",
    "# plt.ylim(0,10)"
   ]
  },
  {
   "cell_type": "code",
   "execution_count": 16,
   "metadata": {},
   "outputs": [
    {
     "data": {
      "text/html": [
       "<div>\n",
       "<style scoped>\n",
       "    .dataframe tbody tr th:only-of-type {\n",
       "        vertical-align: middle;\n",
       "    }\n",
       "\n",
       "    .dataframe tbody tr th {\n",
       "        vertical-align: top;\n",
       "    }\n",
       "\n",
       "    .dataframe thead th {\n",
       "        text-align: right;\n",
       "    }\n",
       "</style>\n",
       "<table border=\"1\" class=\"dataframe\">\n",
       "  <thead>\n",
       "    <tr style=\"text-align: right;\">\n",
       "      <th></th>\n",
       "      <th>areaType_x</th>\n",
       "      <th>areaName_x</th>\n",
       "      <th>areaCode_x</th>\n",
       "      <th>newAdmissions</th>\n",
       "      <th>cumAdmissions</th>\n",
       "      <th>areaType_y</th>\n",
       "      <th>areaName_y</th>\n",
       "      <th>areaCode_y</th>\n",
       "      <th>newCasesBySpecimenDate</th>\n",
       "      <th>cumCasesBySpecimenDate</th>\n",
       "      <th>UKHSA_region</th>\n",
       "      <th>n</th>\n",
       "      <th>percent</th>\n",
       "      <th>sgtf</th>\n",
       "      <th>total</th>\n",
       "      <th>conf_low</th>\n",
       "      <th>conf_high</th>\n",
       "      <th>Hosp+7D</th>\n",
       "      <th>Hosp_rate</th>\n",
       "      <th>SGTF %</th>\n",
       "    </tr>\n",
       "  </thead>\n",
       "  <tbody>\n",
       "    <tr>\n",
       "      <th>2021-12-18</th>\n",
       "      <td>nhsRegion</td>\n",
       "      <td>London</td>\n",
       "      <td>E40000003</td>\n",
       "      <td>210</td>\n",
       "      <td>91984</td>\n",
       "      <td>region</td>\n",
       "      <td>London</td>\n",
       "      <td>E12000007</td>\n",
       "      <td>22392</td>\n",
       "      <td>1553610</td>\n",
       "      <td>London</td>\n",
       "      <td>7364</td>\n",
       "      <td>88.51</td>\n",
       "      <td>Cases with confirmed SGTF</td>\n",
       "      <td>8320</td>\n",
       "      <td>87.800358</td>\n",
       "      <td>89.183016</td>\n",
       "      <td>364.0</td>\n",
       "      <td>1.625581</td>\n",
       "      <td>88.51</td>\n",
       "    </tr>\n",
       "    <tr>\n",
       "      <th>2021-12-17</th>\n",
       "      <td>nhsRegion</td>\n",
       "      <td>London</td>\n",
       "      <td>E40000003</td>\n",
       "      <td>220</td>\n",
       "      <td>91774</td>\n",
       "      <td>region</td>\n",
       "      <td>London</td>\n",
       "      <td>E12000007</td>\n",
       "      <td>24209</td>\n",
       "      <td>1531218</td>\n",
       "      <td>London</td>\n",
       "      <td>7174</td>\n",
       "      <td>87.06</td>\n",
       "      <td>Cases with confirmed SGTF</td>\n",
       "      <td>8240</td>\n",
       "      <td>86.314959</td>\n",
       "      <td>87.776424</td>\n",
       "      <td>278.0</td>\n",
       "      <td>1.148333</td>\n",
       "      <td>87.06</td>\n",
       "    </tr>\n",
       "    <tr>\n",
       "      <th>2021-12-16</th>\n",
       "      <td>nhsRegion</td>\n",
       "      <td>London</td>\n",
       "      <td>E40000003</td>\n",
       "      <td>193</td>\n",
       "      <td>91554</td>\n",
       "      <td>region</td>\n",
       "      <td>London</td>\n",
       "      <td>E12000007</td>\n",
       "      <td>26823</td>\n",
       "      <td>1507009</td>\n",
       "      <td>London</td>\n",
       "      <td>8940</td>\n",
       "      <td>86.00</td>\n",
       "      <td>Cases with confirmed SGTF</td>\n",
       "      <td>10395</td>\n",
       "      <td>85.317694</td>\n",
       "      <td>86.661286</td>\n",
       "      <td>390.0</td>\n",
       "      <td>1.453976</td>\n",
       "      <td>86.00</td>\n",
       "    </tr>\n",
       "    <tr>\n",
       "      <th>2021-12-15</th>\n",
       "      <td>nhsRegion</td>\n",
       "      <td>London</td>\n",
       "      <td>E40000003</td>\n",
       "      <td>201</td>\n",
       "      <td>91361</td>\n",
       "      <td>region</td>\n",
       "      <td>London</td>\n",
       "      <td>E12000007</td>\n",
       "      <td>27741</td>\n",
       "      <td>1480186</td>\n",
       "      <td>London</td>\n",
       "      <td>7530</td>\n",
       "      <td>83.90</td>\n",
       "      <td>Cases with confirmed SGTF</td>\n",
       "      <td>8975</td>\n",
       "      <td>83.119192</td>\n",
       "      <td>84.651031</td>\n",
       "      <td>386.0</td>\n",
       "      <td>1.391442</td>\n",
       "      <td>83.90</td>\n",
       "    </tr>\n",
       "    <tr>\n",
       "      <th>2021-12-14</th>\n",
       "      <td>nhsRegion</td>\n",
       "      <td>London</td>\n",
       "      <td>E40000003</td>\n",
       "      <td>199</td>\n",
       "      <td>91160</td>\n",
       "      <td>region</td>\n",
       "      <td>London</td>\n",
       "      <td>E12000007</td>\n",
       "      <td>26639</td>\n",
       "      <td>1452445</td>\n",
       "      <td>London</td>\n",
       "      <td>6815</td>\n",
       "      <td>79.86</td>\n",
       "      <td>Cases with confirmed SGTF</td>\n",
       "      <td>8534</td>\n",
       "      <td>78.986823</td>\n",
       "      <td>80.700210</td>\n",
       "      <td>307.0</td>\n",
       "      <td>1.152446</td>\n",
       "      <td>79.86</td>\n",
       "    </tr>\n",
       "  </tbody>\n",
       "</table>\n",
       "</div>"
      ],
      "text/plain": [
       "           areaType_x areaName_x areaCode_x  newAdmissions  cumAdmissions  \\\n",
       "2021-12-18  nhsRegion     London  E40000003            210          91984   \n",
       "2021-12-17  nhsRegion     London  E40000003            220          91774   \n",
       "2021-12-16  nhsRegion     London  E40000003            193          91554   \n",
       "2021-12-15  nhsRegion     London  E40000003            201          91361   \n",
       "2021-12-14  nhsRegion     London  E40000003            199          91160   \n",
       "\n",
       "           areaType_y areaName_y areaCode_y  newCasesBySpecimenDate  \\\n",
       "2021-12-18     region     London  E12000007                   22392   \n",
       "2021-12-17     region     London  E12000007                   24209   \n",
       "2021-12-16     region     London  E12000007                   26823   \n",
       "2021-12-15     region     London  E12000007                   27741   \n",
       "2021-12-14     region     London  E12000007                   26639   \n",
       "\n",
       "            cumCasesBySpecimenDate UKHSA_region     n  percent  \\\n",
       "2021-12-18                 1553610       London  7364    88.51   \n",
       "2021-12-17                 1531218       London  7174    87.06   \n",
       "2021-12-16                 1507009       London  8940    86.00   \n",
       "2021-12-15                 1480186       London  7530    83.90   \n",
       "2021-12-14                 1452445       London  6815    79.86   \n",
       "\n",
       "                                 sgtf  total   conf_low  conf_high  Hosp+7D  \\\n",
       "2021-12-18  Cases with confirmed SGTF   8320  87.800358  89.183016    364.0   \n",
       "2021-12-17  Cases with confirmed SGTF   8240  86.314959  87.776424    278.0   \n",
       "2021-12-16  Cases with confirmed SGTF  10395  85.317694  86.661286    390.0   \n",
       "2021-12-15  Cases with confirmed SGTF   8975  83.119192  84.651031    386.0   \n",
       "2021-12-14  Cases with confirmed SGTF   8534  78.986823  80.700210    307.0   \n",
       "\n",
       "            Hosp_rate  SGTF %  \n",
       "2021-12-18   1.625581   88.51  \n",
       "2021-12-17   1.148333   87.06  \n",
       "2021-12-16   1.453976   86.00  \n",
       "2021-12-15   1.391442   83.90  \n",
       "2021-12-14   1.152446   79.86  "
      ]
     },
     "execution_count": 16,
     "metadata": {},
     "output_type": "execute_result"
    }
   ],
   "source": [
    "london_sgtf_analysis.head()"
   ]
  },
  {
   "cell_type": "code",
   "execution_count": 17,
   "metadata": {},
   "outputs": [
    {
     "name": "stderr",
     "output_type": "stream",
     "text": [
      "No handles with labels found to put in legend.\n"
     ]
    },
    {
     "data": {
      "text/plain": [
       "<matplotlib.collections.PathCollection at 0x1c79026de08>"
      ]
     },
     "execution_count": 17,
     "metadata": {},
     "output_type": "execute_result"
    },
    {
     "data": {
      "image/png": "[encoded data removed]",
      "text/plain": [
       "<Figure size 432x288 with 1 Axes>"
      ]
     },
     "metadata": {
      "needs_background": "light"
     },
     "output_type": "display_data"
    }
   ],
   "source": [
    "from scipy.optimize import curve_fit\n",
    "\n",
    "def func(x, a, b):\n",
    "    return a * x + b\n",
    "\n",
    "# def func(x, a, b, c):\n",
    "#     return a*np.exp(-b*x) + c\n",
    "\n",
    "popt, pcov = curve_fit(func, london_sgtf_analysis['SGTF %'], london_sgtf_analysis['Hosp_rate'])\n",
    "\n",
    "plt.plot(london_sgtf_analysis['SGTF %'], func(london_sgtf_analysis['SGTF %'], *popt), 'r-')\n",
    "plt.scatter(x=london_sgtf_analysis['SGTF %'],y=london_sgtf_analysis['Hosp_rate'])\n",
    "\n",
    "forecast_range=np.arange(london_sgtf_analysis['SGTF %'].values[-1],100,1)\n",
    "plt.plot(forecast_range, func(forecast_range, *popt), 'r-', ls='--')\n",
    "\n",
    "plt.legend()\n",
    "plt.xlabel('Cases with SGTF %')\n",
    "plt.ylabel('Hospitalisation Rate %')\n",
    "plt.title('Variation in Hospitalisation Rate with Omicron/SGTF Prevalence')\n",
    "\n",
    "best_hosp_rate=func(forecast_range, *popt)[-1]\n",
    "plt.text(x=50,y=2.6,s='Forecast Best Hosp. Rate: '+str(np.round(func(forecast_range, *popt)[-1],2))+'%',c='r')\n",
    "plt.scatter(x=100,y=func(forecast_range, *popt)[-1])"
   ]
  },
  {
   "cell_type": "code",
   "execution_count": null,
   "metadata": {},
   "outputs": [],
   "source": []
  }
 ],
 "metadata": {
  "interpreter": {
   "hash": "f5976e2e383d46ed05c5d110b20095968bd54bb858fe8bcd09909ae02eceb0cd"
  },
  "kernelspec": {
   "display_name": "Python 3.8.5 64-bit",
   "language": "python",
   "name": "python3"
  },
  "language_info": {
   "codemirror_mode": {
    "name": "ipython",
    "version": 3
   },
   "file_extension": ".py",
   "mimetype": "text/x-python",
   "name": "python",
   "nbconvert_exporter": "python",
   "pygments_lexer": "ipython3",
   "version": "3.7.4"
  },
  "orig_nbformat": 4
 },
 "nbformat": 4,
 "nbformat_minor": 2
}
