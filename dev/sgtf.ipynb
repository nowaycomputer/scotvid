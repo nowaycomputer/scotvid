{
 "cells": [
  {
   "cell_type": "code",
   "execution_count": 169,
   "metadata": {},
   "outputs": [],
   "source": [
    "import pandas as pd\n",
    "import numpy as np\n",
    "from scipy.optimize import curve_fit\n",
    "import matplotlib.pyplot as plt"
   ]
  },
  {
   "cell_type": "code",
   "execution_count": 220,
   "metadata": {},
   "outputs": [],
   "source": [
    "df_sgtf=pd.read_csv('../data/sgtf.csv', index_col='Date',parse_dates=True, infer_datetime_format=\"D/M/Y\")\n",
    "df_cases=pd.read_csv('https://www.opendata.nhs.scot/dataset/b318bddf-a4dc-4262-971f-0ba329e09b87/resource/287fc645-4352-4477-9c8c-55bc054b7e76/download/daily_cuml_scot_20211206.csv', index_col='Date',parse_dates=True)\n",
    "df_hospital=pd.read_csv('https://www.opendata.nhs.scot/dataset/b318bddf-a4dc-4262-971f-0ba329e09b87/resource/2dd8534b-0a6f-4744-9253-9565d62f96c2/download/trend_hb_20211206.csv', index_col='Date',parse_dates=True)\n",
    "\n",
    "df_hospital=df_hospital[df_hospital['HBName']=='Scotland']"
   ]
  },
  {
   "cell_type": "code",
   "execution_count": 223,
   "metadata": {},
   "outputs": [
    {
     "data": {
      "text/plain": [
       "<matplotlib.collections.PathCollection at 0x1d92d4a01c8>"
      ]
     },
     "execution_count": 223,
     "metadata": {},
     "output_type": "execute_result"
    },
    {
     "data": {
      "image/png": "[encoded data removed]",
      "text/plain": [
       "<Figure size 432x288 with 1 Axes>"
      ]
     },
     "metadata": {
      "needs_background": "light"
     },
     "output_type": "display_data"
    }
   ],
   "source": [
    "\n",
    "y_data=df_sgtf['SGTF %'].values\n",
    "x_data=np.arange(0,len(y_data),1)\n",
    "\n",
    "def func(x, L ,x0, k, b):\n",
    "    return L / (1 + np.exp(-k*(x-x0)))+b\n",
    "\n",
    "p0 = [max(y_data), np.median(x_data),1,min(y_data)] # this is an mandatory initial guess\n",
    "\n",
    "popt, pcov = curve_fit(func, x_data, y_data,p0)\n",
    "forecast_range=np.arange(x_data[-1],50,1)\n",
    "\n",
    "plt.plot(forecast_range, func(forecast_range, *popt), 'r-', ls='--')\n",
    "\n",
    "plt.plot(x_data, func(x_data, *popt), 'r-')\n",
    "\n",
    "plt.scatter(x=x_data,y=y_data)\n"
   ]
  },
  {
   "cell_type": "code",
   "execution_count": 224,
   "metadata": {},
   "outputs": [
    {
     "data": {
      "text/html": [
       "<div>\n",
       "<style scoped>\n",
       "    .dataframe tbody tr th:only-of-type {\n",
       "        vertical-align: middle;\n",
       "    }\n",
       "\n",
       "    .dataframe tbody tr th {\n",
       "        vertical-align: top;\n",
       "    }\n",
       "\n",
       "    .dataframe thead th {\n",
       "        text-align: right;\n",
       "    }\n",
       "</style>\n",
       "<table border=\"1\" class=\"dataframe\">\n",
       "  <thead>\n",
       "    <tr style=\"text-align: right;\">\n",
       "      <th></th>\n",
       "      <th>HB</th>\n",
       "      <th>HBName</th>\n",
       "      <th>DailyPositive</th>\n",
       "      <th>CumulativePositive</th>\n",
       "      <th>CrudeRatePositive</th>\n",
       "      <th>CrudeRate7DayPositive</th>\n",
       "      <th>DailyDeaths</th>\n",
       "      <th>CumulativeDeaths</th>\n",
       "      <th>CrudeRateDeaths</th>\n",
       "      <th>DailyNegative</th>\n",
       "      <th>...</th>\n",
       "      <th>TotalPillar2</th>\n",
       "      <th>HospitalAdmissions</th>\n",
       "      <th>HospitalAdmissionsQF</th>\n",
       "      <th>ICUAdmissions</th>\n",
       "      <th>ICUAdmissionsQF</th>\n",
       "      <th>PositivePillar1</th>\n",
       "      <th>PositivePillar2</th>\n",
       "      <th>SGTF %</th>\n",
       "      <th>Hosp+7D</th>\n",
       "      <th>Hosp_rate</th>\n",
       "    </tr>\n",
       "    <tr>\n",
       "      <th>Date</th>\n",
       "      <th></th>\n",
       "      <th></th>\n",
       "      <th></th>\n",
       "      <th></th>\n",
       "      <th></th>\n",
       "      <th></th>\n",
       "      <th></th>\n",
       "      <th></th>\n",
       "      <th></th>\n",
       "      <th></th>\n",
       "      <th></th>\n",
       "      <th></th>\n",
       "      <th></th>\n",
       "      <th></th>\n",
       "      <th></th>\n",
       "      <th></th>\n",
       "      <th></th>\n",
       "      <th></th>\n",
       "      <th></th>\n",
       "      <th></th>\n",
       "      <th></th>\n",
       "    </tr>\n",
       "  </thead>\n",
       "  <tbody>\n",
       "    <tr>\n",
       "      <th>2021-12-14</th>\n",
       "      <td>S92000003</td>\n",
       "      <td>Scotland</td>\n",
       "      <td>6255</td>\n",
       "      <td>785115</td>\n",
       "      <td>14363.611416</td>\n",
       "      <td>552.872302</td>\n",
       "      <td>7</td>\n",
       "      <td>9785</td>\n",
       "      <td>179.015734</td>\n",
       "      <td>10663</td>\n",
       "      <td>...</td>\n",
       "      <td>43667</td>\n",
       "      <td>51.0</td>\n",
       "      <td>NaN</td>\n",
       "      <td>3.0</td>\n",
       "      <td>NaN</td>\n",
       "      <td>325</td>\n",
       "      <td>6519</td>\n",
       "      <td>27.5</td>\n",
       "      <td>NaN</td>\n",
       "      <td>NaN</td>\n",
       "    </tr>\n",
       "    <tr>\n",
       "      <th>2021-12-15</th>\n",
       "      <td>S92000003</td>\n",
       "      <td>Scotland</td>\n",
       "      <td>6841</td>\n",
       "      <td>791956</td>\n",
       "      <td>14488.766923</td>\n",
       "      <td>602.579583</td>\n",
       "      <td>4</td>\n",
       "      <td>9789</td>\n",
       "      <td>179.088913</td>\n",
       "      <td>10608</td>\n",
       "      <td>...</td>\n",
       "      <td>44469</td>\n",
       "      <td>64.0</td>\n",
       "      <td>NaN</td>\n",
       "      <td>3.0</td>\n",
       "      <td>NaN</td>\n",
       "      <td>309</td>\n",
       "      <td>7237</td>\n",
       "      <td>36.5</td>\n",
       "      <td>NaN</td>\n",
       "      <td>NaN</td>\n",
       "    </tr>\n",
       "    <tr>\n",
       "      <th>2021-12-16</th>\n",
       "      <td>S92000003</td>\n",
       "      <td>Scotland</td>\n",
       "      <td>6255</td>\n",
       "      <td>798211</td>\n",
       "      <td>14603.201610</td>\n",
       "      <td>644.474936</td>\n",
       "      <td>2</td>\n",
       "      <td>9791</td>\n",
       "      <td>179.125503</td>\n",
       "      <td>9499</td>\n",
       "      <td>...</td>\n",
       "      <td>42624</td>\n",
       "      <td>65.0</td>\n",
       "      <td>NaN</td>\n",
       "      <td>6.0</td>\n",
       "      <td>NaN</td>\n",
       "      <td>291</td>\n",
       "      <td>6675</td>\n",
       "      <td>45.5</td>\n",
       "      <td>NaN</td>\n",
       "      <td>NaN</td>\n",
       "    </tr>\n",
       "    <tr>\n",
       "      <th>2021-12-17</th>\n",
       "      <td>S92000003</td>\n",
       "      <td>Scotland</td>\n",
       "      <td>5563</td>\n",
       "      <td>803774</td>\n",
       "      <td>14704.976217</td>\n",
       "      <td>678.192462</td>\n",
       "      <td>6</td>\n",
       "      <td>9797</td>\n",
       "      <td>179.235273</td>\n",
       "      <td>8216</td>\n",
       "      <td>...</td>\n",
       "      <td>35926</td>\n",
       "      <td>57.0</td>\n",
       "      <td>NaN</td>\n",
       "      <td>3.0</td>\n",
       "      <td>NaN</td>\n",
       "      <td>270</td>\n",
       "      <td>5882</td>\n",
       "      <td>51.4</td>\n",
       "      <td>NaN</td>\n",
       "      <td>NaN</td>\n",
       "    </tr>\n",
       "    <tr>\n",
       "      <th>2021-12-18</th>\n",
       "      <td>S92000003</td>\n",
       "      <td>Scotland</td>\n",
       "      <td>4823</td>\n",
       "      <td>808597</td>\n",
       "      <td>14793.212587</td>\n",
       "      <td>707.317966</td>\n",
       "      <td>5</td>\n",
       "      <td>9802</td>\n",
       "      <td>179.326747</td>\n",
       "      <td>6183</td>\n",
       "      <td>...</td>\n",
       "      <td>27112</td>\n",
       "      <td>44.0</td>\n",
       "      <td>NaN</td>\n",
       "      <td>2.0</td>\n",
       "      <td>NaN</td>\n",
       "      <td>229</td>\n",
       "      <td>5203</td>\n",
       "      <td>51.1</td>\n",
       "      <td>NaN</td>\n",
       "      <td>NaN</td>\n",
       "    </tr>\n",
       "    <tr>\n",
       "      <th>2021-12-19</th>\n",
       "      <td>S92000003</td>\n",
       "      <td>Scotland</td>\n",
       "      <td>5167</td>\n",
       "      <td>813764</td>\n",
       "      <td>14887.742408</td>\n",
       "      <td>740.998902</td>\n",
       "      <td>4</td>\n",
       "      <td>9806</td>\n",
       "      <td>179.399927</td>\n",
       "      <td>5641</td>\n",
       "      <td>...</td>\n",
       "      <td>26795</td>\n",
       "      <td>40.0</td>\n",
       "      <td>NaN</td>\n",
       "      <td>0.0</td>\n",
       "      <td>NaN</td>\n",
       "      <td>203</td>\n",
       "      <td>5603</td>\n",
       "      <td>54.2</td>\n",
       "      <td>NaN</td>\n",
       "      <td>NaN</td>\n",
       "    </tr>\n",
       "    <tr>\n",
       "      <th>2021-12-20</th>\n",
       "      <td>S92000003</td>\n",
       "      <td>Scotland</td>\n",
       "      <td>7158</td>\n",
       "      <td>820922</td>\n",
       "      <td>15018.697402</td>\n",
       "      <td>769.520673</td>\n",
       "      <td>4</td>\n",
       "      <td>9810</td>\n",
       "      <td>179.473106</td>\n",
       "      <td>8611</td>\n",
       "      <td>...</td>\n",
       "      <td>38308</td>\n",
       "      <td>NaN</td>\n",
       "      <td>:</td>\n",
       "      <td>9.0</td>\n",
       "      <td>NaN</td>\n",
       "      <td>426</td>\n",
       "      <td>7635</td>\n",
       "      <td>57.9</td>\n",
       "      <td>NaN</td>\n",
       "      <td>NaN</td>\n",
       "    </tr>\n",
       "    <tr>\n",
       "      <th>2021-12-21</th>\n",
       "      <td>S92000003</td>\n",
       "      <td>Scotland</td>\n",
       "      <td>3050</td>\n",
       "      <td>823972</td>\n",
       "      <td>15074.496890</td>\n",
       "      <td>710.885474</td>\n",
       "      <td>1</td>\n",
       "      <td>9811</td>\n",
       "      <td>179.491401</td>\n",
       "      <td>3424</td>\n",
       "      <td>...</td>\n",
       "      <td>12798</td>\n",
       "      <td>NaN</td>\n",
       "      <td>:</td>\n",
       "      <td>7.0</td>\n",
       "      <td>NaN</td>\n",
       "      <td>451</td>\n",
       "      <td>3011</td>\n",
       "      <td>62.9</td>\n",
       "      <td>NaN</td>\n",
       "      <td>NaN</td>\n",
       "    </tr>\n",
       "  </tbody>\n",
       "</table>\n",
       "<p>8 rows × 27 columns</p>\n",
       "</div>"
      ],
      "text/plain": [
       "                   HB    HBName  DailyPositive  CumulativePositive  \\\n",
       "Date                                                                 \n",
       "2021-12-14  S92000003  Scotland           6255              785115   \n",
       "2021-12-15  S92000003  Scotland           6841              791956   \n",
       "2021-12-16  S92000003  Scotland           6255              798211   \n",
       "2021-12-17  S92000003  Scotland           5563              803774   \n",
       "2021-12-18  S92000003  Scotland           4823              808597   \n",
       "2021-12-19  S92000003  Scotland           5167              813764   \n",
       "2021-12-20  S92000003  Scotland           7158              820922   \n",
       "2021-12-21  S92000003  Scotland           3050              823972   \n",
       "\n",
       "            CrudeRatePositive  CrudeRate7DayPositive  DailyDeaths  \\\n",
       "Date                                                                \n",
       "2021-12-14       14363.611416             552.872302            7   \n",
       "2021-12-15       14488.766923             602.579583            4   \n",
       "2021-12-16       14603.201610             644.474936            2   \n",
       "2021-12-17       14704.976217             678.192462            6   \n",
       "2021-12-18       14793.212587             707.317966            5   \n",
       "2021-12-19       14887.742408             740.998902            4   \n",
       "2021-12-20       15018.697402             769.520673            4   \n",
       "2021-12-21       15074.496890             710.885474            1   \n",
       "\n",
       "            CumulativeDeaths  CrudeRateDeaths  DailyNegative  ...  \\\n",
       "Date                                                          ...   \n",
       "2021-12-14              9785       179.015734          10663  ...   \n",
       "2021-12-15              9789       179.088913          10608  ...   \n",
       "2021-12-16              9791       179.125503           9499  ...   \n",
       "2021-12-17              9797       179.235273           8216  ...   \n",
       "2021-12-18              9802       179.326747           6183  ...   \n",
       "2021-12-19              9806       179.399927           5641  ...   \n",
       "2021-12-20              9810       179.473106           8611  ...   \n",
       "2021-12-21              9811       179.491401           3424  ...   \n",
       "\n",
       "            TotalPillar2  HospitalAdmissions  HospitalAdmissionsQF  \\\n",
       "Date                                                                 \n",
       "2021-12-14         43667                51.0                   NaN   \n",
       "2021-12-15         44469                64.0                   NaN   \n",
       "2021-12-16         42624                65.0                   NaN   \n",
       "2021-12-17         35926                57.0                   NaN   \n",
       "2021-12-18         27112                44.0                   NaN   \n",
       "2021-12-19         26795                40.0                   NaN   \n",
       "2021-12-20         38308                 NaN                     :   \n",
       "2021-12-21         12798                 NaN                     :   \n",
       "\n",
       "            ICUAdmissions  ICUAdmissionsQF  PositivePillar1  PositivePillar2  \\\n",
       "Date                                                                           \n",
       "2021-12-14            3.0              NaN              325             6519   \n",
       "2021-12-15            3.0              NaN              309             7237   \n",
       "2021-12-16            6.0              NaN              291             6675   \n",
       "2021-12-17            3.0              NaN              270             5882   \n",
       "2021-12-18            2.0              NaN              229             5203   \n",
       "2021-12-19            0.0              NaN              203             5603   \n",
       "2021-12-20            9.0              NaN              426             7635   \n",
       "2021-12-21            7.0              NaN              451             3011   \n",
       "\n",
       "            SGTF %  Hosp+7D Hosp_rate  \n",
       "Date                                   \n",
       "2021-12-14    27.5      NaN       NaN  \n",
       "2021-12-15    36.5      NaN       NaN  \n",
       "2021-12-16    45.5      NaN       NaN  \n",
       "2021-12-17    51.4      NaN       NaN  \n",
       "2021-12-18    51.1      NaN       NaN  \n",
       "2021-12-19    54.2      NaN       NaN  \n",
       "2021-12-20    57.9      NaN       NaN  \n",
       "2021-12-21    62.9      NaN       NaN  \n",
       "\n",
       "[8 rows x 27 columns]"
      ]
     },
     "execution_count": 224,
     "metadata": {},
     "output_type": "execute_result"
    }
   ],
   "source": [
    "df_sgtf_analysis=pd.merge(df_hospital, df_sgtf, left_index=True, right_index=True)\n",
    "df_sgtf_analysis['Hosp+7D']=df_sgtf_analysis['HospitalAdmissions'].shift(-7)\n",
    "df_sgtf_analysis['Hosp_rate']=100*(df_sgtf_analysis['Hosp+7D']/df_sgtf_analysis['DailyPositive'])\n",
    "df_sgtf_analysis['SGTF %']=100*df_sgtf_analysis['SGTF %']\n",
    "df_sgtf_analysis.tail(8)"
   ]
  },
  {
   "cell_type": "code",
   "execution_count": 217,
   "metadata": {},
   "outputs": [
    {
     "data": {
      "text/html": [
       "<div>\n",
       "<style scoped>\n",
       "    .dataframe tbody tr th:only-of-type {\n",
       "        vertical-align: middle;\n",
       "    }\n",
       "\n",
       "    .dataframe tbody tr th {\n",
       "        vertical-align: top;\n",
       "    }\n",
       "\n",
       "    .dataframe thead th {\n",
       "        text-align: right;\n",
       "    }\n",
       "</style>\n",
       "<table border=\"1\" class=\"dataframe\">\n",
       "  <thead>\n",
       "    <tr style=\"text-align: right;\">\n",
       "      <th></th>\n",
       "      <th>SGTF %</th>\n",
       "      <th>Hosp_rate</th>\n",
       "    </tr>\n",
       "    <tr>\n",
       "      <th>Date</th>\n",
       "      <th></th>\n",
       "      <th></th>\n",
       "    </tr>\n",
       "  </thead>\n",
       "  <tbody>\n",
       "    <tr>\n",
       "      <th>2021-12-08</th>\n",
       "      <td>6.9</td>\n",
       "      <td>1.551891</td>\n",
       "    </tr>\n",
       "    <tr>\n",
       "      <th>2021-12-09</th>\n",
       "      <td>13.5</td>\n",
       "      <td>1.639344</td>\n",
       "    </tr>\n",
       "    <tr>\n",
       "      <th>2021-12-10</th>\n",
       "      <td>15.5</td>\n",
       "      <td>1.532258</td>\n",
       "    </tr>\n",
       "    <tr>\n",
       "      <th>2021-12-11</th>\n",
       "      <td>18.0</td>\n",
       "      <td>1.361807</td>\n",
       "    </tr>\n",
       "    <tr>\n",
       "      <th>2021-12-12</th>\n",
       "      <td>20.0</td>\n",
       "      <td>1.202646</td>\n",
       "    </tr>\n",
       "  </tbody>\n",
       "</table>\n",
       "</div>"
      ],
      "text/plain": [
       "            SGTF %  Hosp_rate\n",
       "Date                         \n",
       "2021-12-08     6.9   1.551891\n",
       "2021-12-09    13.5   1.639344\n",
       "2021-12-10    15.5   1.532258\n",
       "2021-12-11    18.0   1.361807\n",
       "2021-12-12    20.0   1.202646"
      ]
     },
     "execution_count": 217,
     "metadata": {},
     "output_type": "execute_result"
    }
   ],
   "source": [
    "df_sgtf_analysis=df_sgtf_analysis[['SGTF %', 'Hosp_rate']]\n",
    "# df_sgtf_analysis=df_sgtf_analysis[df_sgtf_analysis['SGTF %']>1]\n",
    "df_sgtf_analysis=df_sgtf_analysis.dropna()\n",
    "df_sgtf_analysis.tail()"
   ]
  },
  {
   "cell_type": "code",
   "execution_count": 218,
   "metadata": {},
   "outputs": [
    {
     "data": {
      "text/plain": [
       "Text(0.5, 1.0, 'Variation in Hospitalisation Rate with Omicron/SGTF Prevalence')"
      ]
     },
     "execution_count": 218,
     "metadata": {},
     "output_type": "execute_result"
    },
    {
     "data": {
      "image/png": "[encoded data removed]",
      "text/plain": [
       "<Figure size 432x288 with 1 Axes>"
      ]
     },
     "metadata": {
      "needs_background": "light"
     },
     "output_type": "display_data"
    }
   ],
   "source": [
    "plt.scatter(x=df_sgtf_analysis['SGTF %'],y=df_sgtf_analysis['Hosp_rate'])\n",
    "plt.xlabel('Cases with SGTF %')\n",
    "plt.ylabel('Hospitalisation Rate %')\n",
    "plt.title('Variation in Hospitalisation Rate with Omicron/SGTF Prevalence')"
   ]
  },
  {
   "cell_type": "code",
   "execution_count": 219,
   "metadata": {},
   "outputs": [
    {
     "name": "stderr",
     "output_type": "stream",
     "text": [
      "No handles with labels found to put in legend.\n"
     ]
    },
    {
     "data": {
      "text/plain": [
       "<matplotlib.collections.PathCollection at 0x1d92d041508>"
      ]
     },
     "execution_count": 219,
     "metadata": {},
     "output_type": "execute_result"
    },
    {
     "data": {
      "image/png": "[encoded data removed]",
      "text/plain": [
       "<Figure size 432x288 with 1 Axes>"
      ]
     },
     "metadata": {
      "needs_background": "light"
     },
     "output_type": "display_data"
    }
   ],
   "source": [
    "from scipy.optimize import curve_fit\n",
    "\n",
    "# def func(x, a, b):\n",
    "#     return a * x + b\n",
    "\n",
    "def func(x, a, b, c):\n",
    "    return a*np.exp(-b*x) + c\n",
    "\n",
    "\n",
    "popt, pcov = curve_fit(func, df_sgtf_analysis['SGTF %'], df_sgtf_analysis['Hosp_rate'])\n",
    "\n",
    "plt.plot(df_sgtf_analysis['SGTF %'], func(df_sgtf_analysis['SGTF %'], *popt), 'r-')\n",
    "plt.scatter(x=df_sgtf_analysis['SGTF %'],y=df_sgtf_analysis['Hosp_rate'])\n",
    "\n",
    "forecast_range=np.arange(df_sgtf_analysis['SGTF %'].values[-1],70,1)\n",
    "plt.plot(forecast_range, func(forecast_range, *popt), 'r-', ls='--')\n",
    "\n",
    "plt.legend()\n",
    "plt.xlabel('Cases with SGTF %')\n",
    "plt.ylabel('Hospitalisation Rate %')\n",
    "plt.title('Variation in Hospitalisation Rate with Omicron/SGTF Prevalence')\n",
    "\n",
    "best_hosp_rate=func(forecast_range, *popt)[-1]\n",
    "plt.text(x=50,y=1.6,s='Forecast Best Hosp. Rate: '+str(np.round(func(forecast_range, *popt)[-1],2))+'%',c='r')\n",
    "plt.scatter(x=70,y=func(forecast_range, *popt)[-1])"
   ]
  },
  {
   "cell_type": "code",
   "execution_count": 193,
   "metadata": {},
   "outputs": [],
   "source": [
    "from datetime import datetime\n",
    "custom_date_parser = lambda x: datetime.strptime(x, \"%d/%m/%Y\")\n",
    "\n",
    "df_gov_sgtf=pd.read_csv('https://assets.publishing.service.gov.uk/government/uploads/system/uploads/attachment_data/file/1043759/sgtf_regionepicurve_2021-12-22.csv',index_col='specimen_date',parse_dates=True,date_parser=custom_date_parser)\n",
    "df_gov_sgtf_lon=df_gov_sgtf[(df_gov_sgtf['UKHSA_region']=='London') & (df_gov_sgtf['sgtf']=='Cases with confirmed SGTF')]\n",
    "london_cases=pd.read_csv('https://coronavirus.data.gov.uk/api/v1/data?filters=areaType=region;areaName=London&structure=%7B%22areaType%22:%22areaType%22,%22areaName%22:%22areaName%22,%22areaCode%22:%22areaCode%22,%22date%22:%22date%22,%22newCasesBySpecimenDate%22:%22newCasesBySpecimenDate%22,%22cumCasesBySpecimenDate%22:%22cumCasesBySpecimenDate%22%7D&format=csv',index_col='date',parse_dates=True,infer_datetime_format=\"D/M/Y\")\n",
    "london_hospital_admissions=pd.read_csv('https://coronavirus.data.gov.uk/api/v1/data?filters=areaType=nhsRegion;areaName=London&structure=%7B%22areaType%22:%22areaType%22,%22areaName%22:%22areaName%22,%22areaCode%22:%22areaCode%22,%22date%22:%22date%22,%22newAdmissions%22:%22newAdmissions%22,%22cumAdmissions%22:%22cumAdmissions%22%7D&format=csv',index_col='date',parse_dates=True,infer_datetime_format=\"D/M/Y\")"
   ]
  },
  {
   "cell_type": "code",
   "execution_count": 194,
   "metadata": {},
   "outputs": [],
   "source": [
    "london_sgtf_analysis=pd.merge(london_hospital_admissions['newAdmissions'],london_cases['newCasesBySpecimenDate'],left_index=True,right_index=True)\n",
    "london_sgtf_analysis=pd.merge(london_sgtf_analysis,df_gov_sgtf_lon['percent'].tail(20),left_index=True,right_on='specimen_date')"
   ]
  },
  {
   "cell_type": "code",
   "execution_count": 195,
   "metadata": {},
   "outputs": [
    {
     "data": {
      "text/plain": [
       "(0.0, 100.0)"
      ]
     },
     "execution_count": 195,
     "metadata": {},
     "output_type": "execute_result"
    },
    {
     "data": {
      "image/png": "[encoded data removed]",
      "text/plain": [
       "<Figure size 432x288 with 1 Axes>"
      ]
     },
     "metadata": {
      "needs_background": "light"
     },
     "output_type": "display_data"
    }
   ],
   "source": [
    "london_sgtf_analysis.plot()\n",
    "plt.ylim(0,100)"
   ]
  },
  {
   "cell_type": "code",
   "execution_count": 196,
   "metadata": {},
   "outputs": [],
   "source": [
    "y_data=df_gov_sgtf_lon['percent'].tail(25).values\n",
    "x_data=np.arange(0,len(y_data),1)\n",
    "\n",
    "def func(x, L ,x0, k, b):\n",
    "    return L / (1 + np.exp(-k*(x-x0)))+b\n",
    "\n",
    "p0 = [max(y_data), np.median(x_data),1,min(y_data)] # this is an mandatory initial guess\n",
    "\n",
    "popt, pcov = curve_fit(func, x_data, y_data,p0)"
   ]
  },
  {
   "cell_type": "code",
   "execution_count": 197,
   "metadata": {},
   "outputs": [
    {
     "data": {
      "text/plain": [
       "(0.0, 100.0)"
      ]
     },
     "execution_count": 197,
     "metadata": {},
     "output_type": "execute_result"
    },
    {
     "data": {
      "image/png": "[encoded data removed]",
      "text/plain": [
       "<Figure size 432x288 with 1 Axes>"
      ]
     },
     "metadata": {
      "needs_background": "light"
     },
     "output_type": "display_data"
    }
   ],
   "source": [
    "plt.plot(x_data, func(x_data, *popt), 'r-')\n",
    "\n",
    "forecast_range=np.arange(25,35,1)\n",
    "plt.plot(forecast_range, func(forecast_range, *popt), 'r-', ls='--')\n",
    "\n",
    "plt.scatter(x=x_data,y=y_data)\n",
    "# df_gov_sgtf_lon['percent'].tail(25).plot()\n",
    "# # plt.legend()\n",
    "# # plt.xlabel('Cases with SGTF %')\n",
    "# # plt.ylabel('Hospitalisation Rate %')\n",
    "# # plt.title('Variation in Hospitalisation Rate with Omicron/SGTF Prevalence')\n",
    "plt.ylim(0,100)"
   ]
  },
  {
   "cell_type": "code",
   "execution_count": 198,
   "metadata": {},
   "outputs": [],
   "source": [
    "london_sgtf_analysis=pd.merge(london_hospital_admissions, london_cases, left_index=True, right_index=True)\n",
    "london_sgtf_analysis=pd.merge(london_sgtf_analysis,df_gov_sgtf_lon,left_index=True,right_index=True)\n"
   ]
  },
  {
   "cell_type": "code",
   "execution_count": 199,
   "metadata": {},
   "outputs": [],
   "source": [
    "london_sgtf_analysis['Hosp+7D']=london_sgtf_analysis['newAdmissions'].shift(7)\n",
    "london_sgtf_analysis=london_sgtf_analysis.dropna()\n",
    "london_sgtf_analysis['Hosp_rate']=100*(london_sgtf_analysis['Hosp+7D']/london_sgtf_analysis['newCasesBySpecimenDate'])\n",
    "london_sgtf_analysis['SGTF %']=london_sgtf_analysis['percent']\n",
    "london_sgtf_analysis=london_sgtf_analysis[london_sgtf_analysis['SGTF %']>1]"
   ]
  },
  {
   "cell_type": "code",
   "execution_count": 200,
   "metadata": {},
   "outputs": [
    {
     "data": {
      "text/plain": [
       "Text(0.5, 1.0, 'Variation in Hospitalisation Rate with Omicron/SGTF Prevalence')"
      ]
     },
     "execution_count": 200,
     "metadata": {},
     "output_type": "execute_result"
    },
    {
     "data": {
      "image/png": "[encoded data removed]",
      "text/plain": [
       "<Figure size 432x288 with 1 Axes>"
      ]
     },
     "metadata": {
      "needs_background": "light"
     },
     "output_type": "display_data"
    }
   ],
   "source": [
    "plt.scatter(x=london_sgtf_analysis['SGTF %'],y=london_sgtf_analysis['Hosp_rate'])\n",
    "plt.xlabel('Cases with SGTF %')\n",
    "plt.ylabel('Hospitalisation Rate %')\n",
    "plt.title('Variation in Hospitalisation Rate with Omicron/SGTF Prevalence')\n",
    "# plt.yscale('log')\n",
    "# plt.ylim(0,10)"
   ]
  },
  {
   "cell_type": "code",
   "execution_count": 158,
   "metadata": {},
   "outputs": [
    {
     "data": {
      "text/html": [
       "<div>\n",
       "<style scoped>\n",
       "    .dataframe tbody tr th:only-of-type {\n",
       "        vertical-align: middle;\n",
       "    }\n",
       "\n",
       "    .dataframe tbody tr th {\n",
       "        vertical-align: top;\n",
       "    }\n",
       "\n",
       "    .dataframe thead th {\n",
       "        text-align: right;\n",
       "    }\n",
       "</style>\n",
       "<table border=\"1\" class=\"dataframe\">\n",
       "  <thead>\n",
       "    <tr style=\"text-align: right;\">\n",
       "      <th></th>\n",
       "      <th>areaType_x</th>\n",
       "      <th>areaName_x</th>\n",
       "      <th>areaCode_x</th>\n",
       "      <th>newAdmissions</th>\n",
       "      <th>cumAdmissions</th>\n",
       "      <th>areaType_y</th>\n",
       "      <th>areaName_y</th>\n",
       "      <th>areaCode_y</th>\n",
       "      <th>newCasesBySpecimenDate</th>\n",
       "      <th>cumCasesBySpecimenDate</th>\n",
       "      <th>UKHSA_region</th>\n",
       "      <th>n</th>\n",
       "      <th>percent</th>\n",
       "      <th>sgtf</th>\n",
       "      <th>total</th>\n",
       "      <th>conf_low</th>\n",
       "      <th>conf_high</th>\n",
       "      <th>Hosp+7D</th>\n",
       "      <th>Hosp_rate</th>\n",
       "      <th>SGTF %</th>\n",
       "    </tr>\n",
       "  </thead>\n",
       "  <tbody>\n",
       "    <tr>\n",
       "      <th>2021-12-12</th>\n",
       "      <td>nhsRegion</td>\n",
       "      <td>London</td>\n",
       "      <td>E40000003</td>\n",
       "      <td>157</td>\n",
       "      <td>90792</td>\n",
       "      <td>region</td>\n",
       "      <td>London</td>\n",
       "      <td>E12000007</td>\n",
       "      <td>11357</td>\n",
       "      <td>1404562</td>\n",
       "      <td>London</td>\n",
       "      <td>2131</td>\n",
       "      <td>59.54</td>\n",
       "      <td>Cases with confirmed SGTF</td>\n",
       "      <td>3579</td>\n",
       "      <td>57.910343</td>\n",
       "      <td>61.152561</td>\n",
       "      <td>245.0</td>\n",
       "      <td>2.157260</td>\n",
       "      <td>59.54</td>\n",
       "    </tr>\n",
       "    <tr>\n",
       "      <th>2021-12-11</th>\n",
       "      <td>nhsRegion</td>\n",
       "      <td>London</td>\n",
       "      <td>E40000003</td>\n",
       "      <td>166</td>\n",
       "      <td>90635</td>\n",
       "      <td>region</td>\n",
       "      <td>London</td>\n",
       "      <td>E12000007</td>\n",
       "      <td>9146</td>\n",
       "      <td>1393205</td>\n",
       "      <td>London</td>\n",
       "      <td>1004</td>\n",
       "      <td>51.62</td>\n",
       "      <td>Cases with confirmed SGTF</td>\n",
       "      <td>1945</td>\n",
       "      <td>49.371933</td>\n",
       "      <td>53.860683</td>\n",
       "      <td>210.0</td>\n",
       "      <td>2.296086</td>\n",
       "      <td>51.62</td>\n",
       "    </tr>\n",
       "    <tr>\n",
       "      <th>2021-12-10</th>\n",
       "      <td>nhsRegion</td>\n",
       "      <td>London</td>\n",
       "      <td>E40000003</td>\n",
       "      <td>162</td>\n",
       "      <td>90469</td>\n",
       "      <td>region</td>\n",
       "      <td>London</td>\n",
       "      <td>E12000007</td>\n",
       "      <td>9531</td>\n",
       "      <td>1384059</td>\n",
       "      <td>London</td>\n",
       "      <td>2056</td>\n",
       "      <td>44.47</td>\n",
       "      <td>Cases with confirmed SGTF</td>\n",
       "      <td>4623</td>\n",
       "      <td>43.035216</td>\n",
       "      <td>45.920602</td>\n",
       "      <td>220.0</td>\n",
       "      <td>2.308257</td>\n",
       "      <td>44.47</td>\n",
       "    </tr>\n",
       "    <tr>\n",
       "      <th>2021-12-09</th>\n",
       "      <td>nhsRegion</td>\n",
       "      <td>London</td>\n",
       "      <td>E40000003</td>\n",
       "      <td>142</td>\n",
       "      <td>90307</td>\n",
       "      <td>region</td>\n",
       "      <td>London</td>\n",
       "      <td>E12000007</td>\n",
       "      <td>9639</td>\n",
       "      <td>1374528</td>\n",
       "      <td>London</td>\n",
       "      <td>1535</td>\n",
       "      <td>40.15</td>\n",
       "      <td>Cases with confirmed SGTF</td>\n",
       "      <td>3823</td>\n",
       "      <td>38.595463</td>\n",
       "      <td>41.727902</td>\n",
       "      <td>193.0</td>\n",
       "      <td>2.002282</td>\n",
       "      <td>40.15</td>\n",
       "    </tr>\n",
       "    <tr>\n",
       "      <th>2021-12-08</th>\n",
       "      <td>nhsRegion</td>\n",
       "      <td>London</td>\n",
       "      <td>E40000003</td>\n",
       "      <td>132</td>\n",
       "      <td>90165</td>\n",
       "      <td>region</td>\n",
       "      <td>London</td>\n",
       "      <td>E12000007</td>\n",
       "      <td>9364</td>\n",
       "      <td>1364889</td>\n",
       "      <td>London</td>\n",
       "      <td>1075</td>\n",
       "      <td>34.88</td>\n",
       "      <td>Cases with confirmed SGTF</td>\n",
       "      <td>3082</td>\n",
       "      <td>33.201106</td>\n",
       "      <td>36.596798</td>\n",
       "      <td>201.0</td>\n",
       "      <td>2.146519</td>\n",
       "      <td>34.88</td>\n",
       "    </tr>\n",
       "  </tbody>\n",
       "</table>\n",
       "</div>"
      ],
      "text/plain": [
       "           areaType_x areaName_x areaCode_x  newAdmissions  cumAdmissions  \\\n",
       "2021-12-12  nhsRegion     London  E40000003            157          90792   \n",
       "2021-12-11  nhsRegion     London  E40000003            166          90635   \n",
       "2021-12-10  nhsRegion     London  E40000003            162          90469   \n",
       "2021-12-09  nhsRegion     London  E40000003            142          90307   \n",
       "2021-12-08  nhsRegion     London  E40000003            132          90165   \n",
       "\n",
       "           areaType_y areaName_y areaCode_y  newCasesBySpecimenDate  \\\n",
       "2021-12-12     region     London  E12000007                   11357   \n",
       "2021-12-11     region     London  E12000007                    9146   \n",
       "2021-12-10     region     London  E12000007                    9531   \n",
       "2021-12-09     region     London  E12000007                    9639   \n",
       "2021-12-08     region     London  E12000007                    9364   \n",
       "\n",
       "            cumCasesBySpecimenDate UKHSA_region     n  percent  \\\n",
       "2021-12-12                 1404562       London  2131    59.54   \n",
       "2021-12-11                 1393205       London  1004    51.62   \n",
       "2021-12-10                 1384059       London  2056    44.47   \n",
       "2021-12-09                 1374528       London  1535    40.15   \n",
       "2021-12-08                 1364889       London  1075    34.88   \n",
       "\n",
       "                                 sgtf  total   conf_low  conf_high  Hosp+7D  \\\n",
       "2021-12-12  Cases with confirmed SGTF   3579  57.910343  61.152561    245.0   \n",
       "2021-12-11  Cases with confirmed SGTF   1945  49.371933  53.860683    210.0   \n",
       "2021-12-10  Cases with confirmed SGTF   4623  43.035216  45.920602    220.0   \n",
       "2021-12-09  Cases with confirmed SGTF   3823  38.595463  41.727902    193.0   \n",
       "2021-12-08  Cases with confirmed SGTF   3082  33.201106  36.596798    201.0   \n",
       "\n",
       "            Hosp_rate  SGTF %  \n",
       "2021-12-12   2.157260   59.54  \n",
       "2021-12-11   2.296086   51.62  \n",
       "2021-12-10   2.308257   44.47  \n",
       "2021-12-09   2.002282   40.15  \n",
       "2021-12-08   2.146519   34.88  "
      ]
     },
     "execution_count": 158,
     "metadata": {},
     "output_type": "execute_result"
    }
   ],
   "source": [
    "london_sgtf_analysis.head()"
   ]
  },
  {
   "cell_type": "code",
   "execution_count": 202,
   "metadata": {},
   "outputs": [
    {
     "name": "stderr",
     "output_type": "stream",
     "text": [
      "No handles with labels found to put in legend.\n"
     ]
    },
    {
     "data": {
      "text/plain": [
       "<matplotlib.collections.PathCollection at 0x1d92d122d08>"
      ]
     },
     "execution_count": 202,
     "metadata": {},
     "output_type": "execute_result"
    },
    {
     "data": {
      "image/png": "[encoded data removed]",
      "text/plain": [
       "<Figure size 432x288 with 1 Axes>"
      ]
     },
     "metadata": {
      "needs_background": "light"
     },
     "output_type": "display_data"
    }
   ],
   "source": [
    "from scipy.optimize import curve_fit\n",
    "\n",
    "def func(x, a, b):\n",
    "    return a * x + b\n",
    "\n",
    "# def func(x, a, b, c):\n",
    "#     return a*np.exp(-b*x) + c\n",
    "\n",
    "popt, pcov = curve_fit(func, london_sgtf_analysis['SGTF %'], london_sgtf_analysis['Hosp_rate'])\n",
    "\n",
    "plt.plot(london_sgtf_analysis['SGTF %'], func(london_sgtf_analysis['SGTF %'], *popt), 'r-')\n",
    "plt.scatter(x=london_sgtf_analysis['SGTF %'],y=london_sgtf_analysis['Hosp_rate'])\n",
    "\n",
    "forecast_range=np.arange(london_sgtf_analysis['SGTF %'].values[-1],100,1)\n",
    "plt.plot(forecast_range, func(forecast_range, *popt), 'r-', ls='--')\n",
    "\n",
    "plt.legend()\n",
    "plt.xlabel('Cases with SGTF %')\n",
    "plt.ylabel('Hospitalisation Rate %')\n",
    "plt.title('Variation in Hospitalisation Rate with Omicron/SGTF Prevalence')\n",
    "\n",
    "best_hosp_rate=func(forecast_range, *popt)[-1]\n",
    "plt.text(x=50,y=2.6,s='Forecast Best Hosp. Rate: '+str(np.round(func(forecast_range, *popt)[-1],2))+'%',c='r')\n",
    "plt.scatter(x=100,y=func(forecast_range, *popt)[-1])"
   ]
  },
  {
   "cell_type": "code",
   "execution_count": null,
   "metadata": {},
   "outputs": [],
   "source": []
  }
 ],
 "metadata": {
  "interpreter": {
   "hash": "f5976e2e383d46ed05c5d110b20095968bd54bb858fe8bcd09909ae02eceb0cd"
  },
  "kernelspec": {
   "display_name": "Python 3.8.5 64-bit",
   "language": "python",
   "name": "python3"
  },
  "language_info": {
   "codemirror_mode": {
    "name": "ipython",
    "version": 3
   },
   "file_extension": ".py",
   "mimetype": "text/x-python",
   "name": "python",
   "nbconvert_exporter": "python",
   "pygments_lexer": "ipython3",
   "version": "3.7.4"
  },
  "orig_nbformat": 4
 },
 "nbformat": 4,
 "nbformat_minor": 2
}
